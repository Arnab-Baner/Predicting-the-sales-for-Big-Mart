{
  "nbformat": 4,
  "nbformat_minor": 0,
  "metadata": {
    "kernelspec": {
      "display_name": "Python 3",
      "language": "python",
      "name": "python3"
    },
    "language_info": {
      "codemirror_mode": {
        "name": "ipython",
        "version": 3
      },
      "file_extension": ".py",
      "mimetype": "text/x-python",
      "name": "python",
      "nbconvert_exporter": "python",
      "pygments_lexer": "ipython3",
      "version": "3.7.1"
    },
    "colab": {
      "name": "Big Mart Sales Prediction .ipynb",
      "provenance": [],
      "collapsed_sections": [
        "5JA_FKf8IxVB",
        "nfoq-C3tIxVp",
        "cVqmxm3pIxWj",
        "9Rc6wCdrIxXt",
        "CzO-8NK8IxYt",
        "6dP-u564IxZf",
        "GIBfLmFxIxZ3",
        "yFNpIz57IxaF",
        "hLOIs1a1Ixa_",
        "8yTZMvnaIxbZ",
        "homBZ6eOIxcs",
        "_FuIc8C0Ixdl",
        "6Z0LkvNhIxdy",
        "p3ErKzbdIxeR",
        "v6km56wYIxef",
        "IYRlyzW0Ixeg",
        "Rf4DZo3DIxey",
        "xgCjUm1PIxfM",
        "Ov3sJ_sgIxfN"
      ]
    }
  },
  "cells": [
    {
      "cell_type": "markdown",
      "metadata": {
        "id": "U6kkXsr_IxTE",
        "colab_type": "text"
      },
      "source": [
        "### Importing the libraries"
      ]
    },
    {
      "cell_type": "code",
      "metadata": {
        "id": "VCdlQtF1IxTL",
        "colab_type": "code",
        "colab": {}
      },
      "source": [
        "import numpy as np\n",
        "import pandas as pd\n",
        "import matplotlib.pyplot as plt\n",
        "import seaborn as sb\n",
        "from matplotlib.pylab import rcParams\n",
        "rcParams['figure.figsize'] = 20,8\n",
        "import os"
      ],
      "execution_count": null,
      "outputs": []
    },
    {
      "cell_type": "markdown",
      "metadata": {
        "id": "ydKufpefIxTc",
        "colab_type": "text"
      },
      "source": [
        "### Importing the dataset"
      ]
    },
    {
      "cell_type": "code",
      "metadata": {
        "id": "yN2Y0DdBJEx3",
        "colab_type": "code",
        "colab": {
          "resources": {
            "http://localhost:8080/nbextensions/google.colab/files.js": {
              "data": "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",
              "ok": true,
              "headers": [
                [
                  "content-type",
                  "application/javascript"
                ]
              ],
              "status": 200,
              "status_text": ""
            }
          },
          "base_uri": "https://localhost:8080/",
          "height": 106
        },
        "outputId": "26228e23-448d-491f-d89b-b944ae1ea3b0"
      },
      "source": [
        "from google.colab import files\n",
        "uploaded = files.upload()"
      ],
      "execution_count": null,
      "outputs": [
        {
          "output_type": "display_data",
          "data": {
            "text/html": [
              "\n",
              "     <input type=\"file\" id=\"files-494a602a-d65d-475b-a7a4-9db615334268\" name=\"files[]\" multiple disabled\n",
              "        style=\"border:none\" />\n",
              "     <output id=\"result-494a602a-d65d-475b-a7a4-9db615334268\">\n",
              "      Upload widget is only available when the cell has been executed in the\n",
              "      current browser session. Please rerun this cell to enable.\n",
              "      </output>\n",
              "      <script src=\"/nbextensions/google.colab/files.js\"></script> "
            ],
            "text/plain": [
              "<IPython.core.display.HTML object>"
            ]
          },
          "metadata": {
            "tags": []
          }
        },
        {
          "output_type": "stream",
          "text": [
            "Saving test_AbJTz2l (1).csv to test_AbJTz2l (1) (1).csv\n",
            "Saving train_v9rqX0R (1).csv to train_v9rqX0R (1) (1).csv\n"
          ],
          "name": "stdout"
        }
      ]
    },
    {
      "cell_type": "code",
      "metadata": {
        "id": "2bIgZ71tIxTe",
        "colab_type": "code",
        "colab": {
          "base_uri": "https://localhost:8080/",
          "height": 309
        },
        "outputId": "3046b250-fea2-447d-8074-816ef86bbb5d"
      },
      "source": [
        "import io\n",
        "df_train = pd.read_csv(io.BytesIO(uploaded[\"train_v9rqX0R (1).csv\"]))\n",
        "df_test = pd.read_csv(io.BytesIO(uploaded[\"test_AbJTz2l (1).csv\"]))\n",
        "df_train['Data'] = \"Train\"\n",
        "df_test['Data'] = \"Test\"\n",
        "df = pd.concat([df_train, df_test])\n",
        "df.head()"
      ],
      "execution_count": null,
      "outputs": [
        {
          "output_type": "execute_result",
          "data": {
            "text/html": [
              "<div>\n",
              "<style scoped>\n",
              "    .dataframe tbody tr th:only-of-type {\n",
              "        vertical-align: middle;\n",
              "    }\n",
              "\n",
              "    .dataframe tbody tr th {\n",
              "        vertical-align: top;\n",
              "    }\n",
              "\n",
              "    .dataframe thead th {\n",
              "        text-align: right;\n",
              "    }\n",
              "</style>\n",
              "<table border=\"1\" class=\"dataframe\">\n",
              "  <thead>\n",
              "    <tr style=\"text-align: right;\">\n",
              "      <th></th>\n",
              "      <th>Item_Identifier</th>\n",
              "      <th>Item_Weight</th>\n",
              "      <th>Item_Fat_Content</th>\n",
              "      <th>Item_Visibility</th>\n",
              "      <th>Item_Type</th>\n",
              "      <th>Item_MRP</th>\n",
              "      <th>Outlet_Identifier</th>\n",
              "      <th>Outlet_Establishment_Year</th>\n",
              "      <th>Outlet_Size</th>\n",
              "      <th>Outlet_Location_Type</th>\n",
              "      <th>Outlet_Type</th>\n",
              "      <th>Item_Outlet_Sales</th>\n",
              "      <th>Data</th>\n",
              "    </tr>\n",
              "  </thead>\n",
              "  <tbody>\n",
              "    <tr>\n",
              "      <th>0</th>\n",
              "      <td>FDA15</td>\n",
              "      <td>9.30</td>\n",
              "      <td>Low Fat</td>\n",
              "      <td>0.016047</td>\n",
              "      <td>Dairy</td>\n",
              "      <td>249.8092</td>\n",
              "      <td>OUT049</td>\n",
              "      <td>1999</td>\n",
              "      <td>Medium</td>\n",
              "      <td>Tier 1</td>\n",
              "      <td>Supermarket Type1</td>\n",
              "      <td>3735.1380</td>\n",
              "      <td>Train</td>\n",
              "    </tr>\n",
              "    <tr>\n",
              "      <th>1</th>\n",
              "      <td>DRC01</td>\n",
              "      <td>5.92</td>\n",
              "      <td>Regular</td>\n",
              "      <td>0.019278</td>\n",
              "      <td>Soft Drinks</td>\n",
              "      <td>48.2692</td>\n",
              "      <td>OUT018</td>\n",
              "      <td>2009</td>\n",
              "      <td>Medium</td>\n",
              "      <td>Tier 3</td>\n",
              "      <td>Supermarket Type2</td>\n",
              "      <td>443.4228</td>\n",
              "      <td>Train</td>\n",
              "    </tr>\n",
              "    <tr>\n",
              "      <th>2</th>\n",
              "      <td>FDN15</td>\n",
              "      <td>17.50</td>\n",
              "      <td>Low Fat</td>\n",
              "      <td>0.016760</td>\n",
              "      <td>Meat</td>\n",
              "      <td>141.6180</td>\n",
              "      <td>OUT049</td>\n",
              "      <td>1999</td>\n",
              "      <td>Medium</td>\n",
              "      <td>Tier 1</td>\n",
              "      <td>Supermarket Type1</td>\n",
              "      <td>2097.2700</td>\n",
              "      <td>Train</td>\n",
              "    </tr>\n",
              "    <tr>\n",
              "      <th>3</th>\n",
              "      <td>FDX07</td>\n",
              "      <td>19.20</td>\n",
              "      <td>Regular</td>\n",
              "      <td>0.000000</td>\n",
              "      <td>Fruits and Vegetables</td>\n",
              "      <td>182.0950</td>\n",
              "      <td>OUT010</td>\n",
              "      <td>1998</td>\n",
              "      <td>NaN</td>\n",
              "      <td>Tier 3</td>\n",
              "      <td>Grocery Store</td>\n",
              "      <td>732.3800</td>\n",
              "      <td>Train</td>\n",
              "    </tr>\n",
              "    <tr>\n",
              "      <th>4</th>\n",
              "      <td>NCD19</td>\n",
              "      <td>8.93</td>\n",
              "      <td>Low Fat</td>\n",
              "      <td>0.000000</td>\n",
              "      <td>Household</td>\n",
              "      <td>53.8614</td>\n",
              "      <td>OUT013</td>\n",
              "      <td>1987</td>\n",
              "      <td>High</td>\n",
              "      <td>Tier 3</td>\n",
              "      <td>Supermarket Type1</td>\n",
              "      <td>994.7052</td>\n",
              "      <td>Train</td>\n",
              "    </tr>\n",
              "  </tbody>\n",
              "</table>\n",
              "</div>"
            ],
            "text/plain": [
              "  Item_Identifier  Item_Weight  ... Item_Outlet_Sales   Data\n",
              "0           FDA15         9.30  ...         3735.1380  Train\n",
              "1           DRC01         5.92  ...          443.4228  Train\n",
              "2           FDN15        17.50  ...         2097.2700  Train\n",
              "3           FDX07        19.20  ...          732.3800  Train\n",
              "4           NCD19         8.93  ...          994.7052  Train\n",
              "\n",
              "[5 rows x 13 columns]"
            ]
          },
          "metadata": {
            "tags": []
          },
          "execution_count": 48
        }
      ]
    },
    {
      "cell_type": "markdown",
      "metadata": {
        "id": "F6tOqzRDIxTz",
        "colab_type": "text"
      },
      "source": [
        "### Data Preprocessing"
      ]
    },
    {
      "cell_type": "markdown",
      "metadata": {
        "id": "DJJTpY62IxT1",
        "colab_type": "text"
      },
      "source": [
        "#### Looking at the null values in the dataset"
      ]
    },
    {
      "cell_type": "code",
      "metadata": {
        "id": "MBXxson-IxT3",
        "colab_type": "code",
        "colab": {
          "base_uri": "https://localhost:8080/",
          "height": 68
        },
        "outputId": "d36de968-1baa-4c20-b85e-bc2d14d31b27"
      },
      "source": [
        "features_with_null = [features for features in df.columns if df[features].isnull().sum() > 0]\n",
        "\n",
        "for features in features_with_null:\n",
        "    \n",
        "    print(features, df[features].isnull().sum(), np.round(df[features].isnull().mean()*100, 4), '% missing values')"
      ],
      "execution_count": null,
      "outputs": [
        {
          "output_type": "stream",
          "text": [
            "Item_Weight 2439 17.1712 % missing values\n",
            "Outlet_Size 4016 28.2737 % missing values\n",
            "Item_Outlet_Sales 5681 39.9958 % missing values\n"
          ],
          "name": "stdout"
        }
      ]
    },
    {
      "cell_type": "markdown",
      "metadata": {
        "id": "_JGxMlEsIxUC",
        "colab_type": "text"
      },
      "source": [
        "#### The dependent variable has missing values which are from the test dataset"
      ]
    },
    {
      "cell_type": "markdown",
      "metadata": {
        "id": "lv3CAMosIxUF",
        "colab_type": "text"
      },
      "source": [
        "#### Lets first impute the null values for the outlet size "
      ]
    },
    {
      "cell_type": "markdown",
      "metadata": {
        "id": "TFXKfCx-IxUH",
        "colab_type": "text"
      },
      "source": [
        "#### Basis for Imputation: The imputation will be done based on two factors:\n",
        "\n",
        "#### 1. Looking at the mode of the outlet sizes in the different locations for the different types of outlets\n",
        "#### 2. Comparing the sales of the outlets in the different locations\n",
        "\n",
        "#### Assumption made: An outlet with particular size will have similar sales across different locations"
      ]
    },
    {
      "cell_type": "code",
      "metadata": {
        "id": "PTZdyDtUMTNZ",
        "colab_type": "code",
        "colab": {
          "base_uri": "https://localhost:8080/",
          "height": 309
        },
        "outputId": "eab82bd5-b993-4960-a81e-212fcddaa6f2"
      },
      "source": [
        "df.head()"
      ],
      "execution_count": null,
      "outputs": [
        {
          "output_type": "execute_result",
          "data": {
            "text/html": [
              "<div>\n",
              "<style scoped>\n",
              "    .dataframe tbody tr th:only-of-type {\n",
              "        vertical-align: middle;\n",
              "    }\n",
              "\n",
              "    .dataframe tbody tr th {\n",
              "        vertical-align: top;\n",
              "    }\n",
              "\n",
              "    .dataframe thead th {\n",
              "        text-align: right;\n",
              "    }\n",
              "</style>\n",
              "<table border=\"1\" class=\"dataframe\">\n",
              "  <thead>\n",
              "    <tr style=\"text-align: right;\">\n",
              "      <th></th>\n",
              "      <th>Item_Identifier</th>\n",
              "      <th>Item_Weight</th>\n",
              "      <th>Item_Fat_Content</th>\n",
              "      <th>Item_Visibility</th>\n",
              "      <th>Item_Type</th>\n",
              "      <th>Item_MRP</th>\n",
              "      <th>Outlet_Identifier</th>\n",
              "      <th>Outlet_Establishment_Year</th>\n",
              "      <th>Outlet_Size</th>\n",
              "      <th>Outlet_Location_Type</th>\n",
              "      <th>Outlet_Type</th>\n",
              "      <th>Item_Outlet_Sales</th>\n",
              "      <th>Data</th>\n",
              "    </tr>\n",
              "  </thead>\n",
              "  <tbody>\n",
              "    <tr>\n",
              "      <th>0</th>\n",
              "      <td>FDA15</td>\n",
              "      <td>9.30</td>\n",
              "      <td>Low Fat</td>\n",
              "      <td>0.016047</td>\n",
              "      <td>Dairy</td>\n",
              "      <td>249.8092</td>\n",
              "      <td>OUT049</td>\n",
              "      <td>1999</td>\n",
              "      <td>Medium</td>\n",
              "      <td>Tier 1</td>\n",
              "      <td>Supermarket Type1</td>\n",
              "      <td>3735.1380</td>\n",
              "      <td>Train</td>\n",
              "    </tr>\n",
              "    <tr>\n",
              "      <th>1</th>\n",
              "      <td>DRC01</td>\n",
              "      <td>5.92</td>\n",
              "      <td>Regular</td>\n",
              "      <td>0.019278</td>\n",
              "      <td>Soft Drinks</td>\n",
              "      <td>48.2692</td>\n",
              "      <td>OUT018</td>\n",
              "      <td>2009</td>\n",
              "      <td>Medium</td>\n",
              "      <td>Tier 3</td>\n",
              "      <td>Supermarket Type2</td>\n",
              "      <td>443.4228</td>\n",
              "      <td>Train</td>\n",
              "    </tr>\n",
              "    <tr>\n",
              "      <th>2</th>\n",
              "      <td>FDN15</td>\n",
              "      <td>17.50</td>\n",
              "      <td>Low Fat</td>\n",
              "      <td>0.016760</td>\n",
              "      <td>Meat</td>\n",
              "      <td>141.6180</td>\n",
              "      <td>OUT049</td>\n",
              "      <td>1999</td>\n",
              "      <td>Medium</td>\n",
              "      <td>Tier 1</td>\n",
              "      <td>Supermarket Type1</td>\n",
              "      <td>2097.2700</td>\n",
              "      <td>Train</td>\n",
              "    </tr>\n",
              "    <tr>\n",
              "      <th>3</th>\n",
              "      <td>FDX07</td>\n",
              "      <td>19.20</td>\n",
              "      <td>Regular</td>\n",
              "      <td>0.000000</td>\n",
              "      <td>Fruits and Vegetables</td>\n",
              "      <td>182.0950</td>\n",
              "      <td>OUT010</td>\n",
              "      <td>1998</td>\n",
              "      <td>NaN</td>\n",
              "      <td>Tier 3</td>\n",
              "      <td>Grocery Store</td>\n",
              "      <td>732.3800</td>\n",
              "      <td>Train</td>\n",
              "    </tr>\n",
              "    <tr>\n",
              "      <th>4</th>\n",
              "      <td>NCD19</td>\n",
              "      <td>8.93</td>\n",
              "      <td>Low Fat</td>\n",
              "      <td>0.000000</td>\n",
              "      <td>Household</td>\n",
              "      <td>53.8614</td>\n",
              "      <td>OUT013</td>\n",
              "      <td>1987</td>\n",
              "      <td>High</td>\n",
              "      <td>Tier 3</td>\n",
              "      <td>Supermarket Type1</td>\n",
              "      <td>994.7052</td>\n",
              "      <td>Train</td>\n",
              "    </tr>\n",
              "  </tbody>\n",
              "</table>\n",
              "</div>"
            ],
            "text/plain": [
              "  Item_Identifier  Item_Weight  ... Item_Outlet_Sales   Data\n",
              "0           FDA15         9.30  ...         3735.1380  Train\n",
              "1           DRC01         5.92  ...          443.4228  Train\n",
              "2           FDN15        17.50  ...         2097.2700  Train\n",
              "3           FDX07        19.20  ...          732.3800  Train\n",
              "4           NCD19         8.93  ...          994.7052  Train\n",
              "\n",
              "[5 rows x 13 columns]"
            ]
          },
          "metadata": {
            "tags": []
          },
          "execution_count": 50
        }
      ]
    },
    {
      "cell_type": "code",
      "metadata": {
        "id": "Hr4M-fooIxUK",
        "colab_type": "code",
        "colab": {
          "base_uri": "https://localhost:8080/",
          "height": 80
        },
        "outputId": "6c29d432-a728-4a92-c4b4-725f651cd2c8"
      },
      "source": [
        "from scipy.stats import mode\n",
        "\n",
        "df.pivot_table(values = 'Outlet_Size', columns = 'Outlet_Type', \n",
        "               aggfunc = lambda x: x.mode())"
      ],
      "execution_count": null,
      "outputs": [
        {
          "output_type": "execute_result",
          "data": {
            "text/html": [
              "<div>\n",
              "<style scoped>\n",
              "    .dataframe tbody tr th:only-of-type {\n",
              "        vertical-align: middle;\n",
              "    }\n",
              "\n",
              "    .dataframe tbody tr th {\n",
              "        vertical-align: top;\n",
              "    }\n",
              "\n",
              "    .dataframe thead th {\n",
              "        text-align: right;\n",
              "    }\n",
              "</style>\n",
              "<table border=\"1\" class=\"dataframe\">\n",
              "  <thead>\n",
              "    <tr style=\"text-align: right;\">\n",
              "      <th>Outlet_Type</th>\n",
              "      <th>Grocery Store</th>\n",
              "      <th>Supermarket Type1</th>\n",
              "      <th>Supermarket Type2</th>\n",
              "      <th>Supermarket Type3</th>\n",
              "    </tr>\n",
              "  </thead>\n",
              "  <tbody>\n",
              "    <tr>\n",
              "      <th>Outlet_Size</th>\n",
              "      <td>Small</td>\n",
              "      <td>Small</td>\n",
              "      <td>Medium</td>\n",
              "      <td>Medium</td>\n",
              "    </tr>\n",
              "  </tbody>\n",
              "</table>\n",
              "</div>"
            ],
            "text/plain": [
              "Outlet_Type Grocery Store Supermarket Type1 Supermarket Type2 Supermarket Type3\n",
              "Outlet_Size         Small             Small            Medium            Medium"
            ]
          },
          "metadata": {
            "tags": []
          },
          "execution_count": 51
        }
      ]
    },
    {
      "cell_type": "code",
      "metadata": {
        "id": "1c_2AVlmIxUW",
        "colab_type": "code",
        "colab": {
          "base_uri": "https://localhost:8080/",
          "height": 390
        },
        "outputId": "9db7af08-c751-4013-abad-ff85864e50d5"
      },
      "source": [
        "size_df = df.pivot_table(index = ['Outlet_Location_Type', 'Outlet_Type','Outlet_Identifier'], \n",
        "               values = ['Outlet_Size'], aggfunc = lambda x: x.mode())\n",
        "\n",
        "size_df"
      ],
      "execution_count": null,
      "outputs": [
        {
          "output_type": "execute_result",
          "data": {
            "text/html": [
              "<div>\n",
              "<style scoped>\n",
              "    .dataframe tbody tr th:only-of-type {\n",
              "        vertical-align: middle;\n",
              "    }\n",
              "\n",
              "    .dataframe tbody tr th {\n",
              "        vertical-align: top;\n",
              "    }\n",
              "\n",
              "    .dataframe thead th {\n",
              "        text-align: right;\n",
              "    }\n",
              "</style>\n",
              "<table border=\"1\" class=\"dataframe\">\n",
              "  <thead>\n",
              "    <tr style=\"text-align: right;\">\n",
              "      <th></th>\n",
              "      <th></th>\n",
              "      <th></th>\n",
              "      <th>Outlet_Size</th>\n",
              "    </tr>\n",
              "    <tr>\n",
              "      <th>Outlet_Location_Type</th>\n",
              "      <th>Outlet_Type</th>\n",
              "      <th>Outlet_Identifier</th>\n",
              "      <th></th>\n",
              "    </tr>\n",
              "  </thead>\n",
              "  <tbody>\n",
              "    <tr>\n",
              "      <th rowspan=\"3\" valign=\"top\">Tier 1</th>\n",
              "      <th>Grocery Store</th>\n",
              "      <th>OUT019</th>\n",
              "      <td>Small</td>\n",
              "    </tr>\n",
              "    <tr>\n",
              "      <th rowspan=\"2\" valign=\"top\">Supermarket Type1</th>\n",
              "      <th>OUT046</th>\n",
              "      <td>Small</td>\n",
              "    </tr>\n",
              "    <tr>\n",
              "      <th>OUT049</th>\n",
              "      <td>Medium</td>\n",
              "    </tr>\n",
              "    <tr>\n",
              "      <th rowspan=\"3\" valign=\"top\">Tier 2</th>\n",
              "      <th rowspan=\"3\" valign=\"top\">Supermarket Type1</th>\n",
              "      <th>OUT017</th>\n",
              "      <td>[]</td>\n",
              "    </tr>\n",
              "    <tr>\n",
              "      <th>OUT035</th>\n",
              "      <td>Small</td>\n",
              "    </tr>\n",
              "    <tr>\n",
              "      <th>OUT045</th>\n",
              "      <td>[]</td>\n",
              "    </tr>\n",
              "    <tr>\n",
              "      <th rowspan=\"4\" valign=\"top\">Tier 3</th>\n",
              "      <th>Grocery Store</th>\n",
              "      <th>OUT010</th>\n",
              "      <td>[]</td>\n",
              "    </tr>\n",
              "    <tr>\n",
              "      <th>Supermarket Type1</th>\n",
              "      <th>OUT013</th>\n",
              "      <td>High</td>\n",
              "    </tr>\n",
              "    <tr>\n",
              "      <th>Supermarket Type2</th>\n",
              "      <th>OUT018</th>\n",
              "      <td>Medium</td>\n",
              "    </tr>\n",
              "    <tr>\n",
              "      <th>Supermarket Type3</th>\n",
              "      <th>OUT027</th>\n",
              "      <td>Medium</td>\n",
              "    </tr>\n",
              "  </tbody>\n",
              "</table>\n",
              "</div>"
            ],
            "text/plain": [
              "                                                         Outlet_Size\n",
              "Outlet_Location_Type Outlet_Type       Outlet_Identifier            \n",
              "Tier 1               Grocery Store     OUT019                  Small\n",
              "                     Supermarket Type1 OUT046                  Small\n",
              "                                       OUT049                 Medium\n",
              "Tier 2               Supermarket Type1 OUT017                     []\n",
              "                                       OUT035                  Small\n",
              "                                       OUT045                     []\n",
              "Tier 3               Grocery Store     OUT010                     []\n",
              "                     Supermarket Type1 OUT013                   High\n",
              "                     Supermarket Type2 OUT018                 Medium\n",
              "                     Supermarket Type3 OUT027                 Medium"
            ]
          },
          "metadata": {
            "tags": []
          },
          "execution_count": 52
        }
      ]
    },
    {
      "cell_type": "code",
      "metadata": {
        "id": "h4reVHMaIxUj",
        "colab_type": "code",
        "colab": {
          "base_uri": "https://localhost:8080/",
          "height": 390
        },
        "outputId": "593bcf5c-a723-4bcd-bc23-134e3e53b6ab"
      },
      "source": [
        "df.pivot_table(index = ['Outlet_Location_Type', 'Outlet_Type','Outlet_Identifier'], \n",
        "               values = ['Outlet_Size'], aggfunc = 'count')"
      ],
      "execution_count": null,
      "outputs": [
        {
          "output_type": "execute_result",
          "data": {
            "text/html": [
              "<div>\n",
              "<style scoped>\n",
              "    .dataframe tbody tr th:only-of-type {\n",
              "        vertical-align: middle;\n",
              "    }\n",
              "\n",
              "    .dataframe tbody tr th {\n",
              "        vertical-align: top;\n",
              "    }\n",
              "\n",
              "    .dataframe thead th {\n",
              "        text-align: right;\n",
              "    }\n",
              "</style>\n",
              "<table border=\"1\" class=\"dataframe\">\n",
              "  <thead>\n",
              "    <tr style=\"text-align: right;\">\n",
              "      <th></th>\n",
              "      <th></th>\n",
              "      <th></th>\n",
              "      <th>Outlet_Size</th>\n",
              "    </tr>\n",
              "    <tr>\n",
              "      <th>Outlet_Location_Type</th>\n",
              "      <th>Outlet_Type</th>\n",
              "      <th>Outlet_Identifier</th>\n",
              "      <th></th>\n",
              "    </tr>\n",
              "  </thead>\n",
              "  <tbody>\n",
              "    <tr>\n",
              "      <th rowspan=\"3\" valign=\"top\">Tier 1</th>\n",
              "      <th>Grocery Store</th>\n",
              "      <th>OUT019</th>\n",
              "      <td>880</td>\n",
              "    </tr>\n",
              "    <tr>\n",
              "      <th rowspan=\"2\" valign=\"top\">Supermarket Type1</th>\n",
              "      <th>OUT046</th>\n",
              "      <td>1550</td>\n",
              "    </tr>\n",
              "    <tr>\n",
              "      <th>OUT049</th>\n",
              "      <td>1550</td>\n",
              "    </tr>\n",
              "    <tr>\n",
              "      <th rowspan=\"3\" valign=\"top\">Tier 2</th>\n",
              "      <th rowspan=\"3\" valign=\"top\">Supermarket Type1</th>\n",
              "      <th>OUT017</th>\n",
              "      <td>0</td>\n",
              "    </tr>\n",
              "    <tr>\n",
              "      <th>OUT035</th>\n",
              "      <td>1550</td>\n",
              "    </tr>\n",
              "    <tr>\n",
              "      <th>OUT045</th>\n",
              "      <td>0</td>\n",
              "    </tr>\n",
              "    <tr>\n",
              "      <th rowspan=\"4\" valign=\"top\">Tier 3</th>\n",
              "      <th>Grocery Store</th>\n",
              "      <th>OUT010</th>\n",
              "      <td>0</td>\n",
              "    </tr>\n",
              "    <tr>\n",
              "      <th>Supermarket Type1</th>\n",
              "      <th>OUT013</th>\n",
              "      <td>1553</td>\n",
              "    </tr>\n",
              "    <tr>\n",
              "      <th>Supermarket Type2</th>\n",
              "      <th>OUT018</th>\n",
              "      <td>1546</td>\n",
              "    </tr>\n",
              "    <tr>\n",
              "      <th>Supermarket Type3</th>\n",
              "      <th>OUT027</th>\n",
              "      <td>1559</td>\n",
              "    </tr>\n",
              "  </tbody>\n",
              "</table>\n",
              "</div>"
            ],
            "text/plain": [
              "                                                          Outlet_Size\n",
              "Outlet_Location_Type Outlet_Type       Outlet_Identifier             \n",
              "Tier 1               Grocery Store     OUT019                     880\n",
              "                     Supermarket Type1 OUT046                    1550\n",
              "                                       OUT049                    1550\n",
              "Tier 2               Supermarket Type1 OUT017                       0\n",
              "                                       OUT035                    1550\n",
              "                                       OUT045                       0\n",
              "Tier 3               Grocery Store     OUT010                       0\n",
              "                     Supermarket Type1 OUT013                    1553\n",
              "                     Supermarket Type2 OUT018                    1546\n",
              "                     Supermarket Type3 OUT027                    1559"
            ]
          },
          "metadata": {
            "tags": []
          },
          "execution_count": 53
        }
      ]
    },
    {
      "cell_type": "markdown",
      "metadata": {
        "id": "7rErWdeZIxUx",
        "colab_type": "text"
      },
      "source": [
        "#### Here we can see the null values for outlet size are present for outlet numbers 17, 45 and 10"
      ]
    },
    {
      "cell_type": "markdown",
      "metadata": {
        "id": "v1lXVvpgIxUz",
        "colab_type": "text"
      },
      "source": [
        "#### Lets look at the sales of the outlets"
      ]
    },
    {
      "cell_type": "code",
      "metadata": {
        "id": "oNckxVcCIxU1",
        "colab_type": "code",
        "colab": {
          "base_uri": "https://localhost:8080/",
          "height": 525
        },
        "outputId": "ebc247ed-a077-4920-e98e-ad5df4e2b011"
      },
      "source": [
        "plt.figure(figsize = (20,8))\n",
        "df.groupby(['Outlet_Identifier'])['Item_Outlet_Sales'].sum().sort_values(ascending = False).plot.bar()\n",
        "plt.xticks(fontsize = 12, rotation = 360) \n",
        "plt.yticks(fontsize = 12)\n",
        "plt.xlabel(\"Unique Outlets\", fontsize = 15)\n",
        "plt.ylabel(\"Sales\", fontsize = 15)\n",
        "plt.title(\"Sales in Different Outlets\", fontsize = 18)\n",
        "plt.show()"
      ],
      "execution_count": null,
      "outputs": [
        {
          "output_type": "display_data",
          "data": {
            "image/png": "[encoded data removed]",
            "text/plain": [
              "<Figure size 1440x576 with 1 Axes>"
            ]
          },
          "metadata": {
            "tags": [],
            "needs_background": "light"
          }
        }
      ]
    },
    {
      "cell_type": "markdown",
      "metadata": {
        "id": "5JA_FKf8IxVB",
        "colab_type": "text"
      },
      "source": [
        "#### Here we can see that outlet 10 and 19 have similar amounts of sales.Also the mode of outlet size for grocery stores  is small.  Outlet number 17 has similar sales with outlet number 49 which is medium in size and the mode for Supermarket Type 1 is medium as well. For outlet 45 also by the same logic I will impute size as medium.\n",
        "\n",
        "#### Outlet 10 : Small\n",
        "#### Outlet 17 and 45 : Medium"
      ]
    },
    {
      "cell_type": "markdown",
      "metadata": {
        "id": "Dtr9oiPkIxVC",
        "colab_type": "text"
      },
      "source": [
        "#### Imputing the null values for outlet size"
      ]
    },
    {
      "cell_type": "code",
      "metadata": {
        "id": "0THGZyAxIxVE",
        "colab_type": "code",
        "colab": {}
      },
      "source": [
        "conditions = [df['Outlet_Identifier'] == \"OUT010\", df['Outlet_Identifier'] == \"OUT017\", df['Outlet_Identifier'] == \"OUT045\"]\n",
        "values = ['Small', 'Medium', 'Medium']\n",
        "\n",
        "df['Outlet_Size'] = np.where(df['Outlet_Size'].isnull(), np.select(conditions, values), df['Outlet_Size'])"
      ],
      "execution_count": null,
      "outputs": []
    },
    {
      "cell_type": "code",
      "metadata": {
        "id": "3yNnq_TXIxVN",
        "colab_type": "code",
        "colab": {
          "base_uri": "https://localhost:8080/",
          "height": 85
        },
        "outputId": "3b539af9-fb29-4395-ee4f-810e54b1a4af"
      },
      "source": [
        "df['Outlet_Size'].value_counts()"
      ],
      "execution_count": null,
      "outputs": [
        {
          "output_type": "execute_result",
          "data": {
            "text/plain": [
              "Medium    7746\n",
              "Small     4905\n",
              "High      1553\n",
              "Name: Outlet_Size, dtype: int64"
            ]
          },
          "metadata": {
            "tags": []
          },
          "execution_count": 56
        }
      ]
    },
    {
      "cell_type": "code",
      "metadata": {
        "id": "eGPxBe0AIxVX",
        "colab_type": "code",
        "colab": {
          "base_uri": "https://localhost:8080/",
          "height": 390
        },
        "outputId": "b7a27036-849a-47d8-c9e2-200975e0dfd4"
      },
      "source": [
        "df.pivot_table(index = ['Outlet_Location_Type', 'Outlet_Type','Outlet_Identifier'], \n",
        "               values = ['Outlet_Size'], aggfunc = 'count')"
      ],
      "execution_count": null,
      "outputs": [
        {
          "output_type": "execute_result",
          "data": {
            "text/html": [
              "<div>\n",
              "<style scoped>\n",
              "    .dataframe tbody tr th:only-of-type {\n",
              "        vertical-align: middle;\n",
              "    }\n",
              "\n",
              "    .dataframe tbody tr th {\n",
              "        vertical-align: top;\n",
              "    }\n",
              "\n",
              "    .dataframe thead th {\n",
              "        text-align: right;\n",
              "    }\n",
              "</style>\n",
              "<table border=\"1\" class=\"dataframe\">\n",
              "  <thead>\n",
              "    <tr style=\"text-align: right;\">\n",
              "      <th></th>\n",
              "      <th></th>\n",
              "      <th></th>\n",
              "      <th>Outlet_Size</th>\n",
              "    </tr>\n",
              "    <tr>\n",
              "      <th>Outlet_Location_Type</th>\n",
              "      <th>Outlet_Type</th>\n",
              "      <th>Outlet_Identifier</th>\n",
              "      <th></th>\n",
              "    </tr>\n",
              "  </thead>\n",
              "  <tbody>\n",
              "    <tr>\n",
              "      <th rowspan=\"3\" valign=\"top\">Tier 1</th>\n",
              "      <th>Grocery Store</th>\n",
              "      <th>OUT019</th>\n",
              "      <td>880</td>\n",
              "    </tr>\n",
              "    <tr>\n",
              "      <th rowspan=\"2\" valign=\"top\">Supermarket Type1</th>\n",
              "      <th>OUT046</th>\n",
              "      <td>1550</td>\n",
              "    </tr>\n",
              "    <tr>\n",
              "      <th>OUT049</th>\n",
              "      <td>1550</td>\n",
              "    </tr>\n",
              "    <tr>\n",
              "      <th rowspan=\"3\" valign=\"top\">Tier 2</th>\n",
              "      <th rowspan=\"3\" valign=\"top\">Supermarket Type1</th>\n",
              "      <th>OUT017</th>\n",
              "      <td>1543</td>\n",
              "    </tr>\n",
              "    <tr>\n",
              "      <th>OUT035</th>\n",
              "      <td>1550</td>\n",
              "    </tr>\n",
              "    <tr>\n",
              "      <th>OUT045</th>\n",
              "      <td>1548</td>\n",
              "    </tr>\n",
              "    <tr>\n",
              "      <th rowspan=\"4\" valign=\"top\">Tier 3</th>\n",
              "      <th>Grocery Store</th>\n",
              "      <th>OUT010</th>\n",
              "      <td>925</td>\n",
              "    </tr>\n",
              "    <tr>\n",
              "      <th>Supermarket Type1</th>\n",
              "      <th>OUT013</th>\n",
              "      <td>1553</td>\n",
              "    </tr>\n",
              "    <tr>\n",
              "      <th>Supermarket Type2</th>\n",
              "      <th>OUT018</th>\n",
              "      <td>1546</td>\n",
              "    </tr>\n",
              "    <tr>\n",
              "      <th>Supermarket Type3</th>\n",
              "      <th>OUT027</th>\n",
              "      <td>1559</td>\n",
              "    </tr>\n",
              "  </tbody>\n",
              "</table>\n",
              "</div>"
            ],
            "text/plain": [
              "                                                          Outlet_Size\n",
              "Outlet_Location_Type Outlet_Type       Outlet_Identifier             \n",
              "Tier 1               Grocery Store     OUT019                     880\n",
              "                     Supermarket Type1 OUT046                    1550\n",
              "                                       OUT049                    1550\n",
              "Tier 2               Supermarket Type1 OUT017                    1543\n",
              "                                       OUT035                    1550\n",
              "                                       OUT045                    1548\n",
              "Tier 3               Grocery Store     OUT010                     925\n",
              "                     Supermarket Type1 OUT013                    1553\n",
              "                     Supermarket Type2 OUT018                    1546\n",
              "                     Supermarket Type3 OUT027                    1559"
            ]
          },
          "metadata": {
            "tags": []
          },
          "execution_count": 57
        }
      ]
    },
    {
      "cell_type": "markdown",
      "metadata": {
        "id": "nfoq-C3tIxVp",
        "colab_type": "text"
      },
      "source": [
        "#### Here we can see that the null values have been imputed"
      ]
    },
    {
      "cell_type": "markdown",
      "metadata": {
        "id": "pZXK4xVUIxVr",
        "colab_type": "text"
      },
      "source": [
        "#### Before imputing the item weights we need to clean other variables "
      ]
    },
    {
      "cell_type": "code",
      "metadata": {
        "id": "0KwEhkp2IxVu",
        "colab_type": "code",
        "colab": {
          "base_uri": "https://localhost:8080/",
          "height": 309
        },
        "outputId": "64925280-f91d-4acd-f59c-ca0c4aa8bb7f"
      },
      "source": [
        "df.head()"
      ],
      "execution_count": null,
      "outputs": [
        {
          "output_type": "execute_result",
          "data": {
            "text/html": [
              "<div>\n",
              "<style scoped>\n",
              "    .dataframe tbody tr th:only-of-type {\n",
              "        vertical-align: middle;\n",
              "    }\n",
              "\n",
              "    .dataframe tbody tr th {\n",
              "        vertical-align: top;\n",
              "    }\n",
              "\n",
              "    .dataframe thead th {\n",
              "        text-align: right;\n",
              "    }\n",
              "</style>\n",
              "<table border=\"1\" class=\"dataframe\">\n",
              "  <thead>\n",
              "    <tr style=\"text-align: right;\">\n",
              "      <th></th>\n",
              "      <th>Item_Identifier</th>\n",
              "      <th>Item_Weight</th>\n",
              "      <th>Item_Fat_Content</th>\n",
              "      <th>Item_Visibility</th>\n",
              "      <th>Item_Type</th>\n",
              "      <th>Item_MRP</th>\n",
              "      <th>Outlet_Identifier</th>\n",
              "      <th>Outlet_Establishment_Year</th>\n",
              "      <th>Outlet_Size</th>\n",
              "      <th>Outlet_Location_Type</th>\n",
              "      <th>Outlet_Type</th>\n",
              "      <th>Item_Outlet_Sales</th>\n",
              "      <th>Data</th>\n",
              "    </tr>\n",
              "  </thead>\n",
              "  <tbody>\n",
              "    <tr>\n",
              "      <th>0</th>\n",
              "      <td>FDA15</td>\n",
              "      <td>9.30</td>\n",
              "      <td>Low Fat</td>\n",
              "      <td>0.016047</td>\n",
              "      <td>Dairy</td>\n",
              "      <td>249.8092</td>\n",
              "      <td>OUT049</td>\n",
              "      <td>1999</td>\n",
              "      <td>Medium</td>\n",
              "      <td>Tier 1</td>\n",
              "      <td>Supermarket Type1</td>\n",
              "      <td>3735.1380</td>\n",
              "      <td>Train</td>\n",
              "    </tr>\n",
              "    <tr>\n",
              "      <th>1</th>\n",
              "      <td>DRC01</td>\n",
              "      <td>5.92</td>\n",
              "      <td>Regular</td>\n",
              "      <td>0.019278</td>\n",
              "      <td>Soft Drinks</td>\n",
              "      <td>48.2692</td>\n",
              "      <td>OUT018</td>\n",
              "      <td>2009</td>\n",
              "      <td>Medium</td>\n",
              "      <td>Tier 3</td>\n",
              "      <td>Supermarket Type2</td>\n",
              "      <td>443.4228</td>\n",
              "      <td>Train</td>\n",
              "    </tr>\n",
              "    <tr>\n",
              "      <th>2</th>\n",
              "      <td>FDN15</td>\n",
              "      <td>17.50</td>\n",
              "      <td>Low Fat</td>\n",
              "      <td>0.016760</td>\n",
              "      <td>Meat</td>\n",
              "      <td>141.6180</td>\n",
              "      <td>OUT049</td>\n",
              "      <td>1999</td>\n",
              "      <td>Medium</td>\n",
              "      <td>Tier 1</td>\n",
              "      <td>Supermarket Type1</td>\n",
              "      <td>2097.2700</td>\n",
              "      <td>Train</td>\n",
              "    </tr>\n",
              "    <tr>\n",
              "      <th>3</th>\n",
              "      <td>FDX07</td>\n",
              "      <td>19.20</td>\n",
              "      <td>Regular</td>\n",
              "      <td>0.000000</td>\n",
              "      <td>Fruits and Vegetables</td>\n",
              "      <td>182.0950</td>\n",
              "      <td>OUT010</td>\n",
              "      <td>1998</td>\n",
              "      <td>Small</td>\n",
              "      <td>Tier 3</td>\n",
              "      <td>Grocery Store</td>\n",
              "      <td>732.3800</td>\n",
              "      <td>Train</td>\n",
              "    </tr>\n",
              "    <tr>\n",
              "      <th>4</th>\n",
              "      <td>NCD19</td>\n",
              "      <td>8.93</td>\n",
              "      <td>Low Fat</td>\n",
              "      <td>0.000000</td>\n",
              "      <td>Household</td>\n",
              "      <td>53.8614</td>\n",
              "      <td>OUT013</td>\n",
              "      <td>1987</td>\n",
              "      <td>High</td>\n",
              "      <td>Tier 3</td>\n",
              "      <td>Supermarket Type1</td>\n",
              "      <td>994.7052</td>\n",
              "      <td>Train</td>\n",
              "    </tr>\n",
              "  </tbody>\n",
              "</table>\n",
              "</div>"
            ],
            "text/plain": [
              "  Item_Identifier  Item_Weight  ... Item_Outlet_Sales   Data\n",
              "0           FDA15         9.30  ...         3735.1380  Train\n",
              "1           DRC01         5.92  ...          443.4228  Train\n",
              "2           FDN15        17.50  ...         2097.2700  Train\n",
              "3           FDX07        19.20  ...          732.3800  Train\n",
              "4           NCD19         8.93  ...          994.7052  Train\n",
              "\n",
              "[5 rows x 13 columns]"
            ]
          },
          "metadata": {
            "tags": []
          },
          "execution_count": 58
        }
      ]
    },
    {
      "cell_type": "code",
      "metadata": {
        "id": "be3PdlsNIxV4",
        "colab_type": "code",
        "colab": {
          "base_uri": "https://localhost:8080/",
          "height": 119
        },
        "outputId": "592fd000-e1c6-4ee8-f106-49e4c7ac6084"
      },
      "source": [
        "df['Item_Fat_Content'].value_counts()"
      ],
      "execution_count": null,
      "outputs": [
        {
          "output_type": "execute_result",
          "data": {
            "text/plain": [
              "Low Fat    8485\n",
              "Regular    4824\n",
              "LF          522\n",
              "reg         195\n",
              "low fat     178\n",
              "Name: Item_Fat_Content, dtype: int64"
            ]
          },
          "metadata": {
            "tags": []
          },
          "execution_count": 59
        }
      ]
    },
    {
      "cell_type": "markdown",
      "metadata": {
        "id": "gVTPan4zIxWB",
        "colab_type": "text"
      },
      "source": [
        "#### Replacing the duplicates in the item fat column"
      ]
    },
    {
      "cell_type": "code",
      "metadata": {
        "id": "5zBhCFLPIxWC",
        "colab_type": "code",
        "colab": {
          "base_uri": "https://localhost:8080/",
          "height": 68
        },
        "outputId": "809a92bf-2115-45b6-a6b8-96d6a60041ae"
      },
      "source": [
        "df['Item_Fat_Content'] = df['Item_Fat_Content'].str.replace('LF','Low Fat')\n",
        "df['Item_Fat_Content'] = df['Item_Fat_Content'].str.replace('low fat','Low Fat')\n",
        "df['Item_Fat_Content'] = df['Item_Fat_Content'].str.replace('reg','Regular')\n",
        "\n",
        "df['Item_Fat_Content'].value_counts()"
      ],
      "execution_count": null,
      "outputs": [
        {
          "output_type": "execute_result",
          "data": {
            "text/plain": [
              "Low Fat    9185\n",
              "Regular    5019\n",
              "Name: Item_Fat_Content, dtype: int64"
            ]
          },
          "metadata": {
            "tags": []
          },
          "execution_count": 60
        }
      ]
    },
    {
      "cell_type": "markdown",
      "metadata": {
        "id": "OQrwUsDAIxWM",
        "colab_type": "text"
      },
      "source": [
        "#### Creating a new variable which will denote the type of product from the item identifier variable"
      ]
    },
    {
      "cell_type": "code",
      "metadata": {
        "id": "xj4mg0YzIxWO",
        "colab_type": "code",
        "colab": {}
      },
      "source": [
        "df['Item Category'] = df['Item_Identifier'].str[:2]"
      ],
      "execution_count": null,
      "outputs": []
    },
    {
      "cell_type": "code",
      "metadata": {
        "id": "AFq49CQhIxWW",
        "colab_type": "code",
        "colab": {
          "base_uri": "https://localhost:8080/",
          "height": 85
        },
        "outputId": "b16d7c51-136e-470d-ccce-6c300fc47706"
      },
      "source": [
        "df['Item Category'] = df['Item Category'].str.replace('FD','Food')\n",
        "df['Item Category'] = df['Item Category'].str.replace('DR','Drinks')\n",
        "df['Item Category'] = df['Item Category'].str.replace('NC','Non Consumable')\n",
        "\n",
        "df['Item Category'].value_counts()"
      ],
      "execution_count": null,
      "outputs": [
        {
          "output_type": "execute_result",
          "data": {
            "text/plain": [
              "Food              10201\n",
              "Non Consumable     2686\n",
              "Drinks             1317\n",
              "Name: Item Category, dtype: int64"
            ]
          },
          "metadata": {
            "tags": []
          },
          "execution_count": 62
        }
      ]
    },
    {
      "cell_type": "markdown",
      "metadata": {
        "id": "cVqmxm3pIxWj",
        "colab_type": "text"
      },
      "source": [
        "#### Imputing the null values for item weight"
      ]
    },
    {
      "cell_type": "markdown",
      "metadata": {
        "id": "SNOnLW5pIxWk",
        "colab_type": "text"
      },
      "source": [
        "#### Basis for imputation: The null values will be imputed based on the the type of the item. \n",
        "#### Assumption: Items of one type will have the same weight"
      ]
    },
    {
      "cell_type": "code",
      "metadata": {
        "id": "5yd4A6x4IxWm",
        "colab_type": "code",
        "colab": {
          "base_uri": "https://localhost:8080/",
          "height": 235
        },
        "outputId": "a33fdfa6-d275-4588-ed76-246d8cd3b8d6"
      },
      "source": [
        "weight_df = df.pivot_table(values = 'Item_Weight', index = 'Item_Identifier')\n",
        "weight_df.head()"
      ],
      "execution_count": null,
      "outputs": [
        {
          "output_type": "execute_result",
          "data": {
            "text/html": [
              "<div>\n",
              "<style scoped>\n",
              "    .dataframe tbody tr th:only-of-type {\n",
              "        vertical-align: middle;\n",
              "    }\n",
              "\n",
              "    .dataframe tbody tr th {\n",
              "        vertical-align: top;\n",
              "    }\n",
              "\n",
              "    .dataframe thead th {\n",
              "        text-align: right;\n",
              "    }\n",
              "</style>\n",
              "<table border=\"1\" class=\"dataframe\">\n",
              "  <thead>\n",
              "    <tr style=\"text-align: right;\">\n",
              "      <th></th>\n",
              "      <th>Item_Weight</th>\n",
              "    </tr>\n",
              "    <tr>\n",
              "      <th>Item_Identifier</th>\n",
              "      <th></th>\n",
              "    </tr>\n",
              "  </thead>\n",
              "  <tbody>\n",
              "    <tr>\n",
              "      <th>DRA12</th>\n",
              "      <td>11.600</td>\n",
              "    </tr>\n",
              "    <tr>\n",
              "      <th>DRA24</th>\n",
              "      <td>19.350</td>\n",
              "    </tr>\n",
              "    <tr>\n",
              "      <th>DRA59</th>\n",
              "      <td>8.270</td>\n",
              "    </tr>\n",
              "    <tr>\n",
              "      <th>DRB01</th>\n",
              "      <td>7.390</td>\n",
              "    </tr>\n",
              "    <tr>\n",
              "      <th>DRB13</th>\n",
              "      <td>6.115</td>\n",
              "    </tr>\n",
              "  </tbody>\n",
              "</table>\n",
              "</div>"
            ],
            "text/plain": [
              "                 Item_Weight\n",
              "Item_Identifier             \n",
              "DRA12                 11.600\n",
              "DRA24                 19.350\n",
              "DRA59                  8.270\n",
              "DRB01                  7.390\n",
              "DRB13                  6.115"
            ]
          },
          "metadata": {
            "tags": []
          },
          "execution_count": 63
        }
      ]
    },
    {
      "cell_type": "code",
      "metadata": {
        "id": "IYWQxrjcIxWw",
        "colab_type": "code",
        "colab": {
          "base_uri": "https://localhost:8080/",
          "height": 51
        },
        "outputId": "27921d3a-e358-4c8a-8db5-0182c5339373"
      },
      "source": [
        "def impute_weight(data):\n",
        "    Weight = data[0]\n",
        "    Identifier = data[1]\n",
        "    \n",
        "    if pd.isnull(Weight):\n",
        "        return weight_df['Item_Weight'][weight_df.index == Identifier]\n",
        "    else:\n",
        "        return Weight\n",
        "    \n",
        "print ('Orignal #missing: %d'%sum(df['Item_Weight'].isnull()))\n",
        "\n",
        "df['Item_Weight'] = df[['Item_Weight','Item_Identifier']].apply(impute_weight,axis=1).astype(float)\n",
        "\n",
        "print ('Final #missing: %d'%sum(df['Item_Weight'].isnull()))"
      ],
      "execution_count": null,
      "outputs": [
        {
          "output_type": "stream",
          "text": [
            "Orignal #missing: 2439\n",
            "Final #missing: 0\n"
          ],
          "name": "stdout"
        }
      ]
    },
    {
      "cell_type": "code",
      "metadata": {
        "id": "azcuVuBGIxW6",
        "colab_type": "code",
        "colab": {
          "base_uri": "https://localhost:8080/",
          "height": 326
        },
        "outputId": "e5da52d4-0353-410e-8291-6055fba26c56"
      },
      "source": [
        "df.head()"
      ],
      "execution_count": null,
      "outputs": [
        {
          "output_type": "execute_result",
          "data": {
            "text/html": [
              "<div>\n",
              "<style scoped>\n",
              "    .dataframe tbody tr th:only-of-type {\n",
              "        vertical-align: middle;\n",
              "    }\n",
              "\n",
              "    .dataframe tbody tr th {\n",
              "        vertical-align: top;\n",
              "    }\n",
              "\n",
              "    .dataframe thead th {\n",
              "        text-align: right;\n",
              "    }\n",
              "</style>\n",
              "<table border=\"1\" class=\"dataframe\">\n",
              "  <thead>\n",
              "    <tr style=\"text-align: right;\">\n",
              "      <th></th>\n",
              "      <th>Item_Identifier</th>\n",
              "      <th>Item_Weight</th>\n",
              "      <th>Item_Fat_Content</th>\n",
              "      <th>Item_Visibility</th>\n",
              "      <th>Item_Type</th>\n",
              "      <th>Item_MRP</th>\n",
              "      <th>Outlet_Identifier</th>\n",
              "      <th>Outlet_Establishment_Year</th>\n",
              "      <th>Outlet_Size</th>\n",
              "      <th>Outlet_Location_Type</th>\n",
              "      <th>Outlet_Type</th>\n",
              "      <th>Item_Outlet_Sales</th>\n",
              "      <th>Data</th>\n",
              "      <th>Item Category</th>\n",
              "    </tr>\n",
              "  </thead>\n",
              "  <tbody>\n",
              "    <tr>\n",
              "      <th>0</th>\n",
              "      <td>FDA15</td>\n",
              "      <td>9.30</td>\n",
              "      <td>Low Fat</td>\n",
              "      <td>0.016047</td>\n",
              "      <td>Dairy</td>\n",
              "      <td>249.8092</td>\n",
              "      <td>OUT049</td>\n",
              "      <td>1999</td>\n",
              "      <td>Medium</td>\n",
              "      <td>Tier 1</td>\n",
              "      <td>Supermarket Type1</td>\n",
              "      <td>3735.1380</td>\n",
              "      <td>Train</td>\n",
              "      <td>Food</td>\n",
              "    </tr>\n",
              "    <tr>\n",
              "      <th>1</th>\n",
              "      <td>DRC01</td>\n",
              "      <td>5.92</td>\n",
              "      <td>Regular</td>\n",
              "      <td>0.019278</td>\n",
              "      <td>Soft Drinks</td>\n",
              "      <td>48.2692</td>\n",
              "      <td>OUT018</td>\n",
              "      <td>2009</td>\n",
              "      <td>Medium</td>\n",
              "      <td>Tier 3</td>\n",
              "      <td>Supermarket Type2</td>\n",
              "      <td>443.4228</td>\n",
              "      <td>Train</td>\n",
              "      <td>Drinks</td>\n",
              "    </tr>\n",
              "    <tr>\n",
              "      <th>2</th>\n",
              "      <td>FDN15</td>\n",
              "      <td>17.50</td>\n",
              "      <td>Low Fat</td>\n",
              "      <td>0.016760</td>\n",
              "      <td>Meat</td>\n",
              "      <td>141.6180</td>\n",
              "      <td>OUT049</td>\n",
              "      <td>1999</td>\n",
              "      <td>Medium</td>\n",
              "      <td>Tier 1</td>\n",
              "      <td>Supermarket Type1</td>\n",
              "      <td>2097.2700</td>\n",
              "      <td>Train</td>\n",
              "      <td>Food</td>\n",
              "    </tr>\n",
              "    <tr>\n",
              "      <th>3</th>\n",
              "      <td>FDX07</td>\n",
              "      <td>19.20</td>\n",
              "      <td>Regular</td>\n",
              "      <td>0.000000</td>\n",
              "      <td>Fruits and Vegetables</td>\n",
              "      <td>182.0950</td>\n",
              "      <td>OUT010</td>\n",
              "      <td>1998</td>\n",
              "      <td>Small</td>\n",
              "      <td>Tier 3</td>\n",
              "      <td>Grocery Store</td>\n",
              "      <td>732.3800</td>\n",
              "      <td>Train</td>\n",
              "      <td>Food</td>\n",
              "    </tr>\n",
              "    <tr>\n",
              "      <th>4</th>\n",
              "      <td>NCD19</td>\n",
              "      <td>8.93</td>\n",
              "      <td>Low Fat</td>\n",
              "      <td>0.000000</td>\n",
              "      <td>Household</td>\n",
              "      <td>53.8614</td>\n",
              "      <td>OUT013</td>\n",
              "      <td>1987</td>\n",
              "      <td>High</td>\n",
              "      <td>Tier 3</td>\n",
              "      <td>Supermarket Type1</td>\n",
              "      <td>994.7052</td>\n",
              "      <td>Train</td>\n",
              "      <td>Non Consumable</td>\n",
              "    </tr>\n",
              "  </tbody>\n",
              "</table>\n",
              "</div>"
            ],
            "text/plain": [
              "  Item_Identifier  Item_Weight  ...   Data   Item Category\n",
              "0           FDA15         9.30  ...  Train            Food\n",
              "1           DRC01         5.92  ...  Train          Drinks\n",
              "2           FDN15        17.50  ...  Train            Food\n",
              "3           FDX07        19.20  ...  Train            Food\n",
              "4           NCD19         8.93  ...  Train  Non Consumable\n",
              "\n",
              "[5 rows x 14 columns]"
            ]
          },
          "metadata": {
            "tags": []
          },
          "execution_count": 65
        }
      ]
    },
    {
      "cell_type": "code",
      "metadata": {
        "id": "dnU9iWQHIxXC",
        "colab_type": "code",
        "colab": {
          "base_uri": "https://localhost:8080/",
          "height": 297
        },
        "outputId": "be341a64-4218-44fb-96f5-e69a15818db7"
      },
      "source": [
        "df.describe()"
      ],
      "execution_count": null,
      "outputs": [
        {
          "output_type": "execute_result",
          "data": {
            "text/html": [
              "<div>\n",
              "<style scoped>\n",
              "    .dataframe tbody tr th:only-of-type {\n",
              "        vertical-align: middle;\n",
              "    }\n",
              "\n",
              "    .dataframe tbody tr th {\n",
              "        vertical-align: top;\n",
              "    }\n",
              "\n",
              "    .dataframe thead th {\n",
              "        text-align: right;\n",
              "    }\n",
              "</style>\n",
              "<table border=\"1\" class=\"dataframe\">\n",
              "  <thead>\n",
              "    <tr style=\"text-align: right;\">\n",
              "      <th></th>\n",
              "      <th>Item_Weight</th>\n",
              "      <th>Item_Visibility</th>\n",
              "      <th>Item_MRP</th>\n",
              "      <th>Outlet_Establishment_Year</th>\n",
              "      <th>Item_Outlet_Sales</th>\n",
              "    </tr>\n",
              "  </thead>\n",
              "  <tbody>\n",
              "    <tr>\n",
              "      <th>count</th>\n",
              "      <td>14204.000000</td>\n",
              "      <td>14204.000000</td>\n",
              "      <td>14204.000000</td>\n",
              "      <td>14204.000000</td>\n",
              "      <td>8523.000000</td>\n",
              "    </tr>\n",
              "    <tr>\n",
              "      <th>mean</th>\n",
              "      <td>12.793380</td>\n",
              "      <td>0.065953</td>\n",
              "      <td>141.004977</td>\n",
              "      <td>1997.830681</td>\n",
              "      <td>2181.288914</td>\n",
              "    </tr>\n",
              "    <tr>\n",
              "      <th>std</th>\n",
              "      <td>4.651716</td>\n",
              "      <td>0.051459</td>\n",
              "      <td>62.086938</td>\n",
              "      <td>8.371664</td>\n",
              "      <td>1706.499616</td>\n",
              "    </tr>\n",
              "    <tr>\n",
              "      <th>min</th>\n",
              "      <td>4.555000</td>\n",
              "      <td>0.000000</td>\n",
              "      <td>31.290000</td>\n",
              "      <td>1985.000000</td>\n",
              "      <td>33.290000</td>\n",
              "    </tr>\n",
              "    <tr>\n",
              "      <th>25%</th>\n",
              "      <td>8.710000</td>\n",
              "      <td>0.027036</td>\n",
              "      <td>94.012000</td>\n",
              "      <td>1987.000000</td>\n",
              "      <td>834.247400</td>\n",
              "    </tr>\n",
              "    <tr>\n",
              "      <th>50%</th>\n",
              "      <td>12.600000</td>\n",
              "      <td>0.054021</td>\n",
              "      <td>142.247000</td>\n",
              "      <td>1999.000000</td>\n",
              "      <td>1794.331000</td>\n",
              "    </tr>\n",
              "    <tr>\n",
              "      <th>75%</th>\n",
              "      <td>16.750000</td>\n",
              "      <td>0.094037</td>\n",
              "      <td>185.855600</td>\n",
              "      <td>2004.000000</td>\n",
              "      <td>3101.296400</td>\n",
              "    </tr>\n",
              "    <tr>\n",
              "      <th>max</th>\n",
              "      <td>21.350000</td>\n",
              "      <td>0.328391</td>\n",
              "      <td>266.888400</td>\n",
              "      <td>2009.000000</td>\n",
              "      <td>13086.964800</td>\n",
              "    </tr>\n",
              "  </tbody>\n",
              "</table>\n",
              "</div>"
            ],
            "text/plain": [
              "        Item_Weight  ...  Item_Outlet_Sales\n",
              "count  14204.000000  ...        8523.000000\n",
              "mean      12.793380  ...        2181.288914\n",
              "std        4.651716  ...        1706.499616\n",
              "min        4.555000  ...          33.290000\n",
              "25%        8.710000  ...         834.247400\n",
              "50%       12.600000  ...        1794.331000\n",
              "75%       16.750000  ...        3101.296400\n",
              "max       21.350000  ...       13086.964800\n",
              "\n",
              "[8 rows x 5 columns]"
            ]
          },
          "metadata": {
            "tags": []
          },
          "execution_count": 66
        }
      ]
    },
    {
      "cell_type": "markdown",
      "metadata": {
        "id": "eAplIvgoIxXK",
        "colab_type": "text"
      },
      "source": [
        "#### Item Visibility has a minimum value of zero which is not possible in an outlet store.\n",
        "\n",
        "#### Basis of imputation: The products with zero visibility will be replaced by the average visibility of the product types "
      ]
    },
    {
      "cell_type": "code",
      "metadata": {
        "id": "47D3yTs3IxXM",
        "colab_type": "code",
        "colab": {
          "base_uri": "https://localhost:8080/",
          "height": 235
        },
        "outputId": "14b5f8c9-6def-407c-9bbb-064f46be048e"
      },
      "source": [
        "visibility_df = df.pivot_table(index = 'Item_Identifier', values = 'Item_Visibility', aggfunc = 'mean')\n",
        "visibility_df.head()"
      ],
      "execution_count": null,
      "outputs": [
        {
          "output_type": "execute_result",
          "data": {
            "text/html": [
              "<div>\n",
              "<style scoped>\n",
              "    .dataframe tbody tr th:only-of-type {\n",
              "        vertical-align: middle;\n",
              "    }\n",
              "\n",
              "    .dataframe tbody tr th {\n",
              "        vertical-align: top;\n",
              "    }\n",
              "\n",
              "    .dataframe thead th {\n",
              "        text-align: right;\n",
              "    }\n",
              "</style>\n",
              "<table border=\"1\" class=\"dataframe\">\n",
              "  <thead>\n",
              "    <tr style=\"text-align: right;\">\n",
              "      <th></th>\n",
              "      <th>Item_Visibility</th>\n",
              "    </tr>\n",
              "    <tr>\n",
              "      <th>Item_Identifier</th>\n",
              "      <th></th>\n",
              "    </tr>\n",
              "  </thead>\n",
              "  <tbody>\n",
              "    <tr>\n",
              "      <th>DRA12</th>\n",
              "      <td>0.034938</td>\n",
              "    </tr>\n",
              "    <tr>\n",
              "      <th>DRA24</th>\n",
              "      <td>0.045646</td>\n",
              "    </tr>\n",
              "    <tr>\n",
              "      <th>DRA59</th>\n",
              "      <td>0.133384</td>\n",
              "    </tr>\n",
              "    <tr>\n",
              "      <th>DRB01</th>\n",
              "      <td>0.079736</td>\n",
              "    </tr>\n",
              "    <tr>\n",
              "      <th>DRB13</th>\n",
              "      <td>0.006799</td>\n",
              "    </tr>\n",
              "  </tbody>\n",
              "</table>\n",
              "</div>"
            ],
            "text/plain": [
              "                 Item_Visibility\n",
              "Item_Identifier                 \n",
              "DRA12                   0.034938\n",
              "DRA24                   0.045646\n",
              "DRA59                   0.133384\n",
              "DRB01                   0.079736\n",
              "DRB13                   0.006799"
            ]
          },
          "metadata": {
            "tags": []
          },
          "execution_count": 67
        }
      ]
    },
    {
      "cell_type": "code",
      "metadata": {
        "id": "fmAFDUIpIxXV",
        "colab_type": "code",
        "colab": {
          "base_uri": "https://localhost:8080/",
          "height": 51
        },
        "outputId": "246c6770-736f-4f68-8836-b834d231d488"
      },
      "source": [
        "def impute_visibility_mean(data):\n",
        "    visibility = data[0]\n",
        "    item = data[1]\n",
        "    \n",
        "    if visibility == 0:\n",
        "        return visibility_df['Item_Visibility'][visibility_df.index == item]\n",
        "    else:\n",
        "        return visibility\n",
        "    \n",
        "print ('Original #zeros: %d'%sum(df['Item_Visibility'] == 0))\n",
        "\n",
        "df['Item_Visibility'] = df[['Item_Visibility','Item_Identifier']].apply(impute_visibility_mean,axis = 1).astype(float)\n",
        "\n",
        "print ('Final #zeros: %d'%sum(df['Item_Visibility'] == 0))"
      ],
      "execution_count": null,
      "outputs": [
        {
          "output_type": "stream",
          "text": [
            "Original #zeros: 879\n",
            "Final #zeros: 0\n"
          ],
          "name": "stdout"
        }
      ]
    },
    {
      "cell_type": "code",
      "metadata": {
        "id": "OwyELnVmIxXg",
        "colab_type": "code",
        "colab": {
          "base_uri": "https://localhost:8080/",
          "height": 297
        },
        "outputId": "3f286f39-142d-4975-88b3-2b28a550f501"
      },
      "source": [
        "df.describe()"
      ],
      "execution_count": null,
      "outputs": [
        {
          "output_type": "execute_result",
          "data": {
            "text/html": [
              "<div>\n",
              "<style scoped>\n",
              "    .dataframe tbody tr th:only-of-type {\n",
              "        vertical-align: middle;\n",
              "    }\n",
              "\n",
              "    .dataframe tbody tr th {\n",
              "        vertical-align: top;\n",
              "    }\n",
              "\n",
              "    .dataframe thead th {\n",
              "        text-align: right;\n",
              "    }\n",
              "</style>\n",
              "<table border=\"1\" class=\"dataframe\">\n",
              "  <thead>\n",
              "    <tr style=\"text-align: right;\">\n",
              "      <th></th>\n",
              "      <th>Item_Weight</th>\n",
              "      <th>Item_Visibility</th>\n",
              "      <th>Item_MRP</th>\n",
              "      <th>Outlet_Establishment_Year</th>\n",
              "      <th>Item_Outlet_Sales</th>\n",
              "    </tr>\n",
              "  </thead>\n",
              "  <tbody>\n",
              "    <tr>\n",
              "      <th>count</th>\n",
              "      <td>14204.000000</td>\n",
              "      <td>14204.000000</td>\n",
              "      <td>14204.000000</td>\n",
              "      <td>14204.000000</td>\n",
              "      <td>8523.000000</td>\n",
              "    </tr>\n",
              "    <tr>\n",
              "      <th>mean</th>\n",
              "      <td>12.793380</td>\n",
              "      <td>0.069710</td>\n",
              "      <td>141.004977</td>\n",
              "      <td>1997.830681</td>\n",
              "      <td>2181.288914</td>\n",
              "    </tr>\n",
              "    <tr>\n",
              "      <th>std</th>\n",
              "      <td>4.651716</td>\n",
              "      <td>0.049728</td>\n",
              "      <td>62.086938</td>\n",
              "      <td>8.371664</td>\n",
              "      <td>1706.499616</td>\n",
              "    </tr>\n",
              "    <tr>\n",
              "      <th>min</th>\n",
              "      <td>4.555000</td>\n",
              "      <td>0.003575</td>\n",
              "      <td>31.290000</td>\n",
              "      <td>1985.000000</td>\n",
              "      <td>33.290000</td>\n",
              "    </tr>\n",
              "    <tr>\n",
              "      <th>25%</th>\n",
              "      <td>8.710000</td>\n",
              "      <td>0.031145</td>\n",
              "      <td>94.012000</td>\n",
              "      <td>1987.000000</td>\n",
              "      <td>834.247400</td>\n",
              "    </tr>\n",
              "    <tr>\n",
              "      <th>50%</th>\n",
              "      <td>12.600000</td>\n",
              "      <td>0.057194</td>\n",
              "      <td>142.247000</td>\n",
              "      <td>1999.000000</td>\n",
              "      <td>1794.331000</td>\n",
              "    </tr>\n",
              "    <tr>\n",
              "      <th>75%</th>\n",
              "      <td>16.750000</td>\n",
              "      <td>0.096930</td>\n",
              "      <td>185.855600</td>\n",
              "      <td>2004.000000</td>\n",
              "      <td>3101.296400</td>\n",
              "    </tr>\n",
              "    <tr>\n",
              "      <th>max</th>\n",
              "      <td>21.350000</td>\n",
              "      <td>0.328391</td>\n",
              "      <td>266.888400</td>\n",
              "      <td>2009.000000</td>\n",
              "      <td>13086.964800</td>\n",
              "    </tr>\n",
              "  </tbody>\n",
              "</table>\n",
              "</div>"
            ],
            "text/plain": [
              "        Item_Weight  ...  Item_Outlet_Sales\n",
              "count  14204.000000  ...        8523.000000\n",
              "mean      12.793380  ...        2181.288914\n",
              "std        4.651716  ...        1706.499616\n",
              "min        4.555000  ...          33.290000\n",
              "25%        8.710000  ...         834.247400\n",
              "50%       12.600000  ...        1794.331000\n",
              "75%       16.750000  ...        3101.296400\n",
              "max       21.350000  ...       13086.964800\n",
              "\n",
              "[8 rows x 5 columns]"
            ]
          },
          "metadata": {
            "tags": []
          },
          "execution_count": 69
        }
      ]
    },
    {
      "cell_type": "markdown",
      "metadata": {
        "id": "9Rc6wCdrIxXt",
        "colab_type": "text"
      },
      "source": [
        "#### We can see that the visibility minimum has increased from 0\n"
      ]
    },
    {
      "cell_type": "markdown",
      "metadata": {
        "id": "OYydtA9mIxXw",
        "colab_type": "text"
      },
      "source": [
        "### Exploratory Data Analysis"
      ]
    },
    {
      "cell_type": "markdown",
      "metadata": {
        "id": "tT3pqYSJIxXy",
        "colab_type": "text"
      },
      "source": [
        "#### Changing item type to item sub category, food type to item category"
      ]
    },
    {
      "cell_type": "code",
      "metadata": {
        "id": "P4EcNhozIxX5",
        "colab_type": "code",
        "colab": {
          "base_uri": "https://localhost:8080/",
          "height": 326
        },
        "outputId": "1f833309-32ed-4ed2-a78b-d42705285876"
      },
      "source": [
        "df.head()"
      ],
      "execution_count": null,
      "outputs": [
        {
          "output_type": "execute_result",
          "data": {
            "text/html": [
              "<div>\n",
              "<style scoped>\n",
              "    .dataframe tbody tr th:only-of-type {\n",
              "        vertical-align: middle;\n",
              "    }\n",
              "\n",
              "    .dataframe tbody tr th {\n",
              "        vertical-align: top;\n",
              "    }\n",
              "\n",
              "    .dataframe thead th {\n",
              "        text-align: right;\n",
              "    }\n",
              "</style>\n",
              "<table border=\"1\" class=\"dataframe\">\n",
              "  <thead>\n",
              "    <tr style=\"text-align: right;\">\n",
              "      <th></th>\n",
              "      <th>Item_Identifier</th>\n",
              "      <th>Item_Weight</th>\n",
              "      <th>Item_Fat_Content</th>\n",
              "      <th>Item_Visibility</th>\n",
              "      <th>Item_Type</th>\n",
              "      <th>Item_MRP</th>\n",
              "      <th>Outlet_Identifier</th>\n",
              "      <th>Outlet_Establishment_Year</th>\n",
              "      <th>Outlet_Size</th>\n",
              "      <th>Outlet_Location_Type</th>\n",
              "      <th>Outlet_Type</th>\n",
              "      <th>Item_Outlet_Sales</th>\n",
              "      <th>Data</th>\n",
              "      <th>Item Category</th>\n",
              "    </tr>\n",
              "  </thead>\n",
              "  <tbody>\n",
              "    <tr>\n",
              "      <th>0</th>\n",
              "      <td>FDA15</td>\n",
              "      <td>9.30</td>\n",
              "      <td>Low Fat</td>\n",
              "      <td>0.016047</td>\n",
              "      <td>Dairy</td>\n",
              "      <td>249.8092</td>\n",
              "      <td>OUT049</td>\n",
              "      <td>1999</td>\n",
              "      <td>Medium</td>\n",
              "      <td>Tier 1</td>\n",
              "      <td>Supermarket Type1</td>\n",
              "      <td>3735.1380</td>\n",
              "      <td>Train</td>\n",
              "      <td>Food</td>\n",
              "    </tr>\n",
              "    <tr>\n",
              "      <th>1</th>\n",
              "      <td>DRC01</td>\n",
              "      <td>5.92</td>\n",
              "      <td>Regular</td>\n",
              "      <td>0.019278</td>\n",
              "      <td>Soft Drinks</td>\n",
              "      <td>48.2692</td>\n",
              "      <td>OUT018</td>\n",
              "      <td>2009</td>\n",
              "      <td>Medium</td>\n",
              "      <td>Tier 3</td>\n",
              "      <td>Supermarket Type2</td>\n",
              "      <td>443.4228</td>\n",
              "      <td>Train</td>\n",
              "      <td>Drinks</td>\n",
              "    </tr>\n",
              "    <tr>\n",
              "      <th>2</th>\n",
              "      <td>FDN15</td>\n",
              "      <td>17.50</td>\n",
              "      <td>Low Fat</td>\n",
              "      <td>0.016760</td>\n",
              "      <td>Meat</td>\n",
              "      <td>141.6180</td>\n",
              "      <td>OUT049</td>\n",
              "      <td>1999</td>\n",
              "      <td>Medium</td>\n",
              "      <td>Tier 1</td>\n",
              "      <td>Supermarket Type1</td>\n",
              "      <td>2097.2700</td>\n",
              "      <td>Train</td>\n",
              "      <td>Food</td>\n",
              "    </tr>\n",
              "    <tr>\n",
              "      <th>3</th>\n",
              "      <td>FDX07</td>\n",
              "      <td>19.20</td>\n",
              "      <td>Regular</td>\n",
              "      <td>0.017834</td>\n",
              "      <td>Fruits and Vegetables</td>\n",
              "      <td>182.0950</td>\n",
              "      <td>OUT010</td>\n",
              "      <td>1998</td>\n",
              "      <td>Small</td>\n",
              "      <td>Tier 3</td>\n",
              "      <td>Grocery Store</td>\n",
              "      <td>732.3800</td>\n",
              "      <td>Train</td>\n",
              "      <td>Food</td>\n",
              "    </tr>\n",
              "    <tr>\n",
              "      <th>4</th>\n",
              "      <td>NCD19</td>\n",
              "      <td>8.93</td>\n",
              "      <td>Low Fat</td>\n",
              "      <td>0.009780</td>\n",
              "      <td>Household</td>\n",
              "      <td>53.8614</td>\n",
              "      <td>OUT013</td>\n",
              "      <td>1987</td>\n",
              "      <td>High</td>\n",
              "      <td>Tier 3</td>\n",
              "      <td>Supermarket Type1</td>\n",
              "      <td>994.7052</td>\n",
              "      <td>Train</td>\n",
              "      <td>Non Consumable</td>\n",
              "    </tr>\n",
              "  </tbody>\n",
              "</table>\n",
              "</div>"
            ],
            "text/plain": [
              "  Item_Identifier  Item_Weight  ...   Data   Item Category\n",
              "0           FDA15         9.30  ...  Train            Food\n",
              "1           DRC01         5.92  ...  Train          Drinks\n",
              "2           FDN15        17.50  ...  Train            Food\n",
              "3           FDX07        19.20  ...  Train            Food\n",
              "4           NCD19         8.93  ...  Train  Non Consumable\n",
              "\n",
              "[5 rows x 14 columns]"
            ]
          },
          "metadata": {
            "tags": []
          },
          "execution_count": 70
        }
      ]
    },
    {
      "cell_type": "code",
      "metadata": {
        "id": "agTC9mf4IxYF",
        "colab_type": "code",
        "colab": {
          "base_uri": "https://localhost:8080/",
          "height": 102
        },
        "outputId": "08832229-ed58-4a94-8e22-3a1c69a8f91d"
      },
      "source": [
        "df.columns"
      ],
      "execution_count": null,
      "outputs": [
        {
          "output_type": "execute_result",
          "data": {
            "text/plain": [
              "Index(['Item_Identifier', 'Item_Weight', 'Item_Fat_Content', 'Item_Visibility',\n",
              "       'Item_Type', 'Item_MRP', 'Outlet_Identifier',\n",
              "       'Outlet_Establishment_Year', 'Outlet_Size', 'Outlet_Location_Type',\n",
              "       'Outlet_Type', 'Item_Outlet_Sales', 'Data', 'Item Category'],\n",
              "      dtype='object')"
            ]
          },
          "metadata": {
            "tags": []
          },
          "execution_count": 71
        }
      ]
    },
    {
      "cell_type": "code",
      "metadata": {
        "id": "mZcZMyndIxYP",
        "colab_type": "code",
        "colab": {}
      },
      "source": [
        "df.columns = ['Item Id',\t'Item Weight',\t'Item Fat Content',\t'Item Visibility',\t'Item Sub Category',\t'Item MRP',\t'Outlet Id',\t'Outlet Establishment Year',\t'Outlet Size',\t'Outlet Location Type',\t'Outlet Type', 'Item Outlet Sales',\t'Data',\t'Item Category']"
      ],
      "execution_count": null,
      "outputs": []
    },
    {
      "cell_type": "code",
      "metadata": {
        "id": "R6w6m6T0IxYZ",
        "colab_type": "code",
        "colab": {
          "base_uri": "https://localhost:8080/",
          "height": 323
        },
        "outputId": "97e1ddb9-da2e-4c38-9186-4e1d27ba1b04"
      },
      "source": [
        "df.head()"
      ],
      "execution_count": null,
      "outputs": [
        {
          "output_type": "execute_result",
          "data": {
            "text/html": [
              "<div>\n",
              "<style scoped>\n",
              "    .dataframe tbody tr th:only-of-type {\n",
              "        vertical-align: middle;\n",
              "    }\n",
              "\n",
              "    .dataframe tbody tr th {\n",
              "        vertical-align: top;\n",
              "    }\n",
              "\n",
              "    .dataframe thead th {\n",
              "        text-align: right;\n",
              "    }\n",
              "</style>\n",
              "<table border=\"1\" class=\"dataframe\">\n",
              "  <thead>\n",
              "    <tr style=\"text-align: right;\">\n",
              "      <th></th>\n",
              "      <th>Item Id</th>\n",
              "      <th>Item Weight</th>\n",
              "      <th>Item Fat Content</th>\n",
              "      <th>Item Visibility</th>\n",
              "      <th>Item Sub Category</th>\n",
              "      <th>Item MRP</th>\n",
              "      <th>Outlet Id</th>\n",
              "      <th>Outlet Establishment Year</th>\n",
              "      <th>Outlet Size</th>\n",
              "      <th>Outlet Location Type</th>\n",
              "      <th>Outlet Type</th>\n",
              "      <th>Item Outlet Sales</th>\n",
              "      <th>Data</th>\n",
              "      <th>Item Category</th>\n",
              "    </tr>\n",
              "  </thead>\n",
              "  <tbody>\n",
              "    <tr>\n",
              "      <th>0</th>\n",
              "      <td>FDA15</td>\n",
              "      <td>9.30</td>\n",
              "      <td>Low Fat</td>\n",
              "      <td>0.016047</td>\n",
              "      <td>Dairy</td>\n",
              "      <td>249.8092</td>\n",
              "      <td>OUT049</td>\n",
              "      <td>1999</td>\n",
              "      <td>Medium</td>\n",
              "      <td>Tier 1</td>\n",
              "      <td>Supermarket Type1</td>\n",
              "      <td>3735.1380</td>\n",
              "      <td>Train</td>\n",
              "      <td>Food</td>\n",
              "    </tr>\n",
              "    <tr>\n",
              "      <th>1</th>\n",
              "      <td>DRC01</td>\n",
              "      <td>5.92</td>\n",
              "      <td>Regular</td>\n",
              "      <td>0.019278</td>\n",
              "      <td>Soft Drinks</td>\n",
              "      <td>48.2692</td>\n",
              "      <td>OUT018</td>\n",
              "      <td>2009</td>\n",
              "      <td>Medium</td>\n",
              "      <td>Tier 3</td>\n",
              "      <td>Supermarket Type2</td>\n",
              "      <td>443.4228</td>\n",
              "      <td>Train</td>\n",
              "      <td>Drinks</td>\n",
              "    </tr>\n",
              "    <tr>\n",
              "      <th>2</th>\n",
              "      <td>FDN15</td>\n",
              "      <td>17.50</td>\n",
              "      <td>Low Fat</td>\n",
              "      <td>0.016760</td>\n",
              "      <td>Meat</td>\n",
              "      <td>141.6180</td>\n",
              "      <td>OUT049</td>\n",
              "      <td>1999</td>\n",
              "      <td>Medium</td>\n",
              "      <td>Tier 1</td>\n",
              "      <td>Supermarket Type1</td>\n",
              "      <td>2097.2700</td>\n",
              "      <td>Train</td>\n",
              "      <td>Food</td>\n",
              "    </tr>\n",
              "    <tr>\n",
              "      <th>3</th>\n",
              "      <td>FDX07</td>\n",
              "      <td>19.20</td>\n",
              "      <td>Regular</td>\n",
              "      <td>0.017834</td>\n",
              "      <td>Fruits and Vegetables</td>\n",
              "      <td>182.0950</td>\n",
              "      <td>OUT010</td>\n",
              "      <td>1998</td>\n",
              "      <td>Small</td>\n",
              "      <td>Tier 3</td>\n",
              "      <td>Grocery Store</td>\n",
              "      <td>732.3800</td>\n",
              "      <td>Train</td>\n",
              "      <td>Food</td>\n",
              "    </tr>\n",
              "    <tr>\n",
              "      <th>4</th>\n",
              "      <td>NCD19</td>\n",
              "      <td>8.93</td>\n",
              "      <td>Low Fat</td>\n",
              "      <td>0.009780</td>\n",
              "      <td>Household</td>\n",
              "      <td>53.8614</td>\n",
              "      <td>OUT013</td>\n",
              "      <td>1987</td>\n",
              "      <td>High</td>\n",
              "      <td>Tier 3</td>\n",
              "      <td>Supermarket Type1</td>\n",
              "      <td>994.7052</td>\n",
              "      <td>Train</td>\n",
              "      <td>Non Consumable</td>\n",
              "    </tr>\n",
              "  </tbody>\n",
              "</table>\n",
              "</div>"
            ],
            "text/plain": [
              "  Item Id  Item Weight  ...   Data   Item Category\n",
              "0   FDA15         9.30  ...  Train            Food\n",
              "1   DRC01         5.92  ...  Train          Drinks\n",
              "2   FDN15        17.50  ...  Train            Food\n",
              "3   FDX07        19.20  ...  Train            Food\n",
              "4   NCD19         8.93  ...  Train  Non Consumable\n",
              "\n",
              "[5 rows x 14 columns]"
            ]
          },
          "metadata": {
            "tags": []
          },
          "execution_count": 81
        }
      ]
    },
    {
      "cell_type": "markdown",
      "metadata": {
        "id": "svWpojrpIxYh",
        "colab_type": "text"
      },
      "source": [
        "#### Lets look at the histogram of the outlet Sales"
      ]
    },
    {
      "cell_type": "code",
      "metadata": {
        "id": "NNhD8FsQIxYk",
        "colab_type": "code",
        "colab": {
          "base_uri": "https://localhost:8080/",
          "height": 500
        },
        "outputId": "dc1c301d-e1fd-4b51-bb03-3bafe8d7bca2"
      },
      "source": [
        "plt.figure(figsize = (20,8))\n",
        "df['Item Outlet Sales'].hist()"
      ],
      "execution_count": null,
      "outputs": [
        {
          "output_type": "execute_result",
          "data": {
            "text/plain": [
              "<matplotlib.axes._subplots.AxesSubplot at 0x7f8e3e734ef0>"
            ]
          },
          "metadata": {
            "tags": []
          },
          "execution_count": 82
        },
        {
          "output_type": "display_data",
          "data": {
            "image/png": "[encoded data removed]",
            "text/plain": [
              "<Figure size 1440x576 with 1 Axes>"
            ]
          },
          "metadata": {
            "tags": [],
            "needs_background": "light"
          }
        }
      ]
    },
    {
      "cell_type": "markdown",
      "metadata": {
        "id": "CzO-8NK8IxYt",
        "colab_type": "text"
      },
      "source": [
        "#### Here we can see that majority of the sales have been in the lower range but a few high sales more than $10,000 have increased the mean and pushed it towards the higher sales side."
      ]
    },
    {
      "cell_type": "markdown",
      "metadata": {
        "id": "tlHh1zTBIxYv",
        "colab_type": "text"
      },
      "source": [
        "#### We have three broad categories Food, Non Consumable and Drinks. Lets look at the number of products under each category"
      ]
    },
    {
      "cell_type": "code",
      "metadata": {
        "id": "jyS3OgWDIxYx",
        "colab_type": "code",
        "colab": {
          "base_uri": "https://localhost:8080/",
          "height": 102
        },
        "outputId": "744940ed-f3dd-4513-9378-eeb46bd0c7d8"
      },
      "source": [
        "df.groupby('Item Category')['Item Sub Category'].nunique().sort_values(ascending = False)"
      ],
      "execution_count": null,
      "outputs": [
        {
          "output_type": "execute_result",
          "data": {
            "text/plain": [
              "Item Category\n",
              "Food              11\n",
              "Non Consumable     3\n",
              "Drinks             3\n",
              "Name: Item Sub Category, dtype: int64"
            ]
          },
          "metadata": {
            "tags": []
          },
          "execution_count": 83
        }
      ]
    },
    {
      "cell_type": "markdown",
      "metadata": {
        "id": "jf1Mg8T-IxY9",
        "colab_type": "text"
      },
      "source": [
        "#### Finding the number of products under each sub category"
      ]
    },
    {
      "cell_type": "code",
      "metadata": {
        "id": "dO-MLkLUIxY_",
        "colab_type": "code",
        "colab": {
          "base_uri": "https://localhost:8080/",
          "height": 340
        },
        "outputId": "ae945db6-177d-4a48-a602-1bc617087a6a"
      },
      "source": [
        "df.groupby(['Item Category','Item Sub Category'])['Item Id'].nunique()"
      ],
      "execution_count": null,
      "outputs": [
        {
          "output_type": "execute_result",
          "data": {
            "text/plain": [
              "Item Category   Item Sub Category    \n",
              "Drinks          Dairy                     25\n",
              "                Hard Drinks               40\n",
              "                Soft Drinks               80\n",
              "Food            Baking Goods             119\n",
              "                Breads                    45\n",
              "                Breakfast                 20\n",
              "                Canned                   120\n",
              "                Dairy                    100\n",
              "                Frozen Foods             155\n",
              "                Fruits and Vegetables    220\n",
              "                Meat                      80\n",
              "                Seafood                   10\n",
              "                Snack Foods              220\n",
              "                Starchy Foods             30\n",
              "Non Consumable  Health and Hygiene        95\n",
              "                Household                170\n",
              "                Others                    30\n",
              "Name: Item Id, dtype: int64"
            ]
          },
          "metadata": {
            "tags": []
          },
          "execution_count": 84
        }
      ]
    },
    {
      "cell_type": "markdown",
      "metadata": {
        "id": "1IKdRTkfIxZH",
        "colab_type": "text"
      },
      "source": [
        "#### Lets look at the contribution of our Product Categories to our overall sales"
      ]
    },
    {
      "cell_type": "code",
      "metadata": {
        "id": "PxQvlEsXNf3c",
        "colab_type": "code",
        "colab": {
          "base_uri": "https://localhost:8080/",
          "height": 323
        },
        "outputId": "e553dafe-6df8-424b-e792-fda39b7d7911"
      },
      "source": [
        "df.head()"
      ],
      "execution_count": null,
      "outputs": [
        {
          "output_type": "execute_result",
          "data": {
            "text/html": [
              "<div>\n",
              "<style scoped>\n",
              "    .dataframe tbody tr th:only-of-type {\n",
              "        vertical-align: middle;\n",
              "    }\n",
              "\n",
              "    .dataframe tbody tr th {\n",
              "        vertical-align: top;\n",
              "    }\n",
              "\n",
              "    .dataframe thead th {\n",
              "        text-align: right;\n",
              "    }\n",
              "</style>\n",
              "<table border=\"1\" class=\"dataframe\">\n",
              "  <thead>\n",
              "    <tr style=\"text-align: right;\">\n",
              "      <th></th>\n",
              "      <th>Item Id</th>\n",
              "      <th>Item Weight</th>\n",
              "      <th>Item Fat Content</th>\n",
              "      <th>Item Visibility</th>\n",
              "      <th>Item Sub Category</th>\n",
              "      <th>Item MRP</th>\n",
              "      <th>Outlet Id</th>\n",
              "      <th>Outlet Establishment Year</th>\n",
              "      <th>Outlet Size</th>\n",
              "      <th>Outlet Location Type</th>\n",
              "      <th>Outlet Type</th>\n",
              "      <th>Item Outlet Sales</th>\n",
              "      <th>Data</th>\n",
              "      <th>Item Category</th>\n",
              "    </tr>\n",
              "  </thead>\n",
              "  <tbody>\n",
              "    <tr>\n",
              "      <th>0</th>\n",
              "      <td>FDA15</td>\n",
              "      <td>9.30</td>\n",
              "      <td>Low Fat</td>\n",
              "      <td>0.016047</td>\n",
              "      <td>Dairy</td>\n",
              "      <td>249.8092</td>\n",
              "      <td>OUT049</td>\n",
              "      <td>1999</td>\n",
              "      <td>Medium</td>\n",
              "      <td>Tier 1</td>\n",
              "      <td>Supermarket Type1</td>\n",
              "      <td>3735.1380</td>\n",
              "      <td>Train</td>\n",
              "      <td>Food</td>\n",
              "    </tr>\n",
              "    <tr>\n",
              "      <th>1</th>\n",
              "      <td>DRC01</td>\n",
              "      <td>5.92</td>\n",
              "      <td>Regular</td>\n",
              "      <td>0.019278</td>\n",
              "      <td>Soft Drinks</td>\n",
              "      <td>48.2692</td>\n",
              "      <td>OUT018</td>\n",
              "      <td>2009</td>\n",
              "      <td>Medium</td>\n",
              "      <td>Tier 3</td>\n",
              "      <td>Supermarket Type2</td>\n",
              "      <td>443.4228</td>\n",
              "      <td>Train</td>\n",
              "      <td>Drinks</td>\n",
              "    </tr>\n",
              "    <tr>\n",
              "      <th>2</th>\n",
              "      <td>FDN15</td>\n",
              "      <td>17.50</td>\n",
              "      <td>Low Fat</td>\n",
              "      <td>0.016760</td>\n",
              "      <td>Meat</td>\n",
              "      <td>141.6180</td>\n",
              "      <td>OUT049</td>\n",
              "      <td>1999</td>\n",
              "      <td>Medium</td>\n",
              "      <td>Tier 1</td>\n",
              "      <td>Supermarket Type1</td>\n",
              "      <td>2097.2700</td>\n",
              "      <td>Train</td>\n",
              "      <td>Food</td>\n",
              "    </tr>\n",
              "    <tr>\n",
              "      <th>3</th>\n",
              "      <td>FDX07</td>\n",
              "      <td>19.20</td>\n",
              "      <td>Regular</td>\n",
              "      <td>0.017834</td>\n",
              "      <td>Fruits and Vegetables</td>\n",
              "      <td>182.0950</td>\n",
              "      <td>OUT010</td>\n",
              "      <td>1998</td>\n",
              "      <td>Small</td>\n",
              "      <td>Tier 3</td>\n",
              "      <td>Grocery Store</td>\n",
              "      <td>732.3800</td>\n",
              "      <td>Train</td>\n",
              "      <td>Food</td>\n",
              "    </tr>\n",
              "    <tr>\n",
              "      <th>4</th>\n",
              "      <td>NCD19</td>\n",
              "      <td>8.93</td>\n",
              "      <td>Low Fat</td>\n",
              "      <td>0.009780</td>\n",
              "      <td>Household</td>\n",
              "      <td>53.8614</td>\n",
              "      <td>OUT013</td>\n",
              "      <td>1987</td>\n",
              "      <td>High</td>\n",
              "      <td>Tier 3</td>\n",
              "      <td>Supermarket Type1</td>\n",
              "      <td>994.7052</td>\n",
              "      <td>Train</td>\n",
              "      <td>Non Consumable</td>\n",
              "    </tr>\n",
              "  </tbody>\n",
              "</table>\n",
              "</div>"
            ],
            "text/plain": [
              "  Item Id  Item Weight  ...   Data   Item Category\n",
              "0   FDA15         9.30  ...  Train            Food\n",
              "1   DRC01         5.92  ...  Train          Drinks\n",
              "2   FDN15        17.50  ...  Train            Food\n",
              "3   FDX07        19.20  ...  Train            Food\n",
              "4   NCD19         8.93  ...  Train  Non Consumable\n",
              "\n",
              "[5 rows x 14 columns]"
            ]
          },
          "metadata": {
            "tags": []
          },
          "execution_count": 85
        }
      ]
    },
    {
      "cell_type": "code",
      "metadata": {
        "id": "8ypdy09vIxZJ",
        "colab_type": "code",
        "colab": {
          "base_uri": "https://localhost:8080/",
          "height": 173
        },
        "outputId": "7cbf66d1-8b11-4992-fba7-df870ce03d4f"
      },
      "source": [
        "category_sales = pd.DataFrame(df.groupby('Item Category')['Item Outlet Sales'].sum().astype(int))\n",
        "category_sales['Percentage of Total'] = category_sales['Item Outlet Sales']/category_sales['Item Outlet Sales'].sum()*100\n",
        "category_sales.sort_values(by = 'Percentage of Total', ascending = False)"
      ],
      "execution_count": null,
      "outputs": [
        {
          "output_type": "execute_result",
          "data": {
            "text/html": [
              "<div>\n",
              "<style scoped>\n",
              "    .dataframe tbody tr th:only-of-type {\n",
              "        vertical-align: middle;\n",
              "    }\n",
              "\n",
              "    .dataframe tbody tr th {\n",
              "        vertical-align: top;\n",
              "    }\n",
              "\n",
              "    .dataframe thead th {\n",
              "        text-align: right;\n",
              "    }\n",
              "</style>\n",
              "<table border=\"1\" class=\"dataframe\">\n",
              "  <thead>\n",
              "    <tr style=\"text-align: right;\">\n",
              "      <th></th>\n",
              "      <th>Item Outlet Sales</th>\n",
              "      <th>Percentage of Total</th>\n",
              "    </tr>\n",
              "    <tr>\n",
              "      <th>Item Category</th>\n",
              "      <th></th>\n",
              "      <th></th>\n",
              "    </tr>\n",
              "  </thead>\n",
              "  <tbody>\n",
              "    <tr>\n",
              "      <th>Food</th>\n",
              "      <td>13569044</td>\n",
              "      <td>72.986679</td>\n",
              "    </tr>\n",
              "    <tr>\n",
              "      <th>Non Consumable</th>\n",
              "      <td>3426211</td>\n",
              "      <td>18.429284</td>\n",
              "    </tr>\n",
              "    <tr>\n",
              "      <th>Drinks</th>\n",
              "      <td>1595869</td>\n",
              "      <td>8.584037</td>\n",
              "    </tr>\n",
              "  </tbody>\n",
              "</table>\n",
              "</div>"
            ],
            "text/plain": [
              "                Item Outlet Sales  Percentage of Total\n",
              "Item Category                                         \n",
              "Food                     13569044            72.986679\n",
              "Non Consumable            3426211            18.429284\n",
              "Drinks                    1595869             8.584037"
            ]
          },
          "metadata": {
            "tags": []
          },
          "execution_count": 86
        }
      ]
    },
    {
      "cell_type": "code",
      "metadata": {
        "id": "Rb7c_nZJIxZU",
        "colab_type": "code",
        "colab": {
          "base_uri": "https://localhost:8080/",
          "height": 542
        },
        "outputId": "aa197d57-d095-4678-c08d-6be48756ad26"
      },
      "source": [
        "plt.figure(figsize = (20,8))\n",
        "df.groupby('Item Category')['Item Outlet Sales'].sum().sort_values(ascending = False).plot.bar()\n",
        "plt.xticks(rotation = 360, fontsize = 12)\n",
        "plt.yticks(fontsize = 12)\n",
        "plt.xlabel(\"Product Categories\", fontsize = 15)\n",
        "plt.ylabel(\"Total Sales\", fontsize = 15)\n",
        "plt.title(\"Total Sales of Product Categories\", fontsize = 18)"
      ],
      "execution_count": null,
      "outputs": [
        {
          "output_type": "execute_result",
          "data": {
            "text/plain": [
              "Text(0.5, 1.0, 'Total Sales of Product Categories')"
            ]
          },
          "metadata": {
            "tags": []
          },
          "execution_count": 87
        },
        {
          "output_type": "display_data",
          "data": {
            "image/png": "[encoded data removed]",
            "text/plain": [
              "<Figure size 1440x576 with 1 Axes>"
            ]
          },
          "metadata": {
            "tags": [],
            "needs_background": "light"
          }
        }
      ]
    },
    {
      "cell_type": "markdown",
      "metadata": {
        "id": "6dP-u564IxZf",
        "colab_type": "text"
      },
      "source": [
        "#### Here we can see that the food products is giving the highest revenue out of the total product types"
      ]
    },
    {
      "cell_type": "markdown",
      "metadata": {
        "id": "uzFLb1FDIxZh",
        "colab_type": "text"
      },
      "source": [
        "#### Lets look at the contribution of the product sub categories "
      ]
    },
    {
      "cell_type": "code",
      "metadata": {
        "scrolled": true,
        "id": "420B3buaIxZj",
        "colab_type": "code",
        "colab": {
          "base_uri": "https://localhost:8080/",
          "height": 576
        },
        "outputId": "38187114-0f50-4b24-b7d9-d1749fb5a6d0"
      },
      "source": [
        "sub_category_sales = pd.DataFrame(df.groupby('Item Sub Category')['Item Outlet Sales'].sum().astype(int))\n",
        "sub_category_sales['Percentage of Total'] = sub_category_sales['Item Outlet Sales']/sub_category_sales['Item Outlet Sales'].sum()*100\n",
        "sub_category_sales['Number of Items'] = df.groupby(['Item Sub Category'])['Item Id'].nunique()\n",
        "sub_category_sales['Sales per item'] = (sub_category_sales['Item Outlet Sales']/sub_category_sales['Number of Items']).astype(int)\n",
        "sub_category_sales.sort_values(by = 'Percentage of Total', ascending = False)"
      ],
      "execution_count": null,
      "outputs": [
        {
          "output_type": "execute_result",
          "data": {
            "text/html": [
              "<div>\n",
              "<style scoped>\n",
              "    .dataframe tbody tr th:only-of-type {\n",
              "        vertical-align: middle;\n",
              "    }\n",
              "\n",
              "    .dataframe tbody tr th {\n",
              "        vertical-align: top;\n",
              "    }\n",
              "\n",
              "    .dataframe thead th {\n",
              "        text-align: right;\n",
              "    }\n",
              "</style>\n",
              "<table border=\"1\" class=\"dataframe\">\n",
              "  <thead>\n",
              "    <tr style=\"text-align: right;\">\n",
              "      <th></th>\n",
              "      <th>Item Outlet Sales</th>\n",
              "      <th>Percentage of Total</th>\n",
              "      <th>Number of Items</th>\n",
              "      <th>Sales per item</th>\n",
              "    </tr>\n",
              "    <tr>\n",
              "      <th>Item Sub Category</th>\n",
              "      <th></th>\n",
              "      <th></th>\n",
              "      <th></th>\n",
              "      <th></th>\n",
              "    </tr>\n",
              "  </thead>\n",
              "  <tbody>\n",
              "    <tr>\n",
              "      <th>Fruits and Vegetables</th>\n",
              "      <td>2820059</td>\n",
              "      <td>15.168851</td>\n",
              "      <td>220</td>\n",
              "      <td>12818</td>\n",
              "    </tr>\n",
              "    <tr>\n",
              "      <th>Snack Foods</th>\n",
              "      <td>2732786</td>\n",
              "      <td>14.699417</td>\n",
              "      <td>220</td>\n",
              "      <td>12421</td>\n",
              "    </tr>\n",
              "    <tr>\n",
              "      <th>Household</th>\n",
              "      <td>2055493</td>\n",
              "      <td>11.056317</td>\n",
              "      <td>170</td>\n",
              "      <td>12091</td>\n",
              "    </tr>\n",
              "    <tr>\n",
              "      <th>Frozen Foods</th>\n",
              "      <td>1825734</td>\n",
              "      <td>9.820464</td>\n",
              "      <td>155</td>\n",
              "      <td>11778</td>\n",
              "    </tr>\n",
              "    <tr>\n",
              "      <th>Dairy</th>\n",
              "      <td>1522594</td>\n",
              "      <td>8.189900</td>\n",
              "      <td>125</td>\n",
              "      <td>12180</td>\n",
              "    </tr>\n",
              "    <tr>\n",
              "      <th>Canned</th>\n",
              "      <td>1444151</td>\n",
              "      <td>7.767962</td>\n",
              "      <td>120</td>\n",
              "      <td>12034</td>\n",
              "    </tr>\n",
              "    <tr>\n",
              "      <th>Baking Goods</th>\n",
              "      <td>1265525</td>\n",
              "      <td>6.807148</td>\n",
              "      <td>119</td>\n",
              "      <td>10634</td>\n",
              "    </tr>\n",
              "    <tr>\n",
              "      <th>Health and Hygiene</th>\n",
              "      <td>1045200</td>\n",
              "      <td>5.622040</td>\n",
              "      <td>95</td>\n",
              "      <td>11002</td>\n",
              "    </tr>\n",
              "    <tr>\n",
              "      <th>Meat</th>\n",
              "      <td>917565</td>\n",
              "      <td>4.935502</td>\n",
              "      <td>80</td>\n",
              "      <td>11469</td>\n",
              "    </tr>\n",
              "    <tr>\n",
              "      <th>Soft Drinks</th>\n",
              "      <td>892897</td>\n",
              "      <td>4.802815</td>\n",
              "      <td>80</td>\n",
              "      <td>11161</td>\n",
              "    </tr>\n",
              "    <tr>\n",
              "      <th>Breads</th>\n",
              "      <td>553237</td>\n",
              "      <td>2.975814</td>\n",
              "      <td>45</td>\n",
              "      <td>12294</td>\n",
              "    </tr>\n",
              "    <tr>\n",
              "      <th>Hard Drinks</th>\n",
              "      <td>457793</td>\n",
              "      <td>2.462429</td>\n",
              "      <td>40</td>\n",
              "      <td>11444</td>\n",
              "    </tr>\n",
              "    <tr>\n",
              "      <th>Starchy Foods</th>\n",
              "      <td>351401</td>\n",
              "      <td>1.890155</td>\n",
              "      <td>30</td>\n",
              "      <td>11713</td>\n",
              "    </tr>\n",
              "    <tr>\n",
              "      <th>Others</th>\n",
              "      <td>325517</td>\n",
              "      <td>1.750928</td>\n",
              "      <td>30</td>\n",
              "      <td>10850</td>\n",
              "    </tr>\n",
              "    <tr>\n",
              "      <th>Breakfast</th>\n",
              "      <td>232298</td>\n",
              "      <td>1.249511</td>\n",
              "      <td>20</td>\n",
              "      <td>11614</td>\n",
              "    </tr>\n",
              "    <tr>\n",
              "      <th>Seafood</th>\n",
              "      <td>148868</td>\n",
              "      <td>0.800748</td>\n",
              "      <td>10</td>\n",
              "      <td>14886</td>\n",
              "    </tr>\n",
              "  </tbody>\n",
              "</table>\n",
              "</div>"
            ],
            "text/plain": [
              "                       Item Outlet Sales  ...  Sales per item\n",
              "Item Sub Category                         ...                \n",
              "Fruits and Vegetables            2820059  ...           12818\n",
              "Snack Foods                      2732786  ...           12421\n",
              "Household                        2055493  ...           12091\n",
              "Frozen Foods                     1825734  ...           11778\n",
              "Dairy                            1522594  ...           12180\n",
              "Canned                           1444151  ...           12034\n",
              "Baking Goods                     1265525  ...           10634\n",
              "Health and Hygiene               1045200  ...           11002\n",
              "Meat                              917565  ...           11469\n",
              "Soft Drinks                       892897  ...           11161\n",
              "Breads                            553237  ...           12294\n",
              "Hard Drinks                       457793  ...           11444\n",
              "Starchy Foods                     351401  ...           11713\n",
              "Others                            325517  ...           10850\n",
              "Breakfast                         232298  ...           11614\n",
              "Seafood                           148868  ...           14886\n",
              "\n",
              "[16 rows x 4 columns]"
            ]
          },
          "metadata": {
            "tags": []
          },
          "execution_count": 88
        }
      ]
    },
    {
      "cell_type": "code",
      "metadata": {
        "id": "2ltUtlQdIxZv",
        "colab_type": "code",
        "colab": {
          "base_uri": "https://localhost:8080/",
          "height": 630
        },
        "outputId": "8a14fe73-6b8c-4b86-a6d4-5cc84f153253"
      },
      "source": [
        "plt.figure(figsize = (20,8))\n",
        "df.groupby('Item Sub Category')['Item Outlet Sales'].sum().sort_values(ascending = False).plot.bar()\n",
        "plt.xticks(rotation = 45,fontsize = 12)\n",
        "plt.yticks(fontsize = 12)\n",
        "plt.xlabel(\"Product Sub Categories\", fontsize = 15)\n",
        "plt.ylabel(\"Total Sales\", fontsize = 15)\n",
        "plt.title(\"Total Sales of Product Sub Categories\", fontsize = 18)"
      ],
      "execution_count": null,
      "outputs": [
        {
          "output_type": "execute_result",
          "data": {
            "text/plain": [
              "Text(0.5, 1.0, 'Total Sales of Product Sub Categories')"
            ]
          },
          "metadata": {
            "tags": []
          },
          "execution_count": 89
        },
        {
          "output_type": "display_data",
          "data": {
            "image/png": "[encoded data removed]",
            "text/plain": [
              "<Figure size 1440x576 with 1 Axes>"
            ]
          },
          "metadata": {
            "tags": [],
            "needs_background": "light"
          }
        }
      ]
    },
    {
      "cell_type": "markdown",
      "metadata": {
        "id": "GIBfLmFxIxZ3",
        "colab_type": "text"
      },
      "source": [
        "#### Here we can seee that Fruits and Vegetables, Snack Foods and Households are the top three revenue generating product sub categories"
      ]
    },
    {
      "cell_type": "markdown",
      "metadata": {
        "id": "F0dV1sdSIxZ5",
        "colab_type": "text"
      },
      "source": [
        "#### Lets find out within each category how the sub categories are doing?"
      ]
    },
    {
      "cell_type": "code",
      "metadata": {
        "scrolled": true,
        "id": "vOVKnr9MIxZ7",
        "colab_type": "code",
        "colab": {
          "base_uri": "https://localhost:8080/",
          "height": 607
        },
        "outputId": "d9d9724e-a28b-4f6c-a00c-65d5fad94b92"
      },
      "source": [
        "sub_category_sales_within_catgories = pd.DataFrame(df.groupby(['Item Category','Item Sub Category'])['Item Outlet Sales'].sum().astype(int))\n",
        "sub_category_sales_within_catgories['Percentage of Total'] = sub_category_sales_within_catgories['Item Outlet Sales']/sub_category_sales_within_catgories.groupby('Item Category')['Item Outlet Sales'].sum()*100\n",
        "sub_category_sales_within_catgories"
      ],
      "execution_count": null,
      "outputs": [
        {
          "output_type": "execute_result",
          "data": {
            "text/html": [
              "<div>\n",
              "<style scoped>\n",
              "    .dataframe tbody tr th:only-of-type {\n",
              "        vertical-align: middle;\n",
              "    }\n",
              "\n",
              "    .dataframe tbody tr th {\n",
              "        vertical-align: top;\n",
              "    }\n",
              "\n",
              "    .dataframe thead th {\n",
              "        text-align: right;\n",
              "    }\n",
              "</style>\n",
              "<table border=\"1\" class=\"dataframe\">\n",
              "  <thead>\n",
              "    <tr style=\"text-align: right;\">\n",
              "      <th></th>\n",
              "      <th></th>\n",
              "      <th>Item Outlet Sales</th>\n",
              "      <th>Percentage of Total</th>\n",
              "    </tr>\n",
              "    <tr>\n",
              "      <th>Item Category</th>\n",
              "      <th>Item Sub Category</th>\n",
              "      <th></th>\n",
              "      <th></th>\n",
              "    </tr>\n",
              "  </thead>\n",
              "  <tbody>\n",
              "    <tr>\n",
              "      <th rowspan=\"3\" valign=\"top\">Drinks</th>\n",
              "      <th>Dairy</th>\n",
              "      <td>245178</td>\n",
              "      <td>15.363301</td>\n",
              "    </tr>\n",
              "    <tr>\n",
              "      <th>Hard Drinks</th>\n",
              "      <td>457793</td>\n",
              "      <td>28.686144</td>\n",
              "    </tr>\n",
              "    <tr>\n",
              "      <th>Soft Drinks</th>\n",
              "      <td>892897</td>\n",
              "      <td>55.950555</td>\n",
              "    </tr>\n",
              "    <tr>\n",
              "      <th rowspan=\"11\" valign=\"top\">Food</th>\n",
              "      <th>Baking Goods</th>\n",
              "      <td>1265525</td>\n",
              "      <td>9.326563</td>\n",
              "    </tr>\n",
              "    <tr>\n",
              "      <th>Breads</th>\n",
              "      <td>553237</td>\n",
              "      <td>4.077201</td>\n",
              "    </tr>\n",
              "    <tr>\n",
              "      <th>Breakfast</th>\n",
              "      <td>232298</td>\n",
              "      <td>1.711971</td>\n",
              "    </tr>\n",
              "    <tr>\n",
              "      <th>Canned</th>\n",
              "      <td>1444151</td>\n",
              "      <td>10.642987</td>\n",
              "    </tr>\n",
              "    <tr>\n",
              "      <th>Dairy</th>\n",
              "      <td>1277415</td>\n",
              "      <td>9.414189</td>\n",
              "    </tr>\n",
              "    <tr>\n",
              "      <th>Frozen Foods</th>\n",
              "      <td>1825734</td>\n",
              "      <td>13.455146</td>\n",
              "    </tr>\n",
              "    <tr>\n",
              "      <th>Fruits and Vegetables</th>\n",
              "      <td>2820059</td>\n",
              "      <td>20.783041</td>\n",
              "    </tr>\n",
              "    <tr>\n",
              "      <th>Meat</th>\n",
              "      <td>917565</td>\n",
              "      <td>6.762196</td>\n",
              "    </tr>\n",
              "    <tr>\n",
              "      <th>Seafood</th>\n",
              "      <td>148868</td>\n",
              "      <td>1.097115</td>\n",
              "    </tr>\n",
              "    <tr>\n",
              "      <th>Snack Foods</th>\n",
              "      <td>2732786</td>\n",
              "      <td>20.139864</td>\n",
              "    </tr>\n",
              "    <tr>\n",
              "      <th>Starchy Foods</th>\n",
              "      <td>351401</td>\n",
              "      <td>2.589727</td>\n",
              "    </tr>\n",
              "    <tr>\n",
              "      <th rowspan=\"3\" valign=\"top\">Non Consumable</th>\n",
              "      <th>Health and Hygiene</th>\n",
              "      <td>1045200</td>\n",
              "      <td>30.506011</td>\n",
              "    </tr>\n",
              "    <tr>\n",
              "      <th>Household</th>\n",
              "      <td>2055493</td>\n",
              "      <td>59.993199</td>\n",
              "    </tr>\n",
              "    <tr>\n",
              "      <th>Others</th>\n",
              "      <td>325517</td>\n",
              "      <td>9.500790</td>\n",
              "    </tr>\n",
              "  </tbody>\n",
              "</table>\n",
              "</div>"
            ],
            "text/plain": [
              "                                      Item Outlet Sales  Percentage of Total\n",
              "Item Category  Item Sub Category                                            \n",
              "Drinks         Dairy                             245178            15.363301\n",
              "               Hard Drinks                       457793            28.686144\n",
              "               Soft Drinks                       892897            55.950555\n",
              "Food           Baking Goods                     1265525             9.326563\n",
              "               Breads                            553237             4.077201\n",
              "               Breakfast                         232298             1.711971\n",
              "               Canned                           1444151            10.642987\n",
              "               Dairy                            1277415             9.414189\n",
              "               Frozen Foods                     1825734            13.455146\n",
              "               Fruits and Vegetables            2820059            20.783041\n",
              "               Meat                              917565             6.762196\n",
              "               Seafood                           148868             1.097115\n",
              "               Snack Foods                      2732786            20.139864\n",
              "               Starchy Foods                     351401             2.589727\n",
              "Non Consumable Health and Hygiene               1045200            30.506011\n",
              "               Household                        2055493            59.993199\n",
              "               Others                            325517             9.500790"
            ]
          },
          "metadata": {
            "tags": []
          },
          "execution_count": 90
        }
      ]
    },
    {
      "cell_type": "markdown",
      "metadata": {
        "id": "yFNpIz57IxaF",
        "colab_type": "text"
      },
      "source": [
        "#### Here we can spot the top selling items under each category \n",
        "#### Under Drinks Soft Drinks generates 55% share of revenue\n",
        "#### Under Food Fruits and Vegetables and Snack Foods together contribute 40% of the revenue \n",
        "#### Under Non Consumable Health and Hygiene and Household contributes 89%"
      ]
    },
    {
      "cell_type": "markdown",
      "metadata": {
        "id": "1aPvrzLYIxaI",
        "colab_type": "text"
      },
      "source": [
        "#### Lets look at the number of product with fat content"
      ]
    },
    {
      "cell_type": "code",
      "metadata": {
        "id": "qCs2zYetIxaL",
        "colab_type": "code",
        "colab": {
          "base_uri": "https://localhost:8080/",
          "height": 136
        },
        "outputId": "67f853e2-cfc7-4474-d3b5-5a61a5bcb793"
      },
      "source": [
        "df.groupby(['Item Category','Item Fat Content'])['Item Id'].nunique().sort_values(ascending = False)"
      ],
      "execution_count": null,
      "outputs": [
        {
          "output_type": "execute_result",
          "data": {
            "text/plain": [
              "Item Category   Item Fat Content\n",
              "Food            Low Fat             580\n",
              "                Regular             539\n",
              "Non Consumable  Low Fat             295\n",
              "Drinks          Low Fat             133\n",
              "                Regular              12\n",
              "Name: Item Id, dtype: int64"
            ]
          },
          "metadata": {
            "tags": []
          },
          "execution_count": 91
        }
      ]
    },
    {
      "cell_type": "markdown",
      "metadata": {
        "id": "gmkC3pwnIxaY",
        "colab_type": "text"
      },
      "source": [
        "#### Here we can see that non consumable items have low fat conten which does not make sense. So we will change this to non edible"
      ]
    },
    {
      "cell_type": "code",
      "metadata": {
        "id": "3vfuXWnHIxac",
        "colab_type": "code",
        "colab": {}
      },
      "source": [
        "df.loc[df['Item Category'] == 'Non Consumable', 'Item Fat Content'] = \"Non Edible\""
      ],
      "execution_count": null,
      "outputs": []
    },
    {
      "cell_type": "code",
      "metadata": {
        "id": "Uk9u-s_MIxan",
        "colab_type": "code",
        "colab": {
          "base_uri": "https://localhost:8080/",
          "height": 527
        },
        "outputId": "9d68e153-46f7-4cd7-ffd1-8de0d83bf46e"
      },
      "source": [
        "df.groupby(['Item Sub Category','Item Fat Content'])['Item Id'].nunique().sort_values(ascending = False)"
      ],
      "execution_count": null,
      "outputs": [
        {
          "output_type": "execute_result",
          "data": {
            "text/plain": [
              "Item Sub Category      Item Fat Content\n",
              "Household              Non Edible          170\n",
              "Snack Foods            Low Fat             126\n",
              "Fruits and Vegetables  Low Fat             119\n",
              "                       Regular             101\n",
              "Health and Hygiene     Non Edible           95\n",
              "Snack Foods            Regular              94\n",
              "Frozen Foods           Low Fat              79\n",
              "Dairy                  Low Fat              76\n",
              "Frozen Foods           Regular              76\n",
              "Soft Drinks            Low Fat              68\n",
              "Baking Goods           Regular              60\n",
              "Canned                 Low Fat              60\n",
              "                       Regular              60\n",
              "Baking Goods           Low Fat              59\n",
              "Meat                   Regular              49\n",
              "Dairy                  Regular              49\n",
              "Hard Drinks            Low Fat              40\n",
              "Meat                   Low Fat              31\n",
              "Others                 Non Edible           30\n",
              "Breads                 Low Fat              24\n",
              "                       Regular              21\n",
              "Starchy Foods          Low Fat              18\n",
              "Breakfast              Regular              13\n",
              "Soft Drinks            Regular              12\n",
              "Starchy Foods          Regular              12\n",
              "Breakfast              Low Fat               7\n",
              "Seafood                Low Fat               6\n",
              "                       Regular               4\n",
              "Name: Item Id, dtype: int64"
            ]
          },
          "metadata": {
            "tags": []
          },
          "execution_count": 93
        }
      ]
    },
    {
      "cell_type": "markdown",
      "metadata": {
        "id": "svJSbpDZIxa1",
        "colab_type": "text"
      },
      "source": [
        "#### Lets look at the sales of the products based on the fat content"
      ]
    },
    {
      "cell_type": "code",
      "metadata": {
        "id": "NtDsCSupIxa2",
        "colab_type": "code",
        "colab": {
          "base_uri": "https://localhost:8080/",
          "height": 542
        },
        "outputId": "bd9422a1-6ff5-48db-dffe-5f1f460a6d36"
      },
      "source": [
        "plt.figure(figsize = (20,8))\n",
        "df.groupby(['Item Fat Content','Item Category'])['Item Outlet Sales'].sum().astype(int).plot(kind = 'bar')\n",
        "plt.xticks(rotation = 360, fontsize = 12)\n",
        "plt.yticks(fontsize = 12)\n",
        "plt.xlabel(\"Product Categories and Fat Content\", fontsize = 15)\n",
        "plt.ylabel(\"Total Sales\", fontsize = 15)\n",
        "plt.title(\"Total Sales of Product Categories and Fat Content\", fontsize = 18)"
      ],
      "execution_count": null,
      "outputs": [
        {
          "output_type": "execute_result",
          "data": {
            "text/plain": [
              "Text(0.5, 1.0, 'Total Sales of Product Categories and Fat Content')"
            ]
          },
          "metadata": {
            "tags": []
          },
          "execution_count": 94
        },
        {
          "output_type": "display_data",
          "data": {
            "image/png": "[encoded data removed]",
            "text/plain": [
              "<Figure size 1440x576 with 1 Axes>"
            ]
          },
          "metadata": {
            "tags": [],
            "needs_background": "light"
          }
        }
      ]
    },
    {
      "cell_type": "markdown",
      "metadata": {
        "id": "hLOIs1a1Ixa_",
        "colab_type": "text"
      },
      "source": [
        "#### Low fat drinks are selling more than regular drinks"
      ]
    },
    {
      "cell_type": "markdown",
      "metadata": {
        "id": "bKKCDxlsIxbB",
        "colab_type": "text"
      },
      "source": [
        "#### Is the choice of fat content by customers dependent on the tier of city"
      ]
    },
    {
      "cell_type": "code",
      "metadata": {
        "id": "M69zguTBIxbE",
        "colab_type": "code",
        "colab": {
          "base_uri": "https://localhost:8080/",
          "height": 204
        },
        "outputId": "124c3db4-858a-465e-cfbf-2c5ee6171afb"
      },
      "source": [
        "df.groupby(['Outlet Location Type','Item Fat Content'])['Item Id'].count()"
      ],
      "execution_count": null,
      "outputs": [
        {
          "output_type": "execute_result",
          "data": {
            "text/plain": [
              "Outlet Location Type  Item Fat Content\n",
              "Tier 1                Low Fat             1822\n",
              "                      Non Edible           755\n",
              "                      Regular             1403\n",
              "Tier 2                Low Fat             2125\n",
              "                      Non Edible           877\n",
              "                      Regular             1639\n",
              "Tier 3                Low Fat             2552\n",
              "                      Non Edible          1054\n",
              "                      Regular             1977\n",
              "Name: Item Id, dtype: int64"
            ]
          },
          "metadata": {
            "tags": []
          },
          "execution_count": 95
        }
      ]
    },
    {
      "cell_type": "markdown",
      "metadata": {
        "id": "GVbOm2t2IxbQ",
        "colab_type": "text"
      },
      "source": [
        "#### Lets visualize this in a plot"
      ]
    },
    {
      "cell_type": "code",
      "metadata": {
        "id": "pOvpmp4YIxbS",
        "colab_type": "code",
        "colab": {
          "base_uri": "https://localhost:8080/",
          "height": 542
        },
        "outputId": "a3e5f71e-38fc-421f-a868-d61f91e5b5c3"
      },
      "source": [
        "plt.figure(figsize = (20,8))\n",
        "sb.countplot(x = 'Outlet Location Type', hue = 'Item Fat Content', data = df, order = df['Outlet Location Type'].value_counts().index)\n",
        "plt.xticks(fontsize = 12) \n",
        "plt.yticks(fontsize = 12)\n",
        "plt.xlabel(\"Location Type\", fontsize = 15)\n",
        "plt.ylabel(\"Number of items sold\", fontsize = 15)\n",
        "plt.title(\"Number of items sold of each fat type\", fontsize = 18)"
      ],
      "execution_count": null,
      "outputs": [
        {
          "output_type": "execute_result",
          "data": {
            "text/plain": [
              "Text(0.5, 1.0, 'Number of items sold of each fat type')"
            ]
          },
          "metadata": {
            "tags": []
          },
          "execution_count": 96
        },
        {
          "output_type": "display_data",
          "data": {
            "image/png": "[encoded data removed]",
            "text/plain": [
              "<Figure size 1440x576 with 1 Axes>"
            ]
          },
          "metadata": {
            "tags": [],
            "needs_background": "light"
          }
        }
      ]
    },
    {
      "cell_type": "markdown",
      "metadata": {
        "id": "8yTZMvnaIxbZ",
        "colab_type": "text"
      },
      "source": [
        "#### We can see in each location low fat items are selling more in all the three tiers. The overall sales also is highest in tier 3"
      ]
    },
    {
      "cell_type": "markdown",
      "metadata": {
        "id": "eAYS6zDhIxba",
        "colab_type": "text"
      },
      "source": [
        "#### Lets look at the number of stores we have in each tier"
      ]
    },
    {
      "cell_type": "code",
      "metadata": {
        "id": "Tyhj6kDbIxbb",
        "colab_type": "code",
        "colab": {
          "base_uri": "https://localhost:8080/",
          "height": 102
        },
        "outputId": "07454bfd-9653-48b0-a833-ae9a8900695c"
      },
      "source": [
        "df.groupby(['Outlet Location Type'])['Outlet Id'].count()"
      ],
      "execution_count": null,
      "outputs": [
        {
          "output_type": "execute_result",
          "data": {
            "text/plain": [
              "Outlet Location Type\n",
              "Tier 1    3980\n",
              "Tier 2    4641\n",
              "Tier 3    5583\n",
              "Name: Outlet Id, dtype: int64"
            ]
          },
          "metadata": {
            "tags": []
          },
          "execution_count": 97
        }
      ]
    },
    {
      "cell_type": "code",
      "metadata": {
        "id": "L7Z3LxT9Ixbi",
        "colab_type": "code",
        "colab": {
          "base_uri": "https://localhost:8080/",
          "height": 542
        },
        "outputId": "24245be3-23d7-4026-c4d0-a27c311c9776"
      },
      "source": [
        "plt.figure(figsize = (20,8))\n",
        "sb.countplot(x = 'Outlet Location Type', data = df, order = df['Outlet Location Type'].value_counts().index)\n",
        "plt.xticks(fontsize = 12) \n",
        "plt.yticks(fontsize = 12)\n",
        "plt.xlabel(\"Location Type\", fontsize = 15)\n",
        "plt.ylabel(\"Number of Stores\", fontsize = 15)\n",
        "plt.title(\"Number of Stores in each Location\", fontsize = 18)"
      ],
      "execution_count": null,
      "outputs": [
        {
          "output_type": "execute_result",
          "data": {
            "text/plain": [
              "Text(0.5, 1.0, 'Number of Stores in each Location')"
            ]
          },
          "metadata": {
            "tags": []
          },
          "execution_count": 98
        },
        {
          "output_type": "display_data",
          "data": {
            "image/png": "[encoded data removed]",
            "text/plain": [
              "<Figure size 1440x576 with 1 Axes>"
            ]
          },
          "metadata": {
            "tags": [],
            "needs_background": "light"
          }
        }
      ]
    },
    {
      "cell_type": "code",
      "metadata": {
        "id": "bLl4w4IgIxbt",
        "colab_type": "code",
        "colab": {
          "base_uri": "https://localhost:8080/",
          "height": 173
        },
        "outputId": "931b0798-5110-45c2-e757-9a174eb2093d"
      },
      "source": [
        "tier_sales = pd.DataFrame(df.groupby(['Outlet Location Type'])['Item Outlet Sales'].sum().astype(int))\n",
        "tier_sales['Percentage of Total'] = tier_sales['Item Outlet Sales']/tier_sales['Item Outlet Sales'].sum()*100\n",
        "tier_sales"
      ],
      "execution_count": null,
      "outputs": [
        {
          "output_type": "execute_result",
          "data": {
            "text/html": [
              "<div>\n",
              "<style scoped>\n",
              "    .dataframe tbody tr th:only-of-type {\n",
              "        vertical-align: middle;\n",
              "    }\n",
              "\n",
              "    .dataframe tbody tr th {\n",
              "        vertical-align: top;\n",
              "    }\n",
              "\n",
              "    .dataframe thead th {\n",
              "        text-align: right;\n",
              "    }\n",
              "</style>\n",
              "<table border=\"1\" class=\"dataframe\">\n",
              "  <thead>\n",
              "    <tr style=\"text-align: right;\">\n",
              "      <th></th>\n",
              "      <th>Item Outlet Sales</th>\n",
              "      <th>Percentage of Total</th>\n",
              "    </tr>\n",
              "    <tr>\n",
              "      <th>Outlet Location Type</th>\n",
              "      <th></th>\n",
              "      <th></th>\n",
              "    </tr>\n",
              "  </thead>\n",
              "  <tbody>\n",
              "    <tr>\n",
              "      <th>Tier 1</th>\n",
              "      <td>4482059</td>\n",
              "      <td>24.108596</td>\n",
              "    </tr>\n",
              "    <tr>\n",
              "      <th>Tier 2</th>\n",
              "      <td>6472313</td>\n",
              "      <td>34.813995</td>\n",
              "    </tr>\n",
              "    <tr>\n",
              "      <th>Tier 3</th>\n",
              "      <td>7636752</td>\n",
              "      <td>41.077409</td>\n",
              "    </tr>\n",
              "  </tbody>\n",
              "</table>\n",
              "</div>"
            ],
            "text/plain": [
              "                      Item Outlet Sales  Percentage of Total\n",
              "Outlet Location Type                                        \n",
              "Tier 1                          4482059            24.108596\n",
              "Tier 2                          6472313            34.813995\n",
              "Tier 3                          7636752            41.077409"
            ]
          },
          "metadata": {
            "tags": []
          },
          "execution_count": 99
        }
      ]
    },
    {
      "cell_type": "markdown",
      "metadata": {
        "id": "Sost2cLeIxb4",
        "colab_type": "text"
      },
      "source": [
        "#### Looking at the number of stores of different types in each tier"
      ]
    },
    {
      "cell_type": "code",
      "metadata": {
        "id": "JKO0ALWFIxb6",
        "colab_type": "code",
        "colab": {
          "base_uri": "https://localhost:8080/",
          "height": 170
        },
        "outputId": "2a1ac88c-8d3c-4df1-8336-c93150ec1533"
      },
      "source": [
        "df.groupby(['Outlet Location Type','Outlet Type'])['Outlet Id'].count()"
      ],
      "execution_count": null,
      "outputs": [
        {
          "output_type": "execute_result",
          "data": {
            "text/plain": [
              "Outlet Location Type  Outlet Type      \n",
              "Tier 1                Grocery Store         880\n",
              "                      Supermarket Type1    3100\n",
              "Tier 2                Supermarket Type1    4641\n",
              "Tier 3                Grocery Store         925\n",
              "                      Supermarket Type1    1553\n",
              "                      Supermarket Type2    1546\n",
              "                      Supermarket Type3    1559\n",
              "Name: Outlet Id, dtype: int64"
            ]
          },
          "metadata": {
            "tags": []
          },
          "execution_count": 100
        }
      ]
    },
    {
      "cell_type": "code",
      "metadata": {
        "scrolled": true,
        "id": "tytVAklEIxcE",
        "colab_type": "code",
        "colab": {
          "base_uri": "https://localhost:8080/",
          "height": 657
        },
        "outputId": "29baa812-f3de-4b85-ab38-d59536fb6787"
      },
      "source": [
        "plt.figure(figsize = (20,8))\n",
        "df.groupby(['Outlet Location Type','Outlet Type'])['Outlet Type'].count().sort_values(ascending = False).plot.bar()\n",
        "plt.xticks(rotation = 45)\n",
        "plt.xticks(fontsize = 12) \n",
        "plt.yticks(fontsize = 12)\n",
        "plt.xlabel(\"Outlet Type\", fontsize = 15)\n",
        "plt.ylabel(\"Number of Stores\", fontsize = 15)\n",
        "plt.title(\"Number of Stores of each type\", fontsize = 18)"
      ],
      "execution_count": null,
      "outputs": [
        {
          "output_type": "execute_result",
          "data": {
            "text/plain": [
              "Text(0.5, 1.0, 'Number of Stores of each type')"
            ]
          },
          "metadata": {
            "tags": []
          },
          "execution_count": 101
        },
        {
          "output_type": "display_data",
          "data": {
            "image/png": "[encoded data removed]",
            "text/plain": [
              "<Figure size 1440x576 with 1 Axes>"
            ]
          },
          "metadata": {
            "tags": [],
            "needs_background": "light"
          }
        }
      ]
    },
    {
      "cell_type": "code",
      "metadata": {
        "id": "CWXiRAHQIxcQ",
        "colab_type": "code",
        "colab": {
          "base_uri": "https://localhost:8080/",
          "height": 297
        },
        "outputId": "b8fc9e59-d2ea-4755-beda-0ce45bfc8af8"
      },
      "source": [
        "outlet_type_sales = pd.DataFrame(df.groupby(['Outlet Location Type','Outlet Type'])['Item Outlet Sales'].sum()).astype(int)\n",
        "outlet_type_sales['Percentage of Total'] = outlet_type_sales['Item Outlet Sales']/outlet_type_sales['Item Outlet Sales'].sum()*100\n",
        "outlet_type_sales"
      ],
      "execution_count": null,
      "outputs": [
        {
          "output_type": "execute_result",
          "data": {
            "text/html": [
              "<div>\n",
              "<style scoped>\n",
              "    .dataframe tbody tr th:only-of-type {\n",
              "        vertical-align: middle;\n",
              "    }\n",
              "\n",
              "    .dataframe tbody tr th {\n",
              "        vertical-align: top;\n",
              "    }\n",
              "\n",
              "    .dataframe thead th {\n",
              "        text-align: right;\n",
              "    }\n",
              "</style>\n",
              "<table border=\"1\" class=\"dataframe\">\n",
              "  <thead>\n",
              "    <tr style=\"text-align: right;\">\n",
              "      <th></th>\n",
              "      <th></th>\n",
              "      <th>Item Outlet Sales</th>\n",
              "      <th>Percentage of Total</th>\n",
              "    </tr>\n",
              "    <tr>\n",
              "      <th>Outlet Location Type</th>\n",
              "      <th>Outlet Type</th>\n",
              "      <th></th>\n",
              "      <th></th>\n",
              "    </tr>\n",
              "  </thead>\n",
              "  <tbody>\n",
              "    <tr>\n",
              "      <th rowspan=\"2\" valign=\"top\">Tier 1</th>\n",
              "      <th>Grocery Store</th>\n",
              "      <td>179694</td>\n",
              "      <td>0.966558</td>\n",
              "    </tr>\n",
              "    <tr>\n",
              "      <th>Supermarket Type1</th>\n",
              "      <td>4302364</td>\n",
              "      <td>23.142035</td>\n",
              "    </tr>\n",
              "    <tr>\n",
              "      <th>Tier 2</th>\n",
              "      <th>Supermarket Type1</th>\n",
              "      <td>6472313</td>\n",
              "      <td>34.813999</td>\n",
              "    </tr>\n",
              "    <tr>\n",
              "      <th rowspan=\"4\" valign=\"top\">Tier 3</th>\n",
              "      <th>Grocery Store</th>\n",
              "      <td>188340</td>\n",
              "      <td>1.013064</td>\n",
              "    </tr>\n",
              "    <tr>\n",
              "      <th>Supermarket Type1</th>\n",
              "      <td>2142663</td>\n",
              "      <td>11.525195</td>\n",
              "    </tr>\n",
              "    <tr>\n",
              "      <th>Supermarket Type2</th>\n",
              "      <td>1851822</td>\n",
              "      <td>9.960787</td>\n",
              "    </tr>\n",
              "    <tr>\n",
              "      <th>Supermarket Type3</th>\n",
              "      <td>3453926</td>\n",
              "      <td>18.578362</td>\n",
              "    </tr>\n",
              "  </tbody>\n",
              "</table>\n",
              "</div>"
            ],
            "text/plain": [
              "                                        Item Outlet Sales  Percentage of Total\n",
              "Outlet Location Type Outlet Type                                              \n",
              "Tier 1               Grocery Store                 179694             0.966558\n",
              "                     Supermarket Type1            4302364            23.142035\n",
              "Tier 2               Supermarket Type1            6472313            34.813999\n",
              "Tier 3               Grocery Store                 188340             1.013064\n",
              "                     Supermarket Type1            2142663            11.525195\n",
              "                     Supermarket Type2            1851822             9.960787\n",
              "                     Supermarket Type3            3453926            18.578362"
            ]
          },
          "metadata": {
            "tags": []
          },
          "execution_count": 102
        }
      ]
    },
    {
      "cell_type": "code",
      "metadata": {
        "id": "72f0PDXRIxci",
        "colab_type": "code",
        "colab": {
          "base_uri": "https://localhost:8080/",
          "height": 657
        },
        "outputId": "1606c699-2fc6-47e4-cbcc-4c6374ee5cf8"
      },
      "source": [
        "outlet_type_sales['Item Outlet Sales'].sort_values(ascending = False).plot.bar()\n",
        "plt.xticks(rotation = 45)\n",
        "plt.xticks(fontsize = 12) \n",
        "plt.yticks(fontsize = 12)\n",
        "plt.xlabel(\"Outlet Type\", fontsize = 15)\n",
        "plt.ylabel(\"Sales of stores\", fontsize = 15)\n",
        "plt.title(\"Sales of Stores of each type\", fontsize = 18)"
      ],
      "execution_count": null,
      "outputs": [
        {
          "output_type": "execute_result",
          "data": {
            "text/plain": [
              "Text(0.5, 1.0, 'Sales of Stores of each type')"
            ]
          },
          "metadata": {
            "tags": []
          },
          "execution_count": 103
        },
        {
          "output_type": "display_data",
          "data": {
            "image/png": "[encoded data removed]",
            "text/plain": [
              "<Figure size 1440x576 with 1 Axes>"
            ]
          },
          "metadata": {
            "tags": [],
            "needs_background": "light"
          }
        }
      ]
    },
    {
      "cell_type": "markdown",
      "metadata": {
        "id": "homBZ6eOIxcs",
        "colab_type": "text"
      },
      "source": [
        "#### Combining the pivot table and the sales chart we can see that: \n",
        "\n",
        "#### The number of stores in a particular type of a particular location is proportional to the sales"
      ]
    },
    {
      "cell_type": "markdown",
      "metadata": {
        "id": "vZIbYowPIxct",
        "colab_type": "text"
      },
      "source": [
        "#### Looking at the number of outlet sizes"
      ]
    },
    {
      "cell_type": "code",
      "metadata": {
        "id": "YBr46hltIxcv",
        "colab_type": "code",
        "colab": {
          "base_uri": "https://localhost:8080/",
          "height": 542
        },
        "outputId": "a1eb3456-6ab2-4431-fbcb-8256b915aa28"
      },
      "source": [
        "plt.figure(figsize = (20,8))\n",
        "sb.countplot(df['Outlet Size'])\n",
        "plt.xticks(fontsize = 12) \n",
        "plt.yticks(fontsize = 12)\n",
        "plt.xlabel(\"Outlet Size\", fontsize = 15)\n",
        "plt.ylabel(\"Number of Stores\", fontsize = 15)\n",
        "plt.title(\"Number of Stores of each size\", fontsize = 18)"
      ],
      "execution_count": null,
      "outputs": [
        {
          "output_type": "execute_result",
          "data": {
            "text/plain": [
              "Text(0.5, 1.0, 'Number of Stores of each size')"
            ]
          },
          "metadata": {
            "tags": []
          },
          "execution_count": 104
        },
        {
          "output_type": "display_data",
          "data": {
            "image/png": "[encoded data removed]",
            "text/plain": [
              "<Figure size 1440x576 with 1 Axes>"
            ]
          },
          "metadata": {
            "tags": [],
            "needs_background": "light"
          }
        }
      ]
    },
    {
      "cell_type": "markdown",
      "metadata": {
        "id": "vXw-6-HoIxc4",
        "colab_type": "text"
      },
      "source": [
        "#### Looking at the sales contribution of each size type"
      ]
    },
    {
      "cell_type": "code",
      "metadata": {
        "id": "nFD7X-p8Ixc7",
        "colab_type": "code",
        "colab": {
          "base_uri": "https://localhost:8080/",
          "height": 297
        },
        "outputId": "4ebc5b0c-02c7-4c12-813b-cfd70a8bec40"
      },
      "source": [
        "outlet_size_sales = pd.DataFrame(df.groupby(['Outlet Location Type','Outlet Size'])['Item Outlet Sales'].sum()).astype(int)\n",
        "outlet_size_sales['Percentage of Total'] = outlet_size_sales['Item Outlet Sales']/outlet_size_sales['Item Outlet Sales'].sum()*100\n",
        "outlet_size_salesoutlet_size_sales = pd.DataFrame(df.groupby(['Outlet Location Type','Outlet Size'])['Item Outlet Sales'].sum()).astype(int)\n",
        "outlet_size_sales['Percentage of Total'] = outlet_size_sales['Item Outlet Sales']/outlet_size_sales['Item Outlet Sales'].sum()*100\n",
        "outlet_size_sales"
      ],
      "execution_count": null,
      "outputs": [
        {
          "output_type": "execute_result",
          "data": {
            "text/html": [
              "<div>\n",
              "<style scoped>\n",
              "    .dataframe tbody tr th:only-of-type {\n",
              "        vertical-align: middle;\n",
              "    }\n",
              "\n",
              "    .dataframe tbody tr th {\n",
              "        vertical-align: top;\n",
              "    }\n",
              "\n",
              "    .dataframe thead th {\n",
              "        text-align: right;\n",
              "    }\n",
              "</style>\n",
              "<table border=\"1\" class=\"dataframe\">\n",
              "  <thead>\n",
              "    <tr style=\"text-align: right;\">\n",
              "      <th></th>\n",
              "      <th></th>\n",
              "      <th>Item Outlet Sales</th>\n",
              "      <th>Percentage of Total</th>\n",
              "    </tr>\n",
              "    <tr>\n",
              "      <th>Outlet Location Type</th>\n",
              "      <th>Outlet Size</th>\n",
              "      <th></th>\n",
              "      <th></th>\n",
              "    </tr>\n",
              "  </thead>\n",
              "  <tbody>\n",
              "    <tr>\n",
              "      <th rowspan=\"2\" valign=\"top\">Tier 1</th>\n",
              "      <th>Medium</th>\n",
              "      <td>2183969</td>\n",
              "      <td>11.747377</td>\n",
              "    </tr>\n",
              "    <tr>\n",
              "      <th>Small</th>\n",
              "      <td>2298089</td>\n",
              "      <td>12.361218</td>\n",
              "    </tr>\n",
              "    <tr>\n",
              "      <th rowspan=\"2\" valign=\"top\">Tier 2</th>\n",
              "      <th>Medium</th>\n",
              "      <td>4204190</td>\n",
              "      <td>22.613967</td>\n",
              "    </tr>\n",
              "    <tr>\n",
              "      <th>Small</th>\n",
              "      <td>2268122</td>\n",
              "      <td>12.200028</td>\n",
              "    </tr>\n",
              "    <tr>\n",
              "      <th rowspan=\"3\" valign=\"top\">Tier 3</th>\n",
              "      <th>High</th>\n",
              "      <td>2142663</td>\n",
              "      <td>11.525195</td>\n",
              "    </tr>\n",
              "    <tr>\n",
              "      <th>Medium</th>\n",
              "      <td>5305748</td>\n",
              "      <td>28.539150</td>\n",
              "    </tr>\n",
              "    <tr>\n",
              "      <th>Small</th>\n",
              "      <td>188340</td>\n",
              "      <td>1.013064</td>\n",
              "    </tr>\n",
              "  </tbody>\n",
              "</table>\n",
              "</div>"
            ],
            "text/plain": [
              "                                  Item Outlet Sales  Percentage of Total\n",
              "Outlet Location Type Outlet Size                                        \n",
              "Tier 1               Medium                 2183969            11.747377\n",
              "                     Small                  2298089            12.361218\n",
              "Tier 2               Medium                 4204190            22.613967\n",
              "                     Small                  2268122            12.200028\n",
              "Tier 3               High                   2142663            11.525195\n",
              "                     Medium                 5305748            28.539150\n",
              "                     Small                   188340             1.013064"
            ]
          },
          "metadata": {
            "tags": []
          },
          "execution_count": 105
        }
      ]
    },
    {
      "cell_type": "markdown",
      "metadata": {
        "id": "7EOL998xIxdD",
        "colab_type": "text"
      },
      "source": [
        "#### Here we can see that the size of the stores is not proportional to sales. Lets include the outlet type into the analysis"
      ]
    },
    {
      "cell_type": "code",
      "metadata": {
        "id": "pjHE5dMeIxdE",
        "colab_type": "code",
        "colab": {
          "base_uri": "https://localhost:8080/",
          "height": 359
        },
        "outputId": "4ce79ad6-f506-43b4-fabb-30d4adde19d5"
      },
      "source": [
        "outlet_size_type_sales = pd.DataFrame(df.groupby(['Outlet Location Type','Outlet Size','Outlet Type'])['Item Outlet Sales'].sum()).astype(int)\n",
        "outlet_size_type_sales['Percentage of Total'] = outlet_size_type_sales['Item Outlet Sales']/outlet_size_type_sales['Item Outlet Sales'].sum()*100\n",
        "outlet_size_type_sales"
      ],
      "execution_count": null,
      "outputs": [
        {
          "output_type": "execute_result",
          "data": {
            "text/html": [
              "<div>\n",
              "<style scoped>\n",
              "    .dataframe tbody tr th:only-of-type {\n",
              "        vertical-align: middle;\n",
              "    }\n",
              "\n",
              "    .dataframe tbody tr th {\n",
              "        vertical-align: top;\n",
              "    }\n",
              "\n",
              "    .dataframe thead th {\n",
              "        text-align: right;\n",
              "    }\n",
              "</style>\n",
              "<table border=\"1\" class=\"dataframe\">\n",
              "  <thead>\n",
              "    <tr style=\"text-align: right;\">\n",
              "      <th></th>\n",
              "      <th></th>\n",
              "      <th></th>\n",
              "      <th>Item Outlet Sales</th>\n",
              "      <th>Percentage of Total</th>\n",
              "    </tr>\n",
              "    <tr>\n",
              "      <th>Outlet Location Type</th>\n",
              "      <th>Outlet Size</th>\n",
              "      <th>Outlet Type</th>\n",
              "      <th></th>\n",
              "      <th></th>\n",
              "    </tr>\n",
              "  </thead>\n",
              "  <tbody>\n",
              "    <tr>\n",
              "      <th rowspan=\"3\" valign=\"top\">Tier 1</th>\n",
              "      <th>Medium</th>\n",
              "      <th>Supermarket Type1</th>\n",
              "      <td>2183969</td>\n",
              "      <td>11.747377</td>\n",
              "    </tr>\n",
              "    <tr>\n",
              "      <th rowspan=\"2\" valign=\"top\">Small</th>\n",
              "      <th>Grocery Store</th>\n",
              "      <td>179694</td>\n",
              "      <td>0.966558</td>\n",
              "    </tr>\n",
              "    <tr>\n",
              "      <th>Supermarket Type1</th>\n",
              "      <td>2118395</td>\n",
              "      <td>11.394660</td>\n",
              "    </tr>\n",
              "    <tr>\n",
              "      <th rowspan=\"2\" valign=\"top\">Tier 2</th>\n",
              "      <th>Medium</th>\n",
              "      <th>Supermarket Type1</th>\n",
              "      <td>4204190</td>\n",
              "      <td>22.613967</td>\n",
              "    </tr>\n",
              "    <tr>\n",
              "      <th>Small</th>\n",
              "      <th>Supermarket Type1</th>\n",
              "      <td>2268122</td>\n",
              "      <td>12.200028</td>\n",
              "    </tr>\n",
              "    <tr>\n",
              "      <th rowspan=\"4\" valign=\"top\">Tier 3</th>\n",
              "      <th>High</th>\n",
              "      <th>Supermarket Type1</th>\n",
              "      <td>2142663</td>\n",
              "      <td>11.525195</td>\n",
              "    </tr>\n",
              "    <tr>\n",
              "      <th rowspan=\"2\" valign=\"top\">Medium</th>\n",
              "      <th>Supermarket Type2</th>\n",
              "      <td>1851822</td>\n",
              "      <td>9.960787</td>\n",
              "    </tr>\n",
              "    <tr>\n",
              "      <th>Supermarket Type3</th>\n",
              "      <td>3453926</td>\n",
              "      <td>18.578363</td>\n",
              "    </tr>\n",
              "    <tr>\n",
              "      <th>Small</th>\n",
              "      <th>Grocery Store</th>\n",
              "      <td>188340</td>\n",
              "      <td>1.013064</td>\n",
              "    </tr>\n",
              "  </tbody>\n",
              "</table>\n",
              "</div>"
            ],
            "text/plain": [
              "                                                    Item Outlet Sales  Percentage of Total\n",
              "Outlet Location Type Outlet Size Outlet Type                                              \n",
              "Tier 1               Medium      Supermarket Type1            2183969            11.747377\n",
              "                     Small       Grocery Store                 179694             0.966558\n",
              "                                 Supermarket Type1            2118395            11.394660\n",
              "Tier 2               Medium      Supermarket Type1            4204190            22.613967\n",
              "                     Small       Supermarket Type1            2268122            12.200028\n",
              "Tier 3               High        Supermarket Type1            2142663            11.525195\n",
              "                     Medium      Supermarket Type2            1851822             9.960787\n",
              "                                 Supermarket Type3            3453926            18.578363\n",
              "                     Small       Grocery Store                 188340             1.013064"
            ]
          },
          "metadata": {
            "tags": []
          },
          "execution_count": 106
        }
      ]
    },
    {
      "cell_type": "code",
      "metadata": {
        "id": "UfEBbG34IxdO",
        "colab_type": "code",
        "colab": {
          "base_uri": "https://localhost:8080/",
          "height": 713
        },
        "outputId": "4b04ad7d-e5f0-4640-82bb-732a0402537b"
      },
      "source": [
        "plt.figure(figsize = (20,8))\n",
        "outlet_size_type_sales.sort_values(ascending = False, by = 'Item Outlet Sales').plot(kind = 'bar')\n",
        "plt.xticks(fontsize = 12, rotation = 45) \n",
        "plt.yticks(fontsize = 12)\n",
        "plt.xlabel(\"Outlet Size, Type and Location\", fontsize = 15)\n",
        "plt.ylabel(\"Total Sales\", fontsize = 15)\n",
        "plt.title(\"Sales VS Outlet, Size, Type and Location\", fontsize = 18)"
      ],
      "execution_count": null,
      "outputs": [
        {
          "output_type": "execute_result",
          "data": {
            "text/plain": [
              "Text(0.5, 1.0, 'Sales VS Outlet, Size, Type and Location')"
            ]
          },
          "metadata": {
            "tags": []
          },
          "execution_count": 107
        },
        {
          "output_type": "display_data",
          "data": {
            "text/plain": [
              "<Figure size 1440x576 with 0 Axes>"
            ]
          },
          "metadata": {
            "tags": []
          }
        },
        {
          "output_type": "display_data",
          "data": {
            "image/png": "[encoded data removed]",
            "text/plain": [
              "<Figure size 1440x576 with 1 Axes>"
            ]
          },
          "metadata": {
            "tags": [],
            "needs_background": "light"
          }
        }
      ]
    },
    {
      "cell_type": "markdown",
      "metadata": {
        "id": "6GLg6PNtIxdY",
        "colab_type": "text"
      },
      "source": [
        "#### We can see that the same medium sized supermarket type 1 is doing differently in tier 1 and 2"
      ]
    },
    {
      "cell_type": "code",
      "metadata": {
        "id": "ISPaPglVIxda",
        "colab_type": "code",
        "colab": {
          "base_uri": "https://localhost:8080/",
          "height": 204
        },
        "outputId": "d06e4bec-78b6-4e8b-efb4-1c48256e1f49"
      },
      "source": [
        "df.groupby(['Outlet Location Type','Outlet Size','Outlet Type'])['Outlet Id'].count()"
      ],
      "execution_count": null,
      "outputs": [
        {
          "output_type": "execute_result",
          "data": {
            "text/plain": [
              "Outlet Location Type  Outlet Size  Outlet Type      \n",
              "Tier 1                Medium       Supermarket Type1    1550\n",
              "                      Small        Grocery Store         880\n",
              "                                   Supermarket Type1    1550\n",
              "Tier 2                Medium       Supermarket Type1    3091\n",
              "                      Small        Supermarket Type1    1550\n",
              "Tier 3                High         Supermarket Type1    1553\n",
              "                      Medium       Supermarket Type2    1546\n",
              "                                   Supermarket Type3    1559\n",
              "                      Small        Grocery Store         925\n",
              "Name: Outlet Id, dtype: int64"
            ]
          },
          "metadata": {
            "tags": []
          },
          "execution_count": 108
        }
      ]
    },
    {
      "cell_type": "markdown",
      "metadata": {
        "id": "_FuIc8C0Ixdl",
        "colab_type": "text"
      },
      "source": [
        "#### This can be attributed to the number of stores in the two tiers"
      ]
    },
    {
      "cell_type": "markdown",
      "metadata": {
        "id": "Nz5wgbqrIxdm",
        "colab_type": "text"
      },
      "source": [
        "#### Lets look at the sales of the outlets for each location type and size"
      ]
    },
    {
      "cell_type": "code",
      "metadata": {
        "scrolled": true,
        "id": "_7e0uBZkIxdo",
        "colab_type": "code",
        "colab": {
          "base_uri": "https://localhost:8080/",
          "height": 359
        },
        "outputId": "10b88f2c-f1f1-461e-afa5-51ba208915b4"
      },
      "source": [
        "items_sold = pd.DataFrame(df.groupby(['Outlet Type','Outlet Size','Outlet Location Type'])['Item Outlet Sales'].sum().astype(int))\n",
        "items_sold['Percentage of Total'] = items_sold['Item Outlet Sales']/items_sold['Item Outlet Sales'].sum()*100\n",
        "items_sold['Number of stores'] = df.groupby(['Outlet Type','Outlet Size'])['Outlet Id'].count()\n",
        "items_sold['Sales per store'] = items_sold['Item Outlet Sales']/items_sold['Number of stores']\n",
        "items_sold.sort_values(ascending = False, by = 'Number of stores')"
      ],
      "execution_count": null,
      "outputs": [
        {
          "output_type": "execute_result",
          "data": {
            "text/html": [
              "<div>\n",
              "<style scoped>\n",
              "    .dataframe tbody tr th:only-of-type {\n",
              "        vertical-align: middle;\n",
              "    }\n",
              "\n",
              "    .dataframe tbody tr th {\n",
              "        vertical-align: top;\n",
              "    }\n",
              "\n",
              "    .dataframe thead th {\n",
              "        text-align: right;\n",
              "    }\n",
              "</style>\n",
              "<table border=\"1\" class=\"dataframe\">\n",
              "  <thead>\n",
              "    <tr style=\"text-align: right;\">\n",
              "      <th></th>\n",
              "      <th></th>\n",
              "      <th></th>\n",
              "      <th>Item Outlet Sales</th>\n",
              "      <th>Percentage of Total</th>\n",
              "      <th>Number of stores</th>\n",
              "      <th>Sales per store</th>\n",
              "    </tr>\n",
              "    <tr>\n",
              "      <th>Outlet Type</th>\n",
              "      <th>Outlet Size</th>\n",
              "      <th>Outlet Location Type</th>\n",
              "      <th></th>\n",
              "      <th></th>\n",
              "      <th></th>\n",
              "      <th></th>\n",
              "    </tr>\n",
              "  </thead>\n",
              "  <tbody>\n",
              "    <tr>\n",
              "      <th rowspan=\"4\" valign=\"top\">Supermarket Type1</th>\n",
              "      <th rowspan=\"2\" valign=\"top\">Medium</th>\n",
              "      <th>Tier 1</th>\n",
              "      <td>2183969</td>\n",
              "      <td>11.747377</td>\n",
              "      <td>4641</td>\n",
              "      <td>470.581556</td>\n",
              "    </tr>\n",
              "    <tr>\n",
              "      <th>Tier 2</th>\n",
              "      <td>4204190</td>\n",
              "      <td>22.613967</td>\n",
              "      <td>4641</td>\n",
              "      <td>905.880198</td>\n",
              "    </tr>\n",
              "    <tr>\n",
              "      <th rowspan=\"2\" valign=\"top\">Small</th>\n",
              "      <th>Tier 1</th>\n",
              "      <td>2118395</td>\n",
              "      <td>11.394660</td>\n",
              "      <td>3100</td>\n",
              "      <td>683.353226</td>\n",
              "    </tr>\n",
              "    <tr>\n",
              "      <th>Tier 2</th>\n",
              "      <td>2268122</td>\n",
              "      <td>12.200028</td>\n",
              "      <td>3100</td>\n",
              "      <td>731.652258</td>\n",
              "    </tr>\n",
              "    <tr>\n",
              "      <th rowspan=\"2\" valign=\"top\">Grocery Store</th>\n",
              "      <th rowspan=\"2\" valign=\"top\">Small</th>\n",
              "      <th>Tier 1</th>\n",
              "      <td>179694</td>\n",
              "      <td>0.966558</td>\n",
              "      <td>1805</td>\n",
              "      <td>99.553463</td>\n",
              "    </tr>\n",
              "    <tr>\n",
              "      <th>Tier 3</th>\n",
              "      <td>188340</td>\n",
              "      <td>1.013064</td>\n",
              "      <td>1805</td>\n",
              "      <td>104.343490</td>\n",
              "    </tr>\n",
              "    <tr>\n",
              "      <th>Supermarket Type3</th>\n",
              "      <th>Medium</th>\n",
              "      <th>Tier 3</th>\n",
              "      <td>3453926</td>\n",
              "      <td>18.578363</td>\n",
              "      <td>1559</td>\n",
              "      <td>2215.475305</td>\n",
              "    </tr>\n",
              "    <tr>\n",
              "      <th>Supermarket Type1</th>\n",
              "      <th>High</th>\n",
              "      <th>Tier 3</th>\n",
              "      <td>2142663</td>\n",
              "      <td>11.525195</td>\n",
              "      <td>1553</td>\n",
              "      <td>1379.692853</td>\n",
              "    </tr>\n",
              "    <tr>\n",
              "      <th>Supermarket Type2</th>\n",
              "      <th>Medium</th>\n",
              "      <th>Tier 3</th>\n",
              "      <td>1851822</td>\n",
              "      <td>9.960787</td>\n",
              "      <td>1546</td>\n",
              "      <td>1197.815006</td>\n",
              "    </tr>\n",
              "  </tbody>\n",
              "</table>\n",
              "</div>"
            ],
            "text/plain": [
              "                                                    Item Outlet Sales  ...  Sales per store\n",
              "Outlet Type       Outlet Size Outlet Location Type                     ...                 \n",
              "Supermarket Type1 Medium      Tier 1                          2183969  ...       470.581556\n",
              "                              Tier 2                          4204190  ...       905.880198\n",
              "                  Small       Tier 1                          2118395  ...       683.353226\n",
              "                              Tier 2                          2268122  ...       731.652258\n",
              "Grocery Store     Small       Tier 1                           179694  ...        99.553463\n",
              "                              Tier 3                           188340  ...       104.343490\n",
              "Supermarket Type3 Medium      Tier 3                          3453926  ...      2215.475305\n",
              "Supermarket Type1 High        Tier 3                          2142663  ...      1379.692853\n",
              "Supermarket Type2 Medium      Tier 3                          1851822  ...      1197.815006\n",
              "\n",
              "[9 rows x 4 columns]"
            ]
          },
          "metadata": {
            "tags": []
          },
          "execution_count": 109
        }
      ]
    },
    {
      "cell_type": "markdown",
      "metadata": {
        "id": "6Z0LkvNhIxdy",
        "colab_type": "text"
      },
      "source": [
        "#### How is supermarket type 3 with medium size getting more revenue from a high sized supermarket type 1 with both havin comparable number of stores and being more same Tier 3?\n"
      ]
    },
    {
      "cell_type": "markdown",
      "metadata": {
        "id": "DKDN4Y1rIxd0",
        "colab_type": "text"
      },
      "source": [
        "#### Lets shorlist a dataframe for only tier 3"
      ]
    },
    {
      "cell_type": "code",
      "metadata": {
        "id": "vOIp_dVqIxd3",
        "colab_type": "code",
        "colab": {}
      },
      "source": [
        "df_tier_3 = df[df['Outlet Location Type'] == \"Tier 3\"]"
      ],
      "execution_count": null,
      "outputs": []
    },
    {
      "cell_type": "markdown",
      "metadata": {
        "id": "1g63GU_0IxeG",
        "colab_type": "text"
      },
      "source": [
        "#### Reasoning: Maybe the MRP of the products sold are different. So lets look at the mrp of the products sold in these supermarkets"
      ]
    },
    {
      "cell_type": "code",
      "metadata": {
        "id": "vouY6MvtIxeH",
        "colab_type": "code",
        "colab": {
          "base_uri": "https://localhost:8080/",
          "height": 235
        },
        "outputId": "27d21c91-77a0-47d0-9d9a-1ae340203cf3"
      },
      "source": [
        "pivot = pd.DataFrame(df_tier_3.pivot_table(index = ['Outlet Type', 'Outlet Size'], values = ['Item MRP','Item Outlet Sales'], \n",
        "                               aggfunc = {'mean'})).astype(int)\n",
        "\n",
        "pivot"
      ],
      "execution_count": null,
      "outputs": [
        {
          "output_type": "execute_result",
          "data": {
            "text/html": [
              "<div>\n",
              "<style scoped>\n",
              "    .dataframe tbody tr th:only-of-type {\n",
              "        vertical-align: middle;\n",
              "    }\n",
              "\n",
              "    .dataframe tbody tr th {\n",
              "        vertical-align: top;\n",
              "    }\n",
              "\n",
              "    .dataframe thead tr th {\n",
              "        text-align: left;\n",
              "    }\n",
              "\n",
              "    .dataframe thead tr:last-of-type th {\n",
              "        text-align: right;\n",
              "    }\n",
              "</style>\n",
              "<table border=\"1\" class=\"dataframe\">\n",
              "  <thead>\n",
              "    <tr>\n",
              "      <th></th>\n",
              "      <th></th>\n",
              "      <th>Item MRP</th>\n",
              "      <th>Item Outlet Sales</th>\n",
              "    </tr>\n",
              "    <tr>\n",
              "      <th></th>\n",
              "      <th></th>\n",
              "      <th>mean</th>\n",
              "      <th>mean</th>\n",
              "    </tr>\n",
              "    <tr>\n",
              "      <th>Outlet Type</th>\n",
              "      <th>Outlet Size</th>\n",
              "      <th></th>\n",
              "      <th></th>\n",
              "    </tr>\n",
              "  </thead>\n",
              "  <tbody>\n",
              "    <tr>\n",
              "      <th>Grocery Store</th>\n",
              "      <th>Small</th>\n",
              "      <td>141</td>\n",
              "      <td>339</td>\n",
              "    </tr>\n",
              "    <tr>\n",
              "      <th>Supermarket Type1</th>\n",
              "      <th>High</th>\n",
              "      <td>141</td>\n",
              "      <td>2298</td>\n",
              "    </tr>\n",
              "    <tr>\n",
              "      <th>Supermarket Type2</th>\n",
              "      <th>Medium</th>\n",
              "      <td>141</td>\n",
              "      <td>1995</td>\n",
              "    </tr>\n",
              "    <tr>\n",
              "      <th>Supermarket Type3</th>\n",
              "      <th>Medium</th>\n",
              "      <td>141</td>\n",
              "      <td>3694</td>\n",
              "    </tr>\n",
              "  </tbody>\n",
              "</table>\n",
              "</div>"
            ],
            "text/plain": [
              "                              Item MRP Item Outlet Sales\n",
              "                                  mean              mean\n",
              "Outlet Type       Outlet Size                           \n",
              "Grocery Store     Small            141               339\n",
              "Supermarket Type1 High             141              2298\n",
              "Supermarket Type2 Medium           141              1995\n",
              "Supermarket Type3 Medium           141              3694"
            ]
          },
          "metadata": {
            "tags": []
          },
          "execution_count": 111
        }
      ]
    },
    {
      "cell_type": "markdown",
      "metadata": {
        "id": "p3ErKzbdIxeR",
        "colab_type": "text"
      },
      "source": [
        "#### Here we can see that the average sales for Supermarket Type 3 is the highest and the MRP is also the least. So maybe because of the pricing a medium sized supermarket is getting more sales than high sized one."
      ]
    },
    {
      "cell_type": "markdown",
      "metadata": {
        "id": "eitPFEIJIxeS",
        "colab_type": "text"
      },
      "source": [
        "#### Lets see whether visibility of the products play a role behind this"
      ]
    },
    {
      "cell_type": "code",
      "metadata": {
        "id": "aHQe2OI2IxeT",
        "colab_type": "code",
        "colab": {
          "base_uri": "https://localhost:8080/",
          "height": 258
        },
        "outputId": "9d0ec497-fd87-4dcd-ac82-dedc4776dbce"
      },
      "source": [
        "vis_outlet = pd.DataFrame(df_tier_3.groupby(['Outlet Type','Outlet Size'])['Item Visibility','Item MRP'].mean().astype(float))\n",
        "vis_outlet"
      ],
      "execution_count": null,
      "outputs": [
        {
          "output_type": "stream",
          "text": [
            "/usr/local/lib/python3.6/dist-packages/ipykernel_launcher.py:1: FutureWarning: Indexing with multiple keys (implicitly converted to a tuple of keys) will be deprecated, use a list instead.\n",
            "  \"\"\"Entry point for launching an IPython kernel.\n"
          ],
          "name": "stderr"
        },
        {
          "output_type": "execute_result",
          "data": {
            "text/html": [
              "<div>\n",
              "<style scoped>\n",
              "    .dataframe tbody tr th:only-of-type {\n",
              "        vertical-align: middle;\n",
              "    }\n",
              "\n",
              "    .dataframe tbody tr th {\n",
              "        vertical-align: top;\n",
              "    }\n",
              "\n",
              "    .dataframe thead th {\n",
              "        text-align: right;\n",
              "    }\n",
              "</style>\n",
              "<table border=\"1\" class=\"dataframe\">\n",
              "  <thead>\n",
              "    <tr style=\"text-align: right;\">\n",
              "      <th></th>\n",
              "      <th></th>\n",
              "      <th>Item Visibility</th>\n",
              "      <th>Item MRP</th>\n",
              "    </tr>\n",
              "    <tr>\n",
              "      <th>Outlet Type</th>\n",
              "      <th>Outlet Size</th>\n",
              "      <th></th>\n",
              "      <th></th>\n",
              "    </tr>\n",
              "  </thead>\n",
              "  <tbody>\n",
              "    <tr>\n",
              "      <th>Grocery Store</th>\n",
              "      <th>Small</th>\n",
              "      <td>0.105148</td>\n",
              "      <td>141.159742</td>\n",
              "    </tr>\n",
              "    <tr>\n",
              "      <th>Supermarket Type1</th>\n",
              "      <th>High</th>\n",
              "      <td>0.064122</td>\n",
              "      <td>141.128428</td>\n",
              "    </tr>\n",
              "    <tr>\n",
              "      <th>Supermarket Type2</th>\n",
              "      <th>Medium</th>\n",
              "      <td>0.064272</td>\n",
              "      <td>141.000899</td>\n",
              "    </tr>\n",
              "    <tr>\n",
              "      <th>Supermarket Type3</th>\n",
              "      <th>Medium</th>\n",
              "      <td>0.063780</td>\n",
              "      <td>141.012347</td>\n",
              "    </tr>\n",
              "  </tbody>\n",
              "</table>\n",
              "</div>"
            ],
            "text/plain": [
              "                               Item Visibility    Item MRP\n",
              "Outlet Type       Outlet Size                             \n",
              "Grocery Store     Small               0.105148  141.159742\n",
              "Supermarket Type1 High                0.064122  141.128428\n",
              "Supermarket Type2 Medium              0.064272  141.000899\n",
              "Supermarket Type3 Medium              0.063780  141.012347"
            ]
          },
          "metadata": {
            "tags": []
          },
          "execution_count": 112
        }
      ]
    },
    {
      "cell_type": "code",
      "metadata": {
        "scrolled": true,
        "id": "LFv0CuzYIxeZ",
        "colab_type": "code",
        "colab": {
          "base_uri": "https://localhost:8080/",
          "height": 386
        },
        "outputId": "73a46368-f25c-41ca-9b3c-cafee981dbbb"
      },
      "source": [
        "plt.figure(figsize = (20,8))\n",
        "sb.relplot(x = \"Item Visibility\", y = \"Item Outlet Sales\", hue = \"Outlet Type\", data = df, size = \"Outlet Size\", sizes = (300, 50));"
      ],
      "execution_count": null,
      "outputs": [
        {
          "output_type": "display_data",
          "data": {
            "text/plain": [
              "<Figure size 1440x576 with 0 Axes>"
            ]
          },
          "metadata": {
            "tags": []
          }
        },
        {
          "output_type": "display_data",
          "data": {
            "image/png": "[encoded data removed]",
            "text/plain": [
              "<Figure size 492.5x360 with 1 Axes>"
            ]
          },
          "metadata": {
            "tags": [],
            "needs_background": "light"
          }
        }
      ]
    },
    {
      "cell_type": "markdown",
      "metadata": {
        "id": "v6km56wYIxef",
        "colab_type": "text"
      },
      "source": [
        "#### Here we can see that the visibility of the grocery stores is not corresponding to sales"
      ]
    },
    {
      "cell_type": "markdown",
      "metadata": {
        "id": "IYRlyzW0Ixeg",
        "colab_type": "text"
      },
      "source": [
        "#### This shows the relation between sales and price of the products across the different supermarket types"
      ]
    },
    {
      "cell_type": "markdown",
      "metadata": {
        "id": "qZWdg--6Ixeh",
        "colab_type": "text"
      },
      "source": [
        "#### Looking at the sales of products across the years of Establishment"
      ]
    },
    {
      "cell_type": "code",
      "metadata": {
        "id": "akmtZN35Ixei",
        "colab_type": "code",
        "colab": {
          "base_uri": "https://localhost:8080/",
          "height": 577
        },
        "outputId": "6a831cc4-29dd-495c-8d8e-c643d6f00301"
      },
      "source": [
        "plt.figure(figsize = (20,8))\n",
        "df.groupby('Outlet Establishment Year')['Item Outlet Sales'].sum().plot.bar()\n",
        "plt.xticks(rotation = 45, fontsize = 12)\n",
        "plt.yticks(fontsize = 12)\n",
        "plt.xlabel(\"Outlet Establishment Year\", fontsize = 15)\n",
        "plt.ylabel(\"Total Sales\", fontsize = 15)\n",
        "plt.title(\"Total Sales of Outlets in the Established Year\", fontsize = 18)\n",
        "plt.figure('f')"
      ],
      "execution_count": null,
      "outputs": [
        {
          "output_type": "execute_result",
          "data": {
            "text/plain": [
              "<Figure size 1440x576 with 0 Axes>"
            ]
          },
          "metadata": {
            "tags": []
          },
          "execution_count": 114
        },
        {
          "output_type": "display_data",
          "data": {
            "image/png": "[encoded data removed]",
            "text/plain": [
              "<Figure size 1440x576 with 1 Axes>"
            ]
          },
          "metadata": {
            "tags": [],
            "needs_background": "light"
          }
        },
        {
          "output_type": "display_data",
          "data": {
            "text/plain": [
              "<Figure size 1440x576 with 0 Axes>"
            ]
          },
          "metadata": {
            "tags": []
          }
        }
      ]
    },
    {
      "cell_type": "markdown",
      "metadata": {
        "id": "Ke8_MyklIxep",
        "colab_type": "text"
      },
      "source": [
        "#### Why was there such a drastic fall in 1998?"
      ]
    },
    {
      "cell_type": "code",
      "metadata": {
        "id": "mDFakMr-Ixer",
        "colab_type": "code",
        "colab": {
          "base_uri": "https://localhost:8080/",
          "height": 542
        },
        "outputId": "1864a8b0-59d8-4158-fddc-04f49128f137"
      },
      "source": [
        "plt.figure(figsize = (20,8))\n",
        "df.groupby('Outlet Establishment Year')['Outlet Id'].count().plot.bar()\n",
        "plt.xticks(rotation = 360, fontsize = 12)\n",
        "plt.yticks(fontsize = 12)\n",
        "plt.xlabel(\"Outlet Establishment Year\", fontsize = 15)\n",
        "plt.ylabel(\"Number of outlets established\", fontsize = 15)\n",
        "plt.title(\"Total Number of Outlets Established in Each Year\", fontsize = 18)"
      ],
      "execution_count": null,
      "outputs": [
        {
          "output_type": "execute_result",
          "data": {
            "text/plain": [
              "Text(0.5, 1.0, 'Total Number of Outlets Established in Each Year')"
            ]
          },
          "metadata": {
            "tags": []
          },
          "execution_count": 115
        },
        {
          "output_type": "display_data",
          "data": {
            "image/png": "[encoded data removed]",
            "text/plain": [
              "<Figure size 1440x576 with 1 Axes>"
            ]
          },
          "metadata": {
            "tags": [],
            "needs_background": "light"
          }
        }
      ]
    },
    {
      "cell_type": "markdown",
      "metadata": {
        "id": "Rf4DZo3DIxey",
        "colab_type": "text"
      },
      "source": [
        "#### We can see a drop in the number of outlets which can be a reason of reduced sales"
      ]
    },
    {
      "cell_type": "markdown",
      "metadata": {
        "id": "Lt-1Ziq6Ixez",
        "colab_type": "text"
      },
      "source": [
        "#### Creating a new variable which will show the number of years of the outlet store"
      ]
    },
    {
      "cell_type": "code",
      "metadata": {
        "id": "vhUf0CbhIxe0",
        "colab_type": "code",
        "colab": {
          "base_uri": "https://localhost:8080/",
          "height": 323
        },
        "outputId": "3aeec98d-9f84-4c9a-9363-16f8007d14e4"
      },
      "source": [
        "df['Outlet Tenure'] = 2013 - df['Outlet Establishment Year']\n",
        "df.head()"
      ],
      "execution_count": null,
      "outputs": [
        {
          "output_type": "execute_result",
          "data": {
            "text/html": [
              "<div>\n",
              "<style scoped>\n",
              "    .dataframe tbody tr th:only-of-type {\n",
              "        vertical-align: middle;\n",
              "    }\n",
              "\n",
              "    .dataframe tbody tr th {\n",
              "        vertical-align: top;\n",
              "    }\n",
              "\n",
              "    .dataframe thead th {\n",
              "        text-align: right;\n",
              "    }\n",
              "</style>\n",
              "<table border=\"1\" class=\"dataframe\">\n",
              "  <thead>\n",
              "    <tr style=\"text-align: right;\">\n",
              "      <th></th>\n",
              "      <th>Item Id</th>\n",
              "      <th>Item Weight</th>\n",
              "      <th>Item Fat Content</th>\n",
              "      <th>Item Visibility</th>\n",
              "      <th>Item Sub Category</th>\n",
              "      <th>Item MRP</th>\n",
              "      <th>Outlet Id</th>\n",
              "      <th>Outlet Establishment Year</th>\n",
              "      <th>Outlet Size</th>\n",
              "      <th>Outlet Location Type</th>\n",
              "      <th>Outlet Type</th>\n",
              "      <th>Item Outlet Sales</th>\n",
              "      <th>Data</th>\n",
              "      <th>Item Category</th>\n",
              "      <th>Outlet Tenure</th>\n",
              "    </tr>\n",
              "  </thead>\n",
              "  <tbody>\n",
              "    <tr>\n",
              "      <th>0</th>\n",
              "      <td>FDA15</td>\n",
              "      <td>9.30</td>\n",
              "      <td>Low Fat</td>\n",
              "      <td>0.016047</td>\n",
              "      <td>Dairy</td>\n",
              "      <td>249.8092</td>\n",
              "      <td>OUT049</td>\n",
              "      <td>1999</td>\n",
              "      <td>Medium</td>\n",
              "      <td>Tier 1</td>\n",
              "      <td>Supermarket Type1</td>\n",
              "      <td>3735.1380</td>\n",
              "      <td>Train</td>\n",
              "      <td>Food</td>\n",
              "      <td>14</td>\n",
              "    </tr>\n",
              "    <tr>\n",
              "      <th>1</th>\n",
              "      <td>DRC01</td>\n",
              "      <td>5.92</td>\n",
              "      <td>Regular</td>\n",
              "      <td>0.019278</td>\n",
              "      <td>Soft Drinks</td>\n",
              "      <td>48.2692</td>\n",
              "      <td>OUT018</td>\n",
              "      <td>2009</td>\n",
              "      <td>Medium</td>\n",
              "      <td>Tier 3</td>\n",
              "      <td>Supermarket Type2</td>\n",
              "      <td>443.4228</td>\n",
              "      <td>Train</td>\n",
              "      <td>Drinks</td>\n",
              "      <td>4</td>\n",
              "    </tr>\n",
              "    <tr>\n",
              "      <th>2</th>\n",
              "      <td>FDN15</td>\n",
              "      <td>17.50</td>\n",
              "      <td>Low Fat</td>\n",
              "      <td>0.016760</td>\n",
              "      <td>Meat</td>\n",
              "      <td>141.6180</td>\n",
              "      <td>OUT049</td>\n",
              "      <td>1999</td>\n",
              "      <td>Medium</td>\n",
              "      <td>Tier 1</td>\n",
              "      <td>Supermarket Type1</td>\n",
              "      <td>2097.2700</td>\n",
              "      <td>Train</td>\n",
              "      <td>Food</td>\n",
              "      <td>14</td>\n",
              "    </tr>\n",
              "    <tr>\n",
              "      <th>3</th>\n",
              "      <td>FDX07</td>\n",
              "      <td>19.20</td>\n",
              "      <td>Regular</td>\n",
              "      <td>0.017834</td>\n",
              "      <td>Fruits and Vegetables</td>\n",
              "      <td>182.0950</td>\n",
              "      <td>OUT010</td>\n",
              "      <td>1998</td>\n",
              "      <td>Small</td>\n",
              "      <td>Tier 3</td>\n",
              "      <td>Grocery Store</td>\n",
              "      <td>732.3800</td>\n",
              "      <td>Train</td>\n",
              "      <td>Food</td>\n",
              "      <td>15</td>\n",
              "    </tr>\n",
              "    <tr>\n",
              "      <th>4</th>\n",
              "      <td>NCD19</td>\n",
              "      <td>8.93</td>\n",
              "      <td>Non Edible</td>\n",
              "      <td>0.009780</td>\n",
              "      <td>Household</td>\n",
              "      <td>53.8614</td>\n",
              "      <td>OUT013</td>\n",
              "      <td>1987</td>\n",
              "      <td>High</td>\n",
              "      <td>Tier 3</td>\n",
              "      <td>Supermarket Type1</td>\n",
              "      <td>994.7052</td>\n",
              "      <td>Train</td>\n",
              "      <td>Non Consumable</td>\n",
              "      <td>26</td>\n",
              "    </tr>\n",
              "  </tbody>\n",
              "</table>\n",
              "</div>"
            ],
            "text/plain": [
              "  Item Id  Item Weight Item Fat Content  ...   Data   Item Category  Outlet Tenure\n",
              "0   FDA15         9.30          Low Fat  ...  Train            Food             14\n",
              "1   DRC01         5.92          Regular  ...  Train          Drinks              4\n",
              "2   FDN15        17.50          Low Fat  ...  Train            Food             14\n",
              "3   FDX07        19.20          Regular  ...  Train            Food             15\n",
              "4   NCD19         8.93       Non Edible  ...  Train  Non Consumable             26\n",
              "\n",
              "[5 rows x 15 columns]"
            ]
          },
          "metadata": {
            "tags": []
          },
          "execution_count": 116
        }
      ]
    },
    {
      "cell_type": "markdown",
      "metadata": {
        "id": "6zeaoIJeIxe6",
        "colab_type": "text"
      },
      "source": [
        "#### Lets see if newer stores are getting more sales"
      ]
    },
    {
      "cell_type": "code",
      "metadata": {
        "id": "BM9ir3-0IxfE",
        "colab_type": "code",
        "colab": {
          "base_uri": "https://localhost:8080/",
          "height": 542
        },
        "outputId": "7d8d7978-27d6-4df9-e367-6fee126732e2"
      },
      "source": [
        "plt.figure(figsize = (20,8))\n",
        "sb.scatterplot(x = \"Outlet Tenure\", y = \"Item Outlet Sales\", data = df)\n",
        "plt.xticks(rotation = 360, fontsize = 12)\n",
        "plt.yticks(fontsize = 12)\n",
        "plt.xlabel(\"Outlet Tenure\", fontsize = 15)\n",
        "plt.ylabel(\"Total Sales\", fontsize = 15)\n",
        "plt.title(\"Total Sales VS Tenure\", fontsize = 18)"
      ],
      "execution_count": null,
      "outputs": [
        {
          "output_type": "execute_result",
          "data": {
            "text/plain": [
              "Text(0.5, 1.0, 'Total Sales VS Tenure')"
            ]
          },
          "metadata": {
            "tags": []
          },
          "execution_count": 117
        },
        {
          "output_type": "display_data",
          "data": {
            "image/png": "[encoded data removed]",
            "text/plain": [
              "<Figure size 1440x576 with 1 Axes>"
            ]
          },
          "metadata": {
            "tags": [],
            "needs_background": "light"
          }
        }
      ]
    },
    {
      "cell_type": "markdown",
      "metadata": {
        "id": "xgCjUm1PIxfM",
        "colab_type": "text"
      },
      "source": [
        "#### From here no relationship can be deduced"
      ]
    },
    {
      "cell_type": "markdown",
      "metadata": {
        "id": "Ov3sJ_sgIxfN",
        "colab_type": "text"
      },
      "source": [
        "### Findings from EDA:\n",
        "\n",
        "#### 1. The distribution of sales right skewed which means mostly the sales figure was below 4000 but because of certain outlier sales above 10,000 the distribution mean has shifted towards the right.\n",
        "\n",
        "#### 2. We have 3 Categories of Products Food, Non Consumable and Drinks.Under food we have 11 sub categories and 3 for each of Food and Non Consumable.\n",
        "\n",
        "#### 3. Under Food we have 580 Low Fat items and 539 Regular Items. For Non Consumable there is only 295 Low Fat Items. For Drinks there are 133 Low Fat Items and 12 Regular Items.\n",
        "\n",
        "#### 4. Food Category, Non Consumable and Drinks account for 73%, 18.5% and 8.5% of the total revenue generated\n",
        "\n",
        "#### 5. Within Food, Fruits and Vegetables and Starchy Foods contributed 20% each. For Drinks, Soft Drinks and Hard Drinks contributed 55% and 28% respectively. For Non Consumables Household items and Health items contributed 59% and 30% resepectively.\n",
        "\n",
        "#### 6. In terms of overall revenue Fruits and Vegetables, Snack Foods and Households contributes the highest with 15%, 14% and 11% of total revenue.\n",
        "\n",
        "#### 7. Drinks with low fat are selling more compared to regular drinks.\n",
        "\n",
        "#### 8. Tier 3 with 3350 stores contributes 41% of the total revenue. Tier 2 and 1 has 2785 and 2388 stores and contributes 35% and 24% respectively of the total profit.\n",
        "\n",
        "#### 9. The number of items sold and revenue gained is high for low fat compared to regular items across all the three tiers\n",
        "\n",
        "#### 10. Supermarket Type 1 has the highest number of stores across all the tiers. The number of stores of a particular type in a location is proportional to sales. This can be seen by looking at the sales of Supermarket Type 1 in Tier 1 and 2 which have the highest number of stores and also contributes 23% and 34% respectively.\n",
        "\n",
        "#### 11. The tier 3 medium sized outlets are contributing 28% of total revenue which is more than the high sized outlets in the same tier. They are also generating more revenue compared to small or medium sized outlets in other tiers.\n",
        "\n",
        "#### 12. Same supermarket type 1 is doing diffferently in two tiers 1 and 2. This can be attributed to the number of mid sized stores in the two tiers.\n",
        "\n",
        "#### 13. Supermarket Type 3 having medium sized outlets is generating more revenue than a high sized outlets of Supermarket Type 1 in tier 3. One reason is the average MRP of the products is lower which incentivizes customers to buy more.\n",
        "\n",
        "#### 14. The sales from outlets established in the year 1998 say a fall in the total sales. This can be attributed to the reduced number of stores established in that year"
      ]
    },
    {
      "cell_type": "markdown",
      "metadata": {
        "id": "buFKo4OvIxfP",
        "colab_type": "text"
      },
      "source": [
        "### Modelling"
      ]
    },
    {
      "cell_type": "code",
      "metadata": {
        "id": "j-q1rnypIxfQ",
        "colab_type": "code",
        "colab": {}
      },
      "source": [
        "pd.set_option('display.max_columns', 500)"
      ],
      "execution_count": null,
      "outputs": []
    },
    {
      "cell_type": "code",
      "metadata": {
        "id": "04kETomPIxfX",
        "colab_type": "code",
        "colab": {
          "base_uri": "https://localhost:8080/",
          "height": 343
        },
        "outputId": "31bd71e8-fbea-4e48-d0bf-611d5b8b9745"
      },
      "source": [
        "df['Item Visibility Ratio'] = df['Item Visibility']/(df['Item Visibility'].mean())\n",
        "df.head()"
      ],
      "execution_count": null,
      "outputs": [
        {
          "output_type": "execute_result",
          "data": {
            "text/html": [
              "<div>\n",
              "<style scoped>\n",
              "    .dataframe tbody tr th:only-of-type {\n",
              "        vertical-align: middle;\n",
              "    }\n",
              "\n",
              "    .dataframe tbody tr th {\n",
              "        vertical-align: top;\n",
              "    }\n",
              "\n",
              "    .dataframe thead th {\n",
              "        text-align: right;\n",
              "    }\n",
              "</style>\n",
              "<table border=\"1\" class=\"dataframe\">\n",
              "  <thead>\n",
              "    <tr style=\"text-align: right;\">\n",
              "      <th></th>\n",
              "      <th>Item Id</th>\n",
              "      <th>Item Weight</th>\n",
              "      <th>Item Fat Content</th>\n",
              "      <th>Item Visibility</th>\n",
              "      <th>Item Sub Category</th>\n",
              "      <th>Item MRP</th>\n",
              "      <th>Outlet Id</th>\n",
              "      <th>Outlet Establishment Year</th>\n",
              "      <th>Outlet Size</th>\n",
              "      <th>Outlet Location Type</th>\n",
              "      <th>Outlet Type</th>\n",
              "      <th>Item Outlet Sales</th>\n",
              "      <th>Data</th>\n",
              "      <th>Item Category</th>\n",
              "      <th>Outlet Tenure</th>\n",
              "      <th>Item Visibility Ratio</th>\n",
              "    </tr>\n",
              "  </thead>\n",
              "  <tbody>\n",
              "    <tr>\n",
              "      <th>0</th>\n",
              "      <td>FDA15</td>\n",
              "      <td>9.30</td>\n",
              "      <td>Low Fat</td>\n",
              "      <td>0.016047</td>\n",
              "      <td>Dairy</td>\n",
              "      <td>249.8092</td>\n",
              "      <td>OUT049</td>\n",
              "      <td>1999</td>\n",
              "      <td>Medium</td>\n",
              "      <td>Tier 1</td>\n",
              "      <td>Supermarket Type1</td>\n",
              "      <td>3735.1380</td>\n",
              "      <td>Train</td>\n",
              "      <td>Food</td>\n",
              "      <td>14</td>\n",
              "      <td>0.230202</td>\n",
              "    </tr>\n",
              "    <tr>\n",
              "      <th>1</th>\n",
              "      <td>DRC01</td>\n",
              "      <td>5.92</td>\n",
              "      <td>Regular</td>\n",
              "      <td>0.019278</td>\n",
              "      <td>Soft Drinks</td>\n",
              "      <td>48.2692</td>\n",
              "      <td>OUT018</td>\n",
              "      <td>2009</td>\n",
              "      <td>Medium</td>\n",
              "      <td>Tier 3</td>\n",
              "      <td>Supermarket Type2</td>\n",
              "      <td>443.4228</td>\n",
              "      <td>Train</td>\n",
              "      <td>Drinks</td>\n",
              "      <td>4</td>\n",
              "      <td>0.276550</td>\n",
              "    </tr>\n",
              "    <tr>\n",
              "      <th>2</th>\n",
              "      <td>FDN15</td>\n",
              "      <td>17.50</td>\n",
              "      <td>Low Fat</td>\n",
              "      <td>0.016760</td>\n",
              "      <td>Meat</td>\n",
              "      <td>141.6180</td>\n",
              "      <td>OUT049</td>\n",
              "      <td>1999</td>\n",
              "      <td>Medium</td>\n",
              "      <td>Tier 1</td>\n",
              "      <td>Supermarket Type1</td>\n",
              "      <td>2097.2700</td>\n",
              "      <td>Train</td>\n",
              "      <td>Food</td>\n",
              "      <td>14</td>\n",
              "      <td>0.240427</td>\n",
              "    </tr>\n",
              "    <tr>\n",
              "      <th>3</th>\n",
              "      <td>FDX07</td>\n",
              "      <td>19.20</td>\n",
              "      <td>Regular</td>\n",
              "      <td>0.017834</td>\n",
              "      <td>Fruits and Vegetables</td>\n",
              "      <td>182.0950</td>\n",
              "      <td>OUT010</td>\n",
              "      <td>1998</td>\n",
              "      <td>Small</td>\n",
              "      <td>Tier 3</td>\n",
              "      <td>Grocery Store</td>\n",
              "      <td>732.3800</td>\n",
              "      <td>Train</td>\n",
              "      <td>Food</td>\n",
              "      <td>15</td>\n",
              "      <td>0.255838</td>\n",
              "    </tr>\n",
              "    <tr>\n",
              "      <th>4</th>\n",
              "      <td>NCD19</td>\n",
              "      <td>8.93</td>\n",
              "      <td>Non Edible</td>\n",
              "      <td>0.009780</td>\n",
              "      <td>Household</td>\n",
              "      <td>53.8614</td>\n",
              "      <td>OUT013</td>\n",
              "      <td>1987</td>\n",
              "      <td>High</td>\n",
              "      <td>Tier 3</td>\n",
              "      <td>Supermarket Type1</td>\n",
              "      <td>994.7052</td>\n",
              "      <td>Train</td>\n",
              "      <td>Non Consumable</td>\n",
              "      <td>26</td>\n",
              "      <td>0.140294</td>\n",
              "    </tr>\n",
              "  </tbody>\n",
              "</table>\n",
              "</div>"
            ],
            "text/plain": [
              "  Item Id  Item Weight Item Fat Content  Item Visibility  \\\n",
              "0   FDA15         9.30          Low Fat         0.016047   \n",
              "1   DRC01         5.92          Regular         0.019278   \n",
              "2   FDN15        17.50          Low Fat         0.016760   \n",
              "3   FDX07        19.20          Regular         0.017834   \n",
              "4   NCD19         8.93       Non Edible         0.009780   \n",
              "\n",
              "       Item Sub Category  Item MRP Outlet Id  Outlet Establishment Year  \\\n",
              "0                  Dairy  249.8092    OUT049                       1999   \n",
              "1            Soft Drinks   48.2692    OUT018                       2009   \n",
              "2                   Meat  141.6180    OUT049                       1999   \n",
              "3  Fruits and Vegetables  182.0950    OUT010                       1998   \n",
              "4              Household   53.8614    OUT013                       1987   \n",
              "\n",
              "  Outlet Size Outlet Location Type        Outlet Type  Item Outlet Sales  \\\n",
              "0      Medium               Tier 1  Supermarket Type1          3735.1380   \n",
              "1      Medium               Tier 3  Supermarket Type2           443.4228   \n",
              "2      Medium               Tier 1  Supermarket Type1          2097.2700   \n",
              "3       Small               Tier 3      Grocery Store           732.3800   \n",
              "4        High               Tier 3  Supermarket Type1           994.7052   \n",
              "\n",
              "    Data   Item Category  Outlet Tenure  Item Visibility Ratio  \n",
              "0  Train            Food             14               0.230202  \n",
              "1  Train          Drinks              4               0.276550  \n",
              "2  Train            Food             14               0.240427  \n",
              "3  Train            Food             15               0.255838  \n",
              "4  Train  Non Consumable             26               0.140294  "
            ]
          },
          "metadata": {
            "tags": []
          },
          "execution_count": 119
        }
      ]
    },
    {
      "cell_type": "code",
      "metadata": {
        "id": "Hv-aqczdIxfm",
        "colab_type": "code",
        "colab": {
          "base_uri": "https://localhost:8080/",
          "height": 323
        },
        "outputId": "01c9a919-0587-4e00-af64-783a08254b2c"
      },
      "source": [
        "df = df.drop(['Outlet Id','Item Id'], axis = 1)\n",
        "df.head()"
      ],
      "execution_count": null,
      "outputs": [
        {
          "output_type": "execute_result",
          "data": {
            "text/html": [
              "<div>\n",
              "<style scoped>\n",
              "    .dataframe tbody tr th:only-of-type {\n",
              "        vertical-align: middle;\n",
              "    }\n",
              "\n",
              "    .dataframe tbody tr th {\n",
              "        vertical-align: top;\n",
              "    }\n",
              "\n",
              "    .dataframe thead th {\n",
              "        text-align: right;\n",
              "    }\n",
              "</style>\n",
              "<table border=\"1\" class=\"dataframe\">\n",
              "  <thead>\n",
              "    <tr style=\"text-align: right;\">\n",
              "      <th></th>\n",
              "      <th>Item Weight</th>\n",
              "      <th>Item Fat Content</th>\n",
              "      <th>Item Visibility</th>\n",
              "      <th>Item Sub Category</th>\n",
              "      <th>Item MRP</th>\n",
              "      <th>Outlet Establishment Year</th>\n",
              "      <th>Outlet Size</th>\n",
              "      <th>Outlet Location Type</th>\n",
              "      <th>Outlet Type</th>\n",
              "      <th>Item Outlet Sales</th>\n",
              "      <th>Data</th>\n",
              "      <th>Item Category</th>\n",
              "      <th>Outlet Tenure</th>\n",
              "      <th>Item Visibility Ratio</th>\n",
              "    </tr>\n",
              "  </thead>\n",
              "  <tbody>\n",
              "    <tr>\n",
              "      <th>0</th>\n",
              "      <td>9.30</td>\n",
              "      <td>Low Fat</td>\n",
              "      <td>0.016047</td>\n",
              "      <td>Dairy</td>\n",
              "      <td>249.8092</td>\n",
              "      <td>1999</td>\n",
              "      <td>Medium</td>\n",
              "      <td>Tier 1</td>\n",
              "      <td>Supermarket Type1</td>\n",
              "      <td>3735.1380</td>\n",
              "      <td>Train</td>\n",
              "      <td>Food</td>\n",
              "      <td>14</td>\n",
              "      <td>0.230202</td>\n",
              "    </tr>\n",
              "    <tr>\n",
              "      <th>1</th>\n",
              "      <td>5.92</td>\n",
              "      <td>Regular</td>\n",
              "      <td>0.019278</td>\n",
              "      <td>Soft Drinks</td>\n",
              "      <td>48.2692</td>\n",
              "      <td>2009</td>\n",
              "      <td>Medium</td>\n",
              "      <td>Tier 3</td>\n",
              "      <td>Supermarket Type2</td>\n",
              "      <td>443.4228</td>\n",
              "      <td>Train</td>\n",
              "      <td>Drinks</td>\n",
              "      <td>4</td>\n",
              "      <td>0.276550</td>\n",
              "    </tr>\n",
              "    <tr>\n",
              "      <th>2</th>\n",
              "      <td>17.50</td>\n",
              "      <td>Low Fat</td>\n",
              "      <td>0.016760</td>\n",
              "      <td>Meat</td>\n",
              "      <td>141.6180</td>\n",
              "      <td>1999</td>\n",
              "      <td>Medium</td>\n",
              "      <td>Tier 1</td>\n",
              "      <td>Supermarket Type1</td>\n",
              "      <td>2097.2700</td>\n",
              "      <td>Train</td>\n",
              "      <td>Food</td>\n",
              "      <td>14</td>\n",
              "      <td>0.240427</td>\n",
              "    </tr>\n",
              "    <tr>\n",
              "      <th>3</th>\n",
              "      <td>19.20</td>\n",
              "      <td>Regular</td>\n",
              "      <td>0.017834</td>\n",
              "      <td>Fruits and Vegetables</td>\n",
              "      <td>182.0950</td>\n",
              "      <td>1998</td>\n",
              "      <td>Small</td>\n",
              "      <td>Tier 3</td>\n",
              "      <td>Grocery Store</td>\n",
              "      <td>732.3800</td>\n",
              "      <td>Train</td>\n",
              "      <td>Food</td>\n",
              "      <td>15</td>\n",
              "      <td>0.255838</td>\n",
              "    </tr>\n",
              "    <tr>\n",
              "      <th>4</th>\n",
              "      <td>8.93</td>\n",
              "      <td>Non Edible</td>\n",
              "      <td>0.009780</td>\n",
              "      <td>Household</td>\n",
              "      <td>53.8614</td>\n",
              "      <td>1987</td>\n",
              "      <td>High</td>\n",
              "      <td>Tier 3</td>\n",
              "      <td>Supermarket Type1</td>\n",
              "      <td>994.7052</td>\n",
              "      <td>Train</td>\n",
              "      <td>Non Consumable</td>\n",
              "      <td>26</td>\n",
              "      <td>0.140294</td>\n",
              "    </tr>\n",
              "  </tbody>\n",
              "</table>\n",
              "</div>"
            ],
            "text/plain": [
              "   Item Weight Item Fat Content  Item Visibility      Item Sub Category  \\\n",
              "0         9.30          Low Fat         0.016047                  Dairy   \n",
              "1         5.92          Regular         0.019278            Soft Drinks   \n",
              "2        17.50          Low Fat         0.016760                   Meat   \n",
              "3        19.20          Regular         0.017834  Fruits and Vegetables   \n",
              "4         8.93       Non Edible         0.009780              Household   \n",
              "\n",
              "   Item MRP  Outlet Establishment Year Outlet Size Outlet Location Type  \\\n",
              "0  249.8092                       1999      Medium               Tier 1   \n",
              "1   48.2692                       2009      Medium               Tier 3   \n",
              "2  141.6180                       1999      Medium               Tier 1   \n",
              "3  182.0950                       1998       Small               Tier 3   \n",
              "4   53.8614                       1987        High               Tier 3   \n",
              "\n",
              "         Outlet Type  Item Outlet Sales   Data   Item Category  Outlet Tenure  \\\n",
              "0  Supermarket Type1          3735.1380  Train            Food             14   \n",
              "1  Supermarket Type2           443.4228  Train          Drinks              4   \n",
              "2  Supermarket Type1          2097.2700  Train            Food             14   \n",
              "3      Grocery Store           732.3800  Train            Food             15   \n",
              "4  Supermarket Type1           994.7052  Train  Non Consumable             26   \n",
              "\n",
              "   Item Visibility Ratio  \n",
              "0               0.230202  \n",
              "1               0.276550  \n",
              "2               0.240427  \n",
              "3               0.255838  \n",
              "4               0.140294  "
            ]
          },
          "metadata": {
            "tags": []
          },
          "execution_count": 120
        }
      ]
    },
    {
      "cell_type": "code",
      "metadata": {
        "id": "Er-kWUQFIxfw",
        "colab_type": "code",
        "colab": {}
      },
      "source": [
        "df['Item Fat Content'] = df['Item Fat Content'].map({'Non Edible': 0,'Low Fat': 1, 'Regular': 2})"
      ],
      "execution_count": null,
      "outputs": []
    },
    {
      "cell_type": "code",
      "metadata": {
        "id": "X0STkFCJIxf-",
        "colab_type": "code",
        "colab": {}
      },
      "source": [
        "df['Outlet Location Type'] = df['Outlet Location Type'].map({'Tier 1': 0,'Tier 2': 1, 'Tier 3': 2})"
      ],
      "execution_count": null,
      "outputs": []
    },
    {
      "cell_type": "code",
      "metadata": {
        "id": "hTMXElQIIxgG",
        "colab_type": "code",
        "colab": {}
      },
      "source": [
        "df['Outlet Size'] = df['Outlet Size'].map({'Small': 0,'Medium': 1, 'High': 2})"
      ],
      "execution_count": null,
      "outputs": []
    },
    {
      "cell_type": "code",
      "metadata": {
        "id": "Sl-7nmaFIxgM",
        "colab_type": "code",
        "colab": {
          "base_uri": "https://localhost:8080/",
          "height": 323
        },
        "outputId": "8d8d32fc-fb09-49b0-b144-f184034f4fb7"
      },
      "source": [
        "df.head()"
      ],
      "execution_count": null,
      "outputs": [
        {
          "output_type": "execute_result",
          "data": {
            "text/html": [
              "<div>\n",
              "<style scoped>\n",
              "    .dataframe tbody tr th:only-of-type {\n",
              "        vertical-align: middle;\n",
              "    }\n",
              "\n",
              "    .dataframe tbody tr th {\n",
              "        vertical-align: top;\n",
              "    }\n",
              "\n",
              "    .dataframe thead th {\n",
              "        text-align: right;\n",
              "    }\n",
              "</style>\n",
              "<table border=\"1\" class=\"dataframe\">\n",
              "  <thead>\n",
              "    <tr style=\"text-align: right;\">\n",
              "      <th></th>\n",
              "      <th>Item Weight</th>\n",
              "      <th>Item Fat Content</th>\n",
              "      <th>Item Visibility</th>\n",
              "      <th>Item Sub Category</th>\n",
              "      <th>Item MRP</th>\n",
              "      <th>Outlet Establishment Year</th>\n",
              "      <th>Outlet Size</th>\n",
              "      <th>Outlet Location Type</th>\n",
              "      <th>Outlet Type</th>\n",
              "      <th>Item Outlet Sales</th>\n",
              "      <th>Data</th>\n",
              "      <th>Item Category</th>\n",
              "      <th>Outlet Tenure</th>\n",
              "      <th>Item Visibility Ratio</th>\n",
              "    </tr>\n",
              "  </thead>\n",
              "  <tbody>\n",
              "    <tr>\n",
              "      <th>0</th>\n",
              "      <td>9.30</td>\n",
              "      <td>1</td>\n",
              "      <td>0.016047</td>\n",
              "      <td>Dairy</td>\n",
              "      <td>249.8092</td>\n",
              "      <td>1999</td>\n",
              "      <td>1</td>\n",
              "      <td>0</td>\n",
              "      <td>Supermarket Type1</td>\n",
              "      <td>3735.1380</td>\n",
              "      <td>Train</td>\n",
              "      <td>Food</td>\n",
              "      <td>14</td>\n",
              "      <td>0.230202</td>\n",
              "    </tr>\n",
              "    <tr>\n",
              "      <th>1</th>\n",
              "      <td>5.92</td>\n",
              "      <td>2</td>\n",
              "      <td>0.019278</td>\n",
              "      <td>Soft Drinks</td>\n",
              "      <td>48.2692</td>\n",
              "      <td>2009</td>\n",
              "      <td>1</td>\n",
              "      <td>2</td>\n",
              "      <td>Supermarket Type2</td>\n",
              "      <td>443.4228</td>\n",
              "      <td>Train</td>\n",
              "      <td>Drinks</td>\n",
              "      <td>4</td>\n",
              "      <td>0.276550</td>\n",
              "    </tr>\n",
              "    <tr>\n",
              "      <th>2</th>\n",
              "      <td>17.50</td>\n",
              "      <td>1</td>\n",
              "      <td>0.016760</td>\n",
              "      <td>Meat</td>\n",
              "      <td>141.6180</td>\n",
              "      <td>1999</td>\n",
              "      <td>1</td>\n",
              "      <td>0</td>\n",
              "      <td>Supermarket Type1</td>\n",
              "      <td>2097.2700</td>\n",
              "      <td>Train</td>\n",
              "      <td>Food</td>\n",
              "      <td>14</td>\n",
              "      <td>0.240427</td>\n",
              "    </tr>\n",
              "    <tr>\n",
              "      <th>3</th>\n",
              "      <td>19.20</td>\n",
              "      <td>2</td>\n",
              "      <td>0.017834</td>\n",
              "      <td>Fruits and Vegetables</td>\n",
              "      <td>182.0950</td>\n",
              "      <td>1998</td>\n",
              "      <td>0</td>\n",
              "      <td>2</td>\n",
              "      <td>Grocery Store</td>\n",
              "      <td>732.3800</td>\n",
              "      <td>Train</td>\n",
              "      <td>Food</td>\n",
              "      <td>15</td>\n",
              "      <td>0.255838</td>\n",
              "    </tr>\n",
              "    <tr>\n",
              "      <th>4</th>\n",
              "      <td>8.93</td>\n",
              "      <td>0</td>\n",
              "      <td>0.009780</td>\n",
              "      <td>Household</td>\n",
              "      <td>53.8614</td>\n",
              "      <td>1987</td>\n",
              "      <td>2</td>\n",
              "      <td>2</td>\n",
              "      <td>Supermarket Type1</td>\n",
              "      <td>994.7052</td>\n",
              "      <td>Train</td>\n",
              "      <td>Non Consumable</td>\n",
              "      <td>26</td>\n",
              "      <td>0.140294</td>\n",
              "    </tr>\n",
              "  </tbody>\n",
              "</table>\n",
              "</div>"
            ],
            "text/plain": [
              "   Item Weight  Item Fat Content  Item Visibility      Item Sub Category  \\\n",
              "0         9.30                 1         0.016047                  Dairy   \n",
              "1         5.92                 2         0.019278            Soft Drinks   \n",
              "2        17.50                 1         0.016760                   Meat   \n",
              "3        19.20                 2         0.017834  Fruits and Vegetables   \n",
              "4         8.93                 0         0.009780              Household   \n",
              "\n",
              "   Item MRP  Outlet Establishment Year  Outlet Size  Outlet Location Type  \\\n",
              "0  249.8092                       1999            1                     0   \n",
              "1   48.2692                       2009            1                     2   \n",
              "2  141.6180                       1999            1                     0   \n",
              "3  182.0950                       1998            0                     2   \n",
              "4   53.8614                       1987            2                     2   \n",
              "\n",
              "         Outlet Type  Item Outlet Sales   Data   Item Category  Outlet Tenure  \\\n",
              "0  Supermarket Type1          3735.1380  Train            Food             14   \n",
              "1  Supermarket Type2           443.4228  Train          Drinks              4   \n",
              "2  Supermarket Type1          2097.2700  Train            Food             14   \n",
              "3      Grocery Store           732.3800  Train            Food             15   \n",
              "4  Supermarket Type1           994.7052  Train  Non Consumable             26   \n",
              "\n",
              "   Item Visibility Ratio  \n",
              "0               0.230202  \n",
              "1               0.276550  \n",
              "2               0.240427  \n",
              "3               0.255838  \n",
              "4               0.140294  "
            ]
          },
          "metadata": {
            "tags": []
          },
          "execution_count": 124
        }
      ]
    },
    {
      "cell_type": "code",
      "metadata": {
        "id": "0LPjqCr1IxgR",
        "colab_type": "code",
        "colab": {
          "base_uri": "https://localhost:8080/",
          "height": 258
        },
        "outputId": "4a4c2b7e-bf51-4650-f297-23b73cafd474"
      },
      "source": [
        "df = pd.get_dummies(df, columns = ['Item Category', 'Item Sub Category', 'Outlet Type'], drop_first = True)\n",
        "df.head()"
      ],
      "execution_count": null,
      "outputs": [
        {
          "output_type": "execute_result",
          "data": {
            "text/html": [
              "<div>\n",
              "<style scoped>\n",
              "    .dataframe tbody tr th:only-of-type {\n",
              "        vertical-align: middle;\n",
              "    }\n",
              "\n",
              "    .dataframe tbody tr th {\n",
              "        vertical-align: top;\n",
              "    }\n",
              "\n",
              "    .dataframe thead th {\n",
              "        text-align: right;\n",
              "    }\n",
              "</style>\n",
              "<table border=\"1\" class=\"dataframe\">\n",
              "  <thead>\n",
              "    <tr style=\"text-align: right;\">\n",
              "      <th></th>\n",
              "      <th>Item Weight</th>\n",
              "      <th>Item Fat Content</th>\n",
              "      <th>Item Visibility</th>\n",
              "      <th>Item MRP</th>\n",
              "      <th>Outlet Establishment Year</th>\n",
              "      <th>Outlet Size</th>\n",
              "      <th>Outlet Location Type</th>\n",
              "      <th>Item Outlet Sales</th>\n",
              "      <th>Data</th>\n",
              "      <th>Outlet Tenure</th>\n",
              "      <th>Item Visibility Ratio</th>\n",
              "      <th>Item Category_Food</th>\n",
              "      <th>Item Category_Non Consumable</th>\n",
              "      <th>Item Sub Category_Breads</th>\n",
              "      <th>Item Sub Category_Breakfast</th>\n",
              "      <th>Item Sub Category_Canned</th>\n",
              "      <th>Item Sub Category_Dairy</th>\n",
              "      <th>Item Sub Category_Frozen Foods</th>\n",
              "      <th>Item Sub Category_Fruits and Vegetables</th>\n",
              "      <th>Item Sub Category_Hard Drinks</th>\n",
              "      <th>Item Sub Category_Health and Hygiene</th>\n",
              "      <th>Item Sub Category_Household</th>\n",
              "      <th>Item Sub Category_Meat</th>\n",
              "      <th>Item Sub Category_Others</th>\n",
              "      <th>Item Sub Category_Seafood</th>\n",
              "      <th>Item Sub Category_Snack Foods</th>\n",
              "      <th>Item Sub Category_Soft Drinks</th>\n",
              "      <th>Item Sub Category_Starchy Foods</th>\n",
              "      <th>Outlet Type_Supermarket Type1</th>\n",
              "      <th>Outlet Type_Supermarket Type2</th>\n",
              "      <th>Outlet Type_Supermarket Type3</th>\n",
              "    </tr>\n",
              "  </thead>\n",
              "  <tbody>\n",
              "    <tr>\n",
              "      <th>0</th>\n",
              "      <td>9.30</td>\n",
              "      <td>1</td>\n",
              "      <td>0.016047</td>\n",
              "      <td>249.8092</td>\n",
              "      <td>1999</td>\n",
              "      <td>1</td>\n",
              "      <td>0</td>\n",
              "      <td>3735.1380</td>\n",
              "      <td>Train</td>\n",
              "      <td>14</td>\n",
              "      <td>0.230202</td>\n",
              "      <td>1</td>\n",
              "      <td>0</td>\n",
              "      <td>0</td>\n",
              "      <td>0</td>\n",
              "      <td>0</td>\n",
              "      <td>1</td>\n",
              "      <td>0</td>\n",
              "      <td>0</td>\n",
              "      <td>0</td>\n",
              "      <td>0</td>\n",
              "      <td>0</td>\n",
              "      <td>0</td>\n",
              "      <td>0</td>\n",
              "      <td>0</td>\n",
              "      <td>0</td>\n",
              "      <td>0</td>\n",
              "      <td>0</td>\n",
              "      <td>1</td>\n",
              "      <td>0</td>\n",
              "      <td>0</td>\n",
              "    </tr>\n",
              "    <tr>\n",
              "      <th>1</th>\n",
              "      <td>5.92</td>\n",
              "      <td>2</td>\n",
              "      <td>0.019278</td>\n",
              "      <td>48.2692</td>\n",
              "      <td>2009</td>\n",
              "      <td>1</td>\n",
              "      <td>2</td>\n",
              "      <td>443.4228</td>\n",
              "      <td>Train</td>\n",
              "      <td>4</td>\n",
              "      <td>0.276550</td>\n",
              "      <td>0</td>\n",
              "      <td>0</td>\n",
              "      <td>0</td>\n",
              "      <td>0</td>\n",
              "      <td>0</td>\n",
              "      <td>0</td>\n",
              "      <td>0</td>\n",
              "      <td>0</td>\n",
              "      <td>0</td>\n",
              "      <td>0</td>\n",
              "      <td>0</td>\n",
              "      <td>0</td>\n",
              "      <td>0</td>\n",
              "      <td>0</td>\n",
              "      <td>0</td>\n",
              "      <td>1</td>\n",
              "      <td>0</td>\n",
              "      <td>0</td>\n",
              "      <td>1</td>\n",
              "      <td>0</td>\n",
              "    </tr>\n",
              "    <tr>\n",
              "      <th>2</th>\n",
              "      <td>17.50</td>\n",
              "      <td>1</td>\n",
              "      <td>0.016760</td>\n",
              "      <td>141.6180</td>\n",
              "      <td>1999</td>\n",
              "      <td>1</td>\n",
              "      <td>0</td>\n",
              "      <td>2097.2700</td>\n",
              "      <td>Train</td>\n",
              "      <td>14</td>\n",
              "      <td>0.240427</td>\n",
              "      <td>1</td>\n",
              "      <td>0</td>\n",
              "      <td>0</td>\n",
              "      <td>0</td>\n",
              "      <td>0</td>\n",
              "      <td>0</td>\n",
              "      <td>0</td>\n",
              "      <td>0</td>\n",
              "      <td>0</td>\n",
              "      <td>0</td>\n",
              "      <td>0</td>\n",
              "      <td>1</td>\n",
              "      <td>0</td>\n",
              "      <td>0</td>\n",
              "      <td>0</td>\n",
              "      <td>0</td>\n",
              "      <td>0</td>\n",
              "      <td>1</td>\n",
              "      <td>0</td>\n",
              "      <td>0</td>\n",
              "    </tr>\n",
              "    <tr>\n",
              "      <th>3</th>\n",
              "      <td>19.20</td>\n",
              "      <td>2</td>\n",
              "      <td>0.017834</td>\n",
              "      <td>182.0950</td>\n",
              "      <td>1998</td>\n",
              "      <td>0</td>\n",
              "      <td>2</td>\n",
              "      <td>732.3800</td>\n",
              "      <td>Train</td>\n",
              "      <td>15</td>\n",
              "      <td>0.255838</td>\n",
              "      <td>1</td>\n",
              "      <td>0</td>\n",
              "      <td>0</td>\n",
              "      <td>0</td>\n",
              "      <td>0</td>\n",
              "      <td>0</td>\n",
              "      <td>0</td>\n",
              "      <td>1</td>\n",
              "      <td>0</td>\n",
              "      <td>0</td>\n",
              "      <td>0</td>\n",
              "      <td>0</td>\n",
              "      <td>0</td>\n",
              "      <td>0</td>\n",
              "      <td>0</td>\n",
              "      <td>0</td>\n",
              "      <td>0</td>\n",
              "      <td>0</td>\n",
              "      <td>0</td>\n",
              "      <td>0</td>\n",
              "    </tr>\n",
              "    <tr>\n",
              "      <th>4</th>\n",
              "      <td>8.93</td>\n",
              "      <td>0</td>\n",
              "      <td>0.009780</td>\n",
              "      <td>53.8614</td>\n",
              "      <td>1987</td>\n",
              "      <td>2</td>\n",
              "      <td>2</td>\n",
              "      <td>994.7052</td>\n",
              "      <td>Train</td>\n",
              "      <td>26</td>\n",
              "      <td>0.140294</td>\n",
              "      <td>0</td>\n",
              "      <td>1</td>\n",
              "      <td>0</td>\n",
              "      <td>0</td>\n",
              "      <td>0</td>\n",
              "      <td>0</td>\n",
              "      <td>0</td>\n",
              "      <td>0</td>\n",
              "      <td>0</td>\n",
              "      <td>0</td>\n",
              "      <td>1</td>\n",
              "      <td>0</td>\n",
              "      <td>0</td>\n",
              "      <td>0</td>\n",
              "      <td>0</td>\n",
              "      <td>0</td>\n",
              "      <td>0</td>\n",
              "      <td>1</td>\n",
              "      <td>0</td>\n",
              "      <td>0</td>\n",
              "    </tr>\n",
              "  </tbody>\n",
              "</table>\n",
              "</div>"
            ],
            "text/plain": [
              "   Item Weight  Item Fat Content  Item Visibility  Item MRP  \\\n",
              "0         9.30                 1         0.016047  249.8092   \n",
              "1         5.92                 2         0.019278   48.2692   \n",
              "2        17.50                 1         0.016760  141.6180   \n",
              "3        19.20                 2         0.017834  182.0950   \n",
              "4         8.93                 0         0.009780   53.8614   \n",
              "\n",
              "   Outlet Establishment Year  Outlet Size  Outlet Location Type  \\\n",
              "0                       1999            1                     0   \n",
              "1                       2009            1                     2   \n",
              "2                       1999            1                     0   \n",
              "3                       1998            0                     2   \n",
              "4                       1987            2                     2   \n",
              "\n",
              "   Item Outlet Sales   Data  Outlet Tenure  Item Visibility Ratio  \\\n",
              "0          3735.1380  Train             14               0.230202   \n",
              "1           443.4228  Train              4               0.276550   \n",
              "2          2097.2700  Train             14               0.240427   \n",
              "3           732.3800  Train             15               0.255838   \n",
              "4           994.7052  Train             26               0.140294   \n",
              "\n",
              "   Item Category_Food  Item Category_Non Consumable  Item Sub Category_Breads  \\\n",
              "0                   1                             0                         0   \n",
              "1                   0                             0                         0   \n",
              "2                   1                             0                         0   \n",
              "3                   1                             0                         0   \n",
              "4                   0                             1                         0   \n",
              "\n",
              "   Item Sub Category_Breakfast  Item Sub Category_Canned  \\\n",
              "0                            0                         0   \n",
              "1                            0                         0   \n",
              "2                            0                         0   \n",
              "3                            0                         0   \n",
              "4                            0                         0   \n",
              "\n",
              "   Item Sub Category_Dairy  Item Sub Category_Frozen Foods  \\\n",
              "0                        1                               0   \n",
              "1                        0                               0   \n",
              "2                        0                               0   \n",
              "3                        0                               0   \n",
              "4                        0                               0   \n",
              "\n",
              "   Item Sub Category_Fruits and Vegetables  Item Sub Category_Hard Drinks  \\\n",
              "0                                        0                              0   \n",
              "1                                        0                              0   \n",
              "2                                        0                              0   \n",
              "3                                        1                              0   \n",
              "4                                        0                              0   \n",
              "\n",
              "   Item Sub Category_Health and Hygiene  Item Sub Category_Household  \\\n",
              "0                                     0                            0   \n",
              "1                                     0                            0   \n",
              "2                                     0                            0   \n",
              "3                                     0                            0   \n",
              "4                                     0                            1   \n",
              "\n",
              "   Item Sub Category_Meat  Item Sub Category_Others  \\\n",
              "0                       0                         0   \n",
              "1                       0                         0   \n",
              "2                       1                         0   \n",
              "3                       0                         0   \n",
              "4                       0                         0   \n",
              "\n",
              "   Item Sub Category_Seafood  Item Sub Category_Snack Foods  \\\n",
              "0                          0                              0   \n",
              "1                          0                              0   \n",
              "2                          0                              0   \n",
              "3                          0                              0   \n",
              "4                          0                              0   \n",
              "\n",
              "   Item Sub Category_Soft Drinks  Item Sub Category_Starchy Foods  \\\n",
              "0                              0                                0   \n",
              "1                              1                                0   \n",
              "2                              0                                0   \n",
              "3                              0                                0   \n",
              "4                              0                                0   \n",
              "\n",
              "   Outlet Type_Supermarket Type1  Outlet Type_Supermarket Type2  \\\n",
              "0                              1                              0   \n",
              "1                              0                              1   \n",
              "2                              1                              0   \n",
              "3                              0                              0   \n",
              "4                              1                              0   \n",
              "\n",
              "   Outlet Type_Supermarket Type3  \n",
              "0                              0  \n",
              "1                              0  \n",
              "2                              0  \n",
              "3                              0  \n",
              "4                              0  "
            ]
          },
          "metadata": {
            "tags": []
          },
          "execution_count": 125
        }
      ]
    },
    {
      "cell_type": "code",
      "metadata": {
        "id": "3pfpdUmHIxgX",
        "colab_type": "code",
        "colab": {
          "base_uri": "https://localhost:8080/",
          "height": 258
        },
        "outputId": "ff61148c-2449-42ce-9640-b0659ed74ac9"
      },
      "source": [
        "training_dataset = df[df['Data'] == \"Train\"]\n",
        "new_dataset = df[df['Data'] == \"Test\"]\n",
        "training_dataset.head()"
      ],
      "execution_count": null,
      "outputs": [
        {
          "output_type": "execute_result",
          "data": {
            "text/html": [
              "<div>\n",
              "<style scoped>\n",
              "    .dataframe tbody tr th:only-of-type {\n",
              "        vertical-align: middle;\n",
              "    }\n",
              "\n",
              "    .dataframe tbody tr th {\n",
              "        vertical-align: top;\n",
              "    }\n",
              "\n",
              "    .dataframe thead th {\n",
              "        text-align: right;\n",
              "    }\n",
              "</style>\n",
              "<table border=\"1\" class=\"dataframe\">\n",
              "  <thead>\n",
              "    <tr style=\"text-align: right;\">\n",
              "      <th></th>\n",
              "      <th>Item Weight</th>\n",
              "      <th>Item Fat Content</th>\n",
              "      <th>Item Visibility</th>\n",
              "      <th>Item MRP</th>\n",
              "      <th>Outlet Establishment Year</th>\n",
              "      <th>Outlet Size</th>\n",
              "      <th>Outlet Location Type</th>\n",
              "      <th>Item Outlet Sales</th>\n",
              "      <th>Data</th>\n",
              "      <th>Outlet Tenure</th>\n",
              "      <th>Item Visibility Ratio</th>\n",
              "      <th>Item Category_Food</th>\n",
              "      <th>Item Category_Non Consumable</th>\n",
              "      <th>Item Sub Category_Breads</th>\n",
              "      <th>Item Sub Category_Breakfast</th>\n",
              "      <th>Item Sub Category_Canned</th>\n",
              "      <th>Item Sub Category_Dairy</th>\n",
              "      <th>Item Sub Category_Frozen Foods</th>\n",
              "      <th>Item Sub Category_Fruits and Vegetables</th>\n",
              "      <th>Item Sub Category_Hard Drinks</th>\n",
              "      <th>Item Sub Category_Health and Hygiene</th>\n",
              "      <th>Item Sub Category_Household</th>\n",
              "      <th>Item Sub Category_Meat</th>\n",
              "      <th>Item Sub Category_Others</th>\n",
              "      <th>Item Sub Category_Seafood</th>\n",
              "      <th>Item Sub Category_Snack Foods</th>\n",
              "      <th>Item Sub Category_Soft Drinks</th>\n",
              "      <th>Item Sub Category_Starchy Foods</th>\n",
              "      <th>Outlet Type_Supermarket Type1</th>\n",
              "      <th>Outlet Type_Supermarket Type2</th>\n",
              "      <th>Outlet Type_Supermarket Type3</th>\n",
              "    </tr>\n",
              "  </thead>\n",
              "  <tbody>\n",
              "    <tr>\n",
              "      <th>0</th>\n",
              "      <td>9.30</td>\n",
              "      <td>1</td>\n",
              "      <td>0.016047</td>\n",
              "      <td>249.8092</td>\n",
              "      <td>1999</td>\n",
              "      <td>1</td>\n",
              "      <td>0</td>\n",
              "      <td>3735.1380</td>\n",
              "      <td>Train</td>\n",
              "      <td>14</td>\n",
              "      <td>0.230202</td>\n",
              "      <td>1</td>\n",
              "      <td>0</td>\n",
              "      <td>0</td>\n",
              "      <td>0</td>\n",
              "      <td>0</td>\n",
              "      <td>1</td>\n",
              "      <td>0</td>\n",
              "      <td>0</td>\n",
              "      <td>0</td>\n",
              "      <td>0</td>\n",
              "      <td>0</td>\n",
              "      <td>0</td>\n",
              "      <td>0</td>\n",
              "      <td>0</td>\n",
              "      <td>0</td>\n",
              "      <td>0</td>\n",
              "      <td>0</td>\n",
              "      <td>1</td>\n",
              "      <td>0</td>\n",
              "      <td>0</td>\n",
              "    </tr>\n",
              "    <tr>\n",
              "      <th>1</th>\n",
              "      <td>5.92</td>\n",
              "      <td>2</td>\n",
              "      <td>0.019278</td>\n",
              "      <td>48.2692</td>\n",
              "      <td>2009</td>\n",
              "      <td>1</td>\n",
              "      <td>2</td>\n",
              "      <td>443.4228</td>\n",
              "      <td>Train</td>\n",
              "      <td>4</td>\n",
              "      <td>0.276550</td>\n",
              "      <td>0</td>\n",
              "      <td>0</td>\n",
              "      <td>0</td>\n",
              "      <td>0</td>\n",
              "      <td>0</td>\n",
              "      <td>0</td>\n",
              "      <td>0</td>\n",
              "      <td>0</td>\n",
              "      <td>0</td>\n",
              "      <td>0</td>\n",
              "      <td>0</td>\n",
              "      <td>0</td>\n",
              "      <td>0</td>\n",
              "      <td>0</td>\n",
              "      <td>0</td>\n",
              "      <td>1</td>\n",
              "      <td>0</td>\n",
              "      <td>0</td>\n",
              "      <td>1</td>\n",
              "      <td>0</td>\n",
              "    </tr>\n",
              "    <tr>\n",
              "      <th>2</th>\n",
              "      <td>17.50</td>\n",
              "      <td>1</td>\n",
              "      <td>0.016760</td>\n",
              "      <td>141.6180</td>\n",
              "      <td>1999</td>\n",
              "      <td>1</td>\n",
              "      <td>0</td>\n",
              "      <td>2097.2700</td>\n",
              "      <td>Train</td>\n",
              "      <td>14</td>\n",
              "      <td>0.240427</td>\n",
              "      <td>1</td>\n",
              "      <td>0</td>\n",
              "      <td>0</td>\n",
              "      <td>0</td>\n",
              "      <td>0</td>\n",
              "      <td>0</td>\n",
              "      <td>0</td>\n",
              "      <td>0</td>\n",
              "      <td>0</td>\n",
              "      <td>0</td>\n",
              "      <td>0</td>\n",
              "      <td>1</td>\n",
              "      <td>0</td>\n",
              "      <td>0</td>\n",
              "      <td>0</td>\n",
              "      <td>0</td>\n",
              "      <td>0</td>\n",
              "      <td>1</td>\n",
              "      <td>0</td>\n",
              "      <td>0</td>\n",
              "    </tr>\n",
              "    <tr>\n",
              "      <th>3</th>\n",
              "      <td>19.20</td>\n",
              "      <td>2</td>\n",
              "      <td>0.017834</td>\n",
              "      <td>182.0950</td>\n",
              "      <td>1998</td>\n",
              "      <td>0</td>\n",
              "      <td>2</td>\n",
              "      <td>732.3800</td>\n",
              "      <td>Train</td>\n",
              "      <td>15</td>\n",
              "      <td>0.255838</td>\n",
              "      <td>1</td>\n",
              "      <td>0</td>\n",
              "      <td>0</td>\n",
              "      <td>0</td>\n",
              "      <td>0</td>\n",
              "      <td>0</td>\n",
              "      <td>0</td>\n",
              "      <td>1</td>\n",
              "      <td>0</td>\n",
              "      <td>0</td>\n",
              "      <td>0</td>\n",
              "      <td>0</td>\n",
              "      <td>0</td>\n",
              "      <td>0</td>\n",
              "      <td>0</td>\n",
              "      <td>0</td>\n",
              "      <td>0</td>\n",
              "      <td>0</td>\n",
              "      <td>0</td>\n",
              "      <td>0</td>\n",
              "    </tr>\n",
              "    <tr>\n",
              "      <th>4</th>\n",
              "      <td>8.93</td>\n",
              "      <td>0</td>\n",
              "      <td>0.009780</td>\n",
              "      <td>53.8614</td>\n",
              "      <td>1987</td>\n",
              "      <td>2</td>\n",
              "      <td>2</td>\n",
              "      <td>994.7052</td>\n",
              "      <td>Train</td>\n",
              "      <td>26</td>\n",
              "      <td>0.140294</td>\n",
              "      <td>0</td>\n",
              "      <td>1</td>\n",
              "      <td>0</td>\n",
              "      <td>0</td>\n",
              "      <td>0</td>\n",
              "      <td>0</td>\n",
              "      <td>0</td>\n",
              "      <td>0</td>\n",
              "      <td>0</td>\n",
              "      <td>0</td>\n",
              "      <td>1</td>\n",
              "      <td>0</td>\n",
              "      <td>0</td>\n",
              "      <td>0</td>\n",
              "      <td>0</td>\n",
              "      <td>0</td>\n",
              "      <td>0</td>\n",
              "      <td>1</td>\n",
              "      <td>0</td>\n",
              "      <td>0</td>\n",
              "    </tr>\n",
              "  </tbody>\n",
              "</table>\n",
              "</div>"
            ],
            "text/plain": [
              "   Item Weight  Item Fat Content  Item Visibility  Item MRP  \\\n",
              "0         9.30                 1         0.016047  249.8092   \n",
              "1         5.92                 2         0.019278   48.2692   \n",
              "2        17.50                 1         0.016760  141.6180   \n",
              "3        19.20                 2         0.017834  182.0950   \n",
              "4         8.93                 0         0.009780   53.8614   \n",
              "\n",
              "   Outlet Establishment Year  Outlet Size  Outlet Location Type  \\\n",
              "0                       1999            1                     0   \n",
              "1                       2009            1                     2   \n",
              "2                       1999            1                     0   \n",
              "3                       1998            0                     2   \n",
              "4                       1987            2                     2   \n",
              "\n",
              "   Item Outlet Sales   Data  Outlet Tenure  Item Visibility Ratio  \\\n",
              "0          3735.1380  Train             14               0.230202   \n",
              "1           443.4228  Train              4               0.276550   \n",
              "2          2097.2700  Train             14               0.240427   \n",
              "3           732.3800  Train             15               0.255838   \n",
              "4           994.7052  Train             26               0.140294   \n",
              "\n",
              "   Item Category_Food  Item Category_Non Consumable  Item Sub Category_Breads  \\\n",
              "0                   1                             0                         0   \n",
              "1                   0                             0                         0   \n",
              "2                   1                             0                         0   \n",
              "3                   1                             0                         0   \n",
              "4                   0                             1                         0   \n",
              "\n",
              "   Item Sub Category_Breakfast  Item Sub Category_Canned  \\\n",
              "0                            0                         0   \n",
              "1                            0                         0   \n",
              "2                            0                         0   \n",
              "3                            0                         0   \n",
              "4                            0                         0   \n",
              "\n",
              "   Item Sub Category_Dairy  Item Sub Category_Frozen Foods  \\\n",
              "0                        1                               0   \n",
              "1                        0                               0   \n",
              "2                        0                               0   \n",
              "3                        0                               0   \n",
              "4                        0                               0   \n",
              "\n",
              "   Item Sub Category_Fruits and Vegetables  Item Sub Category_Hard Drinks  \\\n",
              "0                                        0                              0   \n",
              "1                                        0                              0   \n",
              "2                                        0                              0   \n",
              "3                                        1                              0   \n",
              "4                                        0                              0   \n",
              "\n",
              "   Item Sub Category_Health and Hygiene  Item Sub Category_Household  \\\n",
              "0                                     0                            0   \n",
              "1                                     0                            0   \n",
              "2                                     0                            0   \n",
              "3                                     0                            0   \n",
              "4                                     0                            1   \n",
              "\n",
              "   Item Sub Category_Meat  Item Sub Category_Others  \\\n",
              "0                       0                         0   \n",
              "1                       0                         0   \n",
              "2                       1                         0   \n",
              "3                       0                         0   \n",
              "4                       0                         0   \n",
              "\n",
              "   Item Sub Category_Seafood  Item Sub Category_Snack Foods  \\\n",
              "0                          0                              0   \n",
              "1                          0                              0   \n",
              "2                          0                              0   \n",
              "3                          0                              0   \n",
              "4                          0                              0   \n",
              "\n",
              "   Item Sub Category_Soft Drinks  Item Sub Category_Starchy Foods  \\\n",
              "0                              0                                0   \n",
              "1                              1                                0   \n",
              "2                              0                                0   \n",
              "3                              0                                0   \n",
              "4                              0                                0   \n",
              "\n",
              "   Outlet Type_Supermarket Type1  Outlet Type_Supermarket Type2  \\\n",
              "0                              1                              0   \n",
              "1                              0                              1   \n",
              "2                              1                              0   \n",
              "3                              0                              0   \n",
              "4                              1                              0   \n",
              "\n",
              "   Outlet Type_Supermarket Type3  \n",
              "0                              0  \n",
              "1                              0  \n",
              "2                              0  \n",
              "3                              0  \n",
              "4                              0  "
            ]
          },
          "metadata": {
            "tags": []
          },
          "execution_count": 126
        }
      ]
    },
    {
      "cell_type": "code",
      "metadata": {
        "id": "y_tlMJupIxgm",
        "colab_type": "code",
        "colab": {}
      },
      "source": [
        "X = training_dataset.iloc[:,[0,1,2,3,5,6,9,10,11,12,13,14,15,16,17,18,19,20,21,22,23,24,25,26,27,28,29,30]].values\n",
        "y = training_dataset.iloc[:,7:8].values"
      ],
      "execution_count": null,
      "outputs": []
    },
    {
      "cell_type": "code",
      "metadata": {
        "id": "NtVKPdHYIxgx",
        "colab_type": "code",
        "colab": {}
      },
      "source": [
        "from sklearn.model_selection import train_test_split\n",
        "X_train, X_test, y_train, y_test = train_test_split(X, y, test_size = 0.2)"
      ],
      "execution_count": null,
      "outputs": []
    },
    {
      "cell_type": "code",
      "metadata": {
        "id": "_TA0AshaIxg4",
        "colab_type": "code",
        "colab": {}
      },
      "source": [
        "from sklearn.preprocessing import MinMaxScaler\n",
        "sc = MinMaxScaler()\n",
        "X_train = sc.fit_transform(X_train)\n",
        "X_test = sc.fit_transform(X_test)"
      ],
      "execution_count": null,
      "outputs": []
    },
    {
      "cell_type": "markdown",
      "metadata": {
        "id": "ASslNclQIxhD",
        "colab_type": "text"
      },
      "source": [
        "#### Applying the linear regression model to the dataset"
      ]
    },
    {
      "cell_type": "code",
      "metadata": {
        "id": "TVtN55tbIxhF",
        "colab_type": "code",
        "colab": {
          "base_uri": "https://localhost:8080/",
          "height": 34
        },
        "outputId": "ddb8f904-1220-4251-bc55-29ebaa4f3d0a"
      },
      "source": [
        "from sklearn.linear_model import LinearRegression\n",
        "reg = LinearRegression()\n",
        "reg.fit(X_train, y_train)"
      ],
      "execution_count": null,
      "outputs": [
        {
          "output_type": "execute_result",
          "data": {
            "text/plain": [
              "LinearRegression(copy_X=True, fit_intercept=True, n_jobs=None, normalize=False)"
            ]
          },
          "metadata": {
            "tags": []
          },
          "execution_count": 255
        }
      ]
    },
    {
      "cell_type": "code",
      "metadata": {
        "id": "_RGoIpB8IxhM",
        "colab_type": "code",
        "colab": {}
      },
      "source": [
        "y_pred_lin = reg.predict(X_test)"
      ],
      "execution_count": null,
      "outputs": []
    },
    {
      "cell_type": "code",
      "metadata": {
        "id": "YKuHsLHBIxhU",
        "colab_type": "code",
        "colab": {
          "base_uri": "https://localhost:8080/",
          "height": 51
        },
        "outputId": "5794aa73-eacf-4b83-cf45-693e08ccc0de"
      },
      "source": [
        "from sklearn.metrics import mean_squared_error\n",
        "from math import sqrt\n",
        "\n",
        "mean_squared_error = mean_squared_error(y_test, y_pred_lin)\n",
        "root_mean_squared_error = np.round(sqrt(mean_squared_error), 2)\n",
        "\n",
        "print(\"For the model Linear Regression model: \")\n",
        "print(\"The root mean squared error is : {}\".format(root_mean_squared_error))"
      ],
      "execution_count": null,
      "outputs": [
        {
          "output_type": "stream",
          "text": [
            "For the model Linear Regression model: \n",
            "The root mean squared error is : 1120.19\n"
          ],
          "name": "stdout"
        }
      ]
    },
    {
      "cell_type": "code",
      "metadata": {
        "id": "hY5VyIk7SBfJ",
        "colab_type": "code",
        "colab": {
          "base_uri": "https://localhost:8080/",
          "height": 519
        },
        "outputId": "c505ab28-7ff3-4392-ecf9-7f315132e844"
      },
      "source": [
        "coef1 = pd.Series(reg.coef_[0])\n",
        "coef1.plot(kind='bar', title='Model Coefficients')"
      ],
      "execution_count": null,
      "outputs": [
        {
          "output_type": "execute_result",
          "data": {
            "text/plain": [
              "<matplotlib.axes._subplots.AxesSubplot at 0x7f8dedb0abe0>"
            ]
          },
          "metadata": {
            "tags": []
          },
          "execution_count": 258
        },
        {
          "output_type": "display_data",
          "data": {
            "image/png": "[encoded data removed]",
            "text/plain": [
              "<Figure size 1440x576 with 1 Axes>"
            ]
          },
          "metadata": {
            "tags": [],
            "needs_background": "light"
          }
        }
      ]
    },
    {
      "cell_type": "markdown",
      "metadata": {
        "id": "Vd1MXUUcTRG3",
        "colab_type": "text"
      },
      "source": [
        "####We can see very high feature importance for the three supermarket types and the item MRP."
      ]
    },
    {
      "cell_type": "markdown",
      "metadata": {
        "id": "zx5hhcJ4T478",
        "colab_type": "text"
      },
      "source": [
        "#### Applying Ridge Regression"
      ]
    },
    {
      "cell_type": "code",
      "metadata": {
        "id": "RtUAGnuQT6lY",
        "colab_type": "code",
        "colab": {
          "base_uri": "https://localhost:8080/",
          "height": 51
        },
        "outputId": "5fab7ce8-8693-4d59-805c-243176fec28a"
      },
      "source": [
        "from sklearn.linear_model import Ridge\n",
        "ridge = Ridge(alpha = 0.05, normalize = True)\n",
        "ridge.fit(X_train, y_train)"
      ],
      "execution_count": null,
      "outputs": [
        {
          "output_type": "execute_result",
          "data": {
            "text/plain": [
              "Ridge(alpha=0.05, copy_X=True, fit_intercept=True, max_iter=None,\n",
              "      normalize=True, random_state=None, solver='auto', tol=0.001)"
            ]
          },
          "metadata": {
            "tags": []
          },
          "execution_count": 259
        }
      ]
    },
    {
      "cell_type": "markdown",
      "metadata": {
        "id": "iI7iiOvMUbDK",
        "colab_type": "text"
      },
      "source": [
        "####Predicting the results of the test set"
      ]
    },
    {
      "cell_type": "code",
      "metadata": {
        "id": "E_i7xgiPUfn9",
        "colab_type": "code",
        "colab": {}
      },
      "source": [
        "y_pred_ridge = ridge.predict(X_test)"
      ],
      "execution_count": null,
      "outputs": []
    },
    {
      "cell_type": "code",
      "metadata": {
        "id": "bB6mlrEGUfRC",
        "colab_type": "code",
        "colab": {
          "base_uri": "https://localhost:8080/",
          "height": 51
        },
        "outputId": "598b1271-3384-4ccb-b77e-221f2c562ed8"
      },
      "source": [
        "from sklearn.metrics import mean_squared_error\n",
        "from math import sqrt\n",
        "\n",
        "mean_squared_error = mean_squared_error(y_test, y_pred_ridge)\n",
        "root_mean_squared_error = np.round(sqrt(mean_squared_error), 2)\n",
        "\n",
        "print(\"For the Ridge Regression model: \")\n",
        "print(\"The root mean squared error is : {}\".format(root_mean_squared_error))"
      ],
      "execution_count": null,
      "outputs": [
        {
          "output_type": "stream",
          "text": [
            "For the Ridge Regression model: \n",
            "The root mean squared error is : 1125.01\n"
          ],
          "name": "stdout"
        }
      ]
    },
    {
      "cell_type": "markdown",
      "metadata": {
        "id": "PNE32lveIxhZ",
        "colab_type": "text"
      },
      "source": [
        "#### Applying polynomial regression"
      ]
    },
    {
      "cell_type": "code",
      "metadata": {
        "id": "lVOY3PMTIxha",
        "colab_type": "code",
        "colab": {
          "base_uri": "https://localhost:8080/",
          "height": 34
        },
        "outputId": "bf28f424-e778-4c62-a3b6-5e6e99fdb0e8"
      },
      "source": [
        "from sklearn.preprocessing import PolynomialFeatures\n",
        "poly_reg = PolynomialFeatures(degree = 2)\n",
        "X_poly_train = poly_reg.fit_transform(X_train)\n",
        "poly_reg.fit(X_poly_train, y_train)\n",
        "pol_lin_reg = LinearRegression()\n",
        "pol_lin_reg.fit(X_poly_train, y_train)"
      ],
      "execution_count": null,
      "outputs": [
        {
          "output_type": "execute_result",
          "data": {
            "text/plain": [
              "LinearRegression(copy_X=True, fit_intercept=True, n_jobs=None, normalize=False)"
            ]
          },
          "metadata": {
            "tags": []
          },
          "execution_count": 262
        }
      ]
    },
    {
      "cell_type": "markdown",
      "metadata": {
        "id": "MrqDLkDFIxhf",
        "colab_type": "text"
      },
      "source": [
        "#### Predicting for test set"
      ]
    },
    {
      "cell_type": "code",
      "metadata": {
        "id": "8m6V_OSUIxhg",
        "colab_type": "code",
        "colab": {}
      },
      "source": [
        "X_poly_test = poly_reg.fit_transform(X_test)\n",
        "y_pred_poly = pol_lin_reg.predict(X_poly_test)"
      ],
      "execution_count": null,
      "outputs": []
    },
    {
      "cell_type": "code",
      "metadata": {
        "id": "e7tX4k6SIxht",
        "colab_type": "code",
        "colab": {
          "base_uri": "https://localhost:8080/",
          "height": 51
        },
        "outputId": "f4cf573d-eb42-4e0d-def0-3c689f89dc4c"
      },
      "source": [
        "from sklearn.metrics import mean_squared_error\n",
        "from math import sqrt\n",
        "\n",
        "mean_squared_error = mean_squared_error(y_test, y_pred_poly)\n",
        "root_mean_squared_error = np.round(sqrt(mean_squared_error), 2)\n",
        "\n",
        "print(\"For the Polynomial Regression model: \")\n",
        "print(\"The root mean squared error is : {}\".format(root_mean_squared_error))"
      ],
      "execution_count": null,
      "outputs": [
        {
          "output_type": "stream",
          "text": [
            "For the Polynomial Regression model: \n",
            "The root mean squared error is : 1084.36\n"
          ],
          "name": "stdout"
        }
      ]
    },
    {
      "cell_type": "markdown",
      "metadata": {
        "id": "rn3dwTtCIxib",
        "colab_type": "text"
      },
      "source": [
        "#### Applying Random Forest "
      ]
    },
    {
      "cell_type": "code",
      "metadata": {
        "id": "KuushKmuIxij",
        "colab_type": "code",
        "colab": {
          "base_uri": "https://localhost:8080/",
          "height": 136
        },
        "outputId": "a5202c82-f0a8-4496-8888-c18f04497369"
      },
      "source": [
        "from sklearn.ensemble import RandomForestRegressor\n",
        "rf = RandomForestRegressor()\n",
        "rf.fit(X_train, y_train.ravel())"
      ],
      "execution_count": null,
      "outputs": [
        {
          "output_type": "execute_result",
          "data": {
            "text/plain": [
              "RandomForestRegressor(bootstrap=True, ccp_alpha=0.0, criterion='mse',\n",
              "                      max_depth=None, max_features='auto', max_leaf_nodes=None,\n",
              "                      max_samples=None, min_impurity_decrease=0.0,\n",
              "                      min_impurity_split=None, min_samples_leaf=1,\n",
              "                      min_samples_split=2, min_weight_fraction_leaf=0.0,\n",
              "                      n_estimators=100, n_jobs=None, oob_score=False,\n",
              "                      random_state=None, verbose=0, warm_start=False)"
            ]
          },
          "metadata": {
            "tags": []
          },
          "execution_count": 265
        }
      ]
    },
    {
      "cell_type": "markdown",
      "metadata": {
        "id": "wRiGcOjnIxir",
        "colab_type": "text"
      },
      "source": [
        "#### Predicting for test set"
      ]
    },
    {
      "cell_type": "code",
      "metadata": {
        "id": "kv34xXg0Ixit",
        "colab_type": "code",
        "colab": {}
      },
      "source": [
        "y_pred_rf = rf.predict(X_test)"
      ],
      "execution_count": null,
      "outputs": []
    },
    {
      "cell_type": "code",
      "metadata": {
        "id": "DvflviASIxi5",
        "colab_type": "code",
        "colab": {
          "base_uri": "https://localhost:8080/",
          "height": 51
        },
        "outputId": "f7bee9f5-0f39-40a2-8a8b-23ea199aebbc"
      },
      "source": [
        "from sklearn.metrics import mean_squared_error\n",
        "from math import sqrt\n",
        "\n",
        "mean_squared_error = mean_squared_error(y_test, y_pred_rf)\n",
        "root_mean_squared_error = np.round(sqrt(mean_squared_error), 2)\n",
        "\n",
        "print(\"For the Random Forest Regression model: \")\n",
        "print(\"The root mean squared error is : {}\".format(root_mean_squared_error))"
      ],
      "execution_count": null,
      "outputs": [
        {
          "output_type": "stream",
          "text": [
            "For the Random Forest Regression model: \n",
            "The root mean squared error is : 1139.99\n"
          ],
          "name": "stdout"
        }
      ]
    },
    {
      "cell_type": "markdown",
      "metadata": {
        "id": "0w_xUePoZwPV",
        "colab_type": "text"
      },
      "source": [
        "####Applying XGBoost Regressor"
      ]
    },
    {
      "cell_type": "code",
      "metadata": {
        "id": "vhWNjEcRIxjk",
        "colab_type": "code",
        "colab": {
          "base_uri": "https://localhost:8080/",
          "height": 153
        },
        "outputId": "cd14c597-7fb7-432f-8787-c914e5859ed4"
      },
      "source": [
        "from xgboost.sklearn import XGBRegressor\n",
        "XGB = XGBRegressor()\n",
        "XGB.fit(X_train, y_train)"
      ],
      "execution_count": null,
      "outputs": [
        {
          "output_type": "stream",
          "text": [
            "[08:05:54] WARNING: /workspace/src/objective/regression_obj.cu:152: reg:linear is now deprecated in favor of reg:squarederror.\n"
          ],
          "name": "stdout"
        },
        {
          "output_type": "execute_result",
          "data": {
            "text/plain": [
              "XGBRegressor(base_score=0.5, booster='gbtree', colsample_bylevel=1,\n",
              "             colsample_bynode=1, colsample_bytree=1, gamma=0,\n",
              "             importance_type='gain', learning_rate=0.1, max_delta_step=0,\n",
              "             max_depth=3, min_child_weight=1, missing=None, n_estimators=100,\n",
              "             n_jobs=1, nthread=None, objective='reg:linear', random_state=0,\n",
              "             reg_alpha=0, reg_lambda=1, scale_pos_weight=1, seed=None,\n",
              "             silent=None, subsample=1, verbosity=1)"
            ]
          },
          "metadata": {
            "tags": []
          },
          "execution_count": 268
        }
      ]
    },
    {
      "cell_type": "markdown",
      "metadata": {
        "id": "lV8yadH_Z8Q-",
        "colab_type": "text"
      },
      "source": [
        "####Predicting for test set"
      ]
    },
    {
      "cell_type": "code",
      "metadata": {
        "id": "0tnEug0NIxjo",
        "colab_type": "code",
        "colab": {}
      },
      "source": [
        "y_pred_xgb = XGB.predict(X_test)"
      ],
      "execution_count": null,
      "outputs": []
    },
    {
      "cell_type": "code",
      "metadata": {
        "id": "C4tVYEKqIxjt",
        "colab_type": "code",
        "colab": {
          "base_uri": "https://localhost:8080/",
          "height": 51
        },
        "outputId": "dfc5a105-39a1-45e3-d663-257cf3f49594"
      },
      "source": [
        "from sklearn.metrics import mean_squared_error\n",
        "from math import sqrt\n",
        "\n",
        "mean_squared_error = mean_squared_error(y_test, y_pred_xgb)\n",
        "root_mean_squared_error = np.round(sqrt(mean_squared_error), 2)\n",
        "\n",
        "print(\"For the XGBoost Regression model: \")\n",
        "print(\"The root mean squared error is : {}\".format(root_mean_squared_error))"
      ],
      "execution_count": null,
      "outputs": [
        {
          "output_type": "stream",
          "text": [
            "For the XGBoost Regression model: \n",
            "The root mean squared error is : 1077.82\n"
          ],
          "name": "stdout"
        }
      ]
    },
    {
      "cell_type": "markdown",
      "metadata": {
        "id": "_KACEwlXdVC3",
        "colab_type": "text"
      },
      "source": [
        "####Comparing the models"
      ]
    },
    {
      "cell_type": "code",
      "metadata": {
        "id": "cZHXP1OvIxjy",
        "colab_type": "code",
        "colab": {
          "base_uri": "https://localhost:8080/",
          "height": 204
        },
        "outputId": "dd38eea7-6227-4ba2-e14a-b806a72ba49c"
      },
      "source": [
        "acc = [['Linear Regression', 1120], ['Ridge Regression', 1125], ['Polynomial Regression', 1084], ['Random Forest Regression', 1139], ['XGBoost Regression', 1077]] \n",
        "  \n",
        "# Create the pandas DataFrame \n",
        "model_acc = pd.DataFrame(acc, columns = ['Model', 'RMSE']).sort_values(ascending = True, by = 'RMSE')\n",
        "model_acc"
      ],
      "execution_count": null,
      "outputs": [
        {
          "output_type": "execute_result",
          "data": {
            "text/html": [
              "<div>\n",
              "<style scoped>\n",
              "    .dataframe tbody tr th:only-of-type {\n",
              "        vertical-align: middle;\n",
              "    }\n",
              "\n",
              "    .dataframe tbody tr th {\n",
              "        vertical-align: top;\n",
              "    }\n",
              "\n",
              "    .dataframe thead th {\n",
              "        text-align: right;\n",
              "    }\n",
              "</style>\n",
              "<table border=\"1\" class=\"dataframe\">\n",
              "  <thead>\n",
              "    <tr style=\"text-align: right;\">\n",
              "      <th></th>\n",
              "      <th>Model</th>\n",
              "      <th>RMSE</th>\n",
              "    </tr>\n",
              "  </thead>\n",
              "  <tbody>\n",
              "    <tr>\n",
              "      <th>4</th>\n",
              "      <td>XGBoost Regression</td>\n",
              "      <td>1077</td>\n",
              "    </tr>\n",
              "    <tr>\n",
              "      <th>2</th>\n",
              "      <td>Polynomial Regression</td>\n",
              "      <td>1084</td>\n",
              "    </tr>\n",
              "    <tr>\n",
              "      <th>0</th>\n",
              "      <td>Linear Regression</td>\n",
              "      <td>1120</td>\n",
              "    </tr>\n",
              "    <tr>\n",
              "      <th>1</th>\n",
              "      <td>Ridge Regression</td>\n",
              "      <td>1125</td>\n",
              "    </tr>\n",
              "    <tr>\n",
              "      <th>3</th>\n",
              "      <td>Random Forest Regression</td>\n",
              "      <td>1139</td>\n",
              "    </tr>\n",
              "  </tbody>\n",
              "</table>\n",
              "</div>"
            ],
            "text/plain": [
              "                      Model  RMSE\n",
              "4        XGBoost Regression  1077\n",
              "2     Polynomial Regression  1084\n",
              "0         Linear Regression  1120\n",
              "1          Ridge Regression  1125\n",
              "3  Random Forest Regression  1139"
            ]
          },
          "metadata": {
            "tags": []
          },
          "execution_count": 275
        }
      ]
    },
    {
      "cell_type": "markdown",
      "metadata": {
        "id": "aMCAanSBee6B",
        "colab_type": "text"
      },
      "source": [
        "####The XGBoost regressor had the least RMSE value on the test set"
      ]
    }
  ]
}